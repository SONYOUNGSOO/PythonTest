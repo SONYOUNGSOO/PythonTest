{
  "nbformat": 4,
  "nbformat_minor": 0,
  "metadata": {
    "colab": {
      "name": "lambda.ipynb",
      "provenance": [],
      "authorship_tag": "ABX9TyMm3OQ4+u5lTvAPveTW0eWo",
      "include_colab_link": true
    },
    "kernelspec": {
      "name": "python3",
      "display_name": "Python 3"
    },
    "language_info": {
      "name": "python"
    }
  },
  "cells": [
    {
      "cell_type": "markdown",
      "metadata": {
        "id": "view-in-github",
        "colab_type": "text"
      },
      "source": [
        "<a href=\"https://colab.research.google.com/github/SONYOUNGSOO/PythonTest/blob/main/lambda.ipynb\" target=\"_parent\"><img src=\"https://colab.research.google.com/assets/colab-badge.svg\" alt=\"Open In Colab\"/></a>"
      ]
    },
    {
      "cell_type": "markdown",
      "metadata": {
        "id": "aITUtMsyViSc"
      },
      "source": [
        "#함수, *lambda*"
      ]
    },
    {
      "cell_type": "code",
      "metadata": {
        "id": "mVUI2Zr8ZCPu"
      },
      "source": [
        "stationfares= [\n",
        "               {\"station\": \"청량리\", \"fare\":1500},\n",
        "               {\"station\": \"성북\", \"fare\":1800},\n",
        "               {\"station\": \"의정부\", \"fare\":2000},\n",
        "               {\"station\": \"소요산\", \"fare\":2500}\n",
        "]"
      ],
      "execution_count": 40,
      "outputs": []
    },
    {
      "cell_type": "code",
      "metadata": {
        "id": "9BSwUfxrZI6X"
      },
      "source": [
        "stations = []\n",
        "fares = []"
      ],
      "execution_count": 45,
      "outputs": []
    },
    {
      "cell_type": "code",
      "metadata": {
        "colab": {
          "base_uri": "https://localhost:8080/"
        },
        "id": "J1KgSSf1ZFGJ",
        "outputId": "998341d8-8a6b-4c6d-e4f4-77695641cf0b"
      },
      "source": [
        "for stationfare in stationfares:\n",
        "    stations.append(stationfare['station'])\n",
        "    fares.append(stationfare['fare'])\n",
        "print(stations)\n",
        "print(fares)"
      ],
      "execution_count": 46,
      "outputs": [
        {
          "output_type": "stream",
          "text": [
            "['청량리', '성북', '의정부', '소요산']\n",
            "[1500, 1800, 2000, 2500]\n"
          ],
          "name": "stdout"
        }
      ]
    },
    {
      "cell_type": "code",
      "metadata": {
        "colab": {
          "base_uri": "https://localhost:8080/"
        },
        "id": "BK7t3eL9Zhqo",
        "outputId": "9feb2251-dadc-47b3-c410-a99f593a5a16"
      },
      "source": [
        "len(stationfares)"
      ],
      "execution_count": 47,
      "outputs": [
        {
          "output_type": "execute_result",
          "data": {
            "text/plain": [
              "4"
            ]
          },
          "metadata": {
            "tags": []
          },
          "execution_count": 47
        }
      ]
    },
    {
      "cell_type": "code",
      "metadata": {
        "colab": {
          "base_uri": "https://localhost:8080/"
        },
        "id": "dUZCznVwZlUq",
        "outputId": "4803fa17-7500-40f7-962d-5934a71fca1e"
      },
      "source": [
        "min(fares)"
      ],
      "execution_count": 48,
      "outputs": [
        {
          "output_type": "execute_result",
          "data": {
            "text/plain": [
              "1500"
            ]
          },
          "metadata": {
            "tags": []
          },
          "execution_count": 48
        }
      ]
    },
    {
      "cell_type": "code",
      "metadata": {
        "colab": {
          "base_uri": "https://localhost:8080/"
        },
        "id": "MKe4M7EsZnrm",
        "outputId": "9819287f-f839-4b2e-de77-726c727161a6"
      },
      "source": [
        "for station in stations:\n",
        "    print(station)"
      ],
      "execution_count": 50,
      "outputs": [
        {
          "output_type": "stream",
          "text": [
            "청량리\n",
            "성북\n",
            "의정부\n",
            "소요산\n"
          ],
          "name": "stdout"
        }
      ]
    },
    {
      "cell_type": "code",
      "metadata": {
        "colab": {
          "base_uri": "https://localhost:8080/"
        },
        "id": "NP1o-gojZv2T",
        "outputId": "5498aa67-4068-4858-95ac-ca28961b2b2b"
      },
      "source": [
        "for idx, station in enumerate(stations):\n",
        "    print(idx, station)"
      ],
      "execution_count": 51,
      "outputs": [
        {
          "output_type": "stream",
          "text": [
            "0 청량리\n",
            "1 성북\n",
            "2 의정부\n",
            "3 소요산\n"
          ],
          "name": "stdout"
        }
      ]
    },
    {
      "cell_type": "code",
      "metadata": {
        "colab": {
          "base_uri": "https://localhost:8080/"
        },
        "id": "pg7nOQTYaKUM",
        "outputId": "6ea062b5-8d33-4825-cddd-779c23a63162"
      },
      "source": [
        "sum = lambda a,b : a+b\n",
        "sum(2,5)"
      ],
      "execution_count": 52,
      "outputs": [
        {
          "output_type": "execute_result",
          "data": {
            "text/plain": [
              "7"
            ]
          },
          "metadata": {
            "tags": []
          },
          "execution_count": 52
        }
      ]
    },
    {
      "cell_type": "code",
      "metadata": {
        "colab": {
          "base_uri": "https://localhost:8080/"
        },
        "id": "M2jAALXVaVDl",
        "outputId": "c85f749d-ec7d-4fc0-d76a-c10083556a61"
      },
      "source": [
        "def getFare(station):\n",
        "  for stationfare in stationfares:\n",
        "    if stationfare['station'] == station:\n",
        "      return stationfare['fare']\n",
        "fare = getFare(\"청량리\")\n",
        "print(fare)"
      ],
      "execution_count": 54,
      "outputs": [
        {
          "output_type": "stream",
          "text": [
            "1500\n"
          ],
          "name": "stdout"
        }
      ]
    },
    {
      "cell_type": "code",
      "metadata": {
        "colab": {
          "base_uri": "https://localhost:8080/"
        },
        "id": "_EaTLtiSa0Lo",
        "outputId": "74dc37ad-8df1-4778-af57-dd866f2643d7"
      },
      "source": [
        "for station2 in stations:\n",
        "  print(station2, getFare(station2))"
      ],
      "execution_count": 57,
      "outputs": [
        {
          "output_type": "stream",
          "text": [
            "청량리 1500\n",
            "성북 1800\n",
            "의정부 2000\n",
            "소요산 2500\n"
          ],
          "name": "stdout"
        }
      ]
    }
  ]
}