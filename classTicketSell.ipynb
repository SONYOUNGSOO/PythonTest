{
  "nbformat": 4,
  "nbformat_minor": 0,
  "metadata": {
    "colab": {
      "name": "classTicketSell.ipynb",
      "provenance": [],
      "authorship_tag": "ABX9TyO1zRCCkcqJ535qCzS8/anU",
      "include_colab_link": true
    },
    "kernelspec": {
      "name": "python3",
      "display_name": "Python 3"
    },
    "language_info": {
      "name": "python"
    }
  },
  "cells": [
    {
      "cell_type": "markdown",
      "metadata": {
        "id": "view-in-github",
        "colab_type": "text"
      },
      "source": [
        "<a href=\"https://colab.research.google.com/github/SONYOUNGSOO/PythonTest/blob/main/classTicketSell.ipynb\" target=\"_parent\"><img src=\"https://colab.research.google.com/assets/colab-badge.svg\" alt=\"Open In Colab\"/></a>"
      ]
    },
    {
      "cell_type": "markdown",
      "metadata": {
        "id": "vMAeotL4KQ2m"
      },
      "source": [
        "#1.Function"
      ]
    },
    {
      "cell_type": "code",
      "metadata": {
        "id": "h5dSJR3SIvNl"
      },
      "source": [
        "stationfares = [\n",
        "    {\"station\": \"청량리\", \"fare\": 1000},\n",
        "    {\"station\": \"성북\", \"fare\": 1100},\n",
        "    {\"station\": \"의정부\", \"fare\": 1200},\n",
        "    {\"station\": \"소요산\", \"fare\": 1300}\n",
        "]"
      ],
      "execution_count": 11,
      "outputs": []
    },
    {
      "cell_type": "code",
      "metadata": {
        "colab": {
          "base_uri": "https://localhost:8080/"
        },
        "id": "bcfaYmXkI4V5",
        "outputId": "577df8ca-2f7c-4c23-9dc0-cf562510ffe1"
      },
      "source": [
        "stations =[]\n",
        "fares = []\n",
        "for stationfare in stationfares:\n",
        "    stations.append(stationfare['station'])\n",
        "    fares.append(stationfare[\"fare\"])\n",
        "print(stations)\n",
        "print(fares)"
      ],
      "execution_count": 16,
      "outputs": [
        {
          "output_type": "stream",
          "text": [
            "['청량리', '성북', '의정부', '소요산']\n",
            "[1000, 1100, 1200, 1300]\n"
          ],
          "name": "stdout"
        }
      ]
    },
    {
      "cell_type": "code",
      "metadata": {
        "colab": {
          "base_uri": "https://localhost:8080/"
        },
        "id": "4OfW3GDvJv0z",
        "outputId": "1db3baa3-7e6d-4d36-dbe0-e444c9894a5e"
      },
      "source": [
        "print(len(stationfares),max(fares),min(fares),sum(fares))\n"
      ],
      "execution_count": 18,
      "outputs": [
        {
          "output_type": "stream",
          "text": [
            "4 1300 1000 4600\n"
          ],
          "name": "stdout"
        }
      ]
    },
    {
      "cell_type": "code",
      "metadata": {
        "colab": {
          "base_uri": "https://localhost:8080/"
        },
        "id": "FxToq_GrKktV",
        "outputId": "74b83df8-4b68-44e9-e1c0-ff232aaf0479"
      },
      "source": [
        "for idx, station in enumerate(stations):\n",
        "  print(idx, station)\n",
        "  "
      ],
      "execution_count": 19,
      "outputs": [
        {
          "output_type": "stream",
          "text": [
            "0 청량리\n",
            "1 성북\n",
            "2 의정부\n",
            "3 소요산\n"
          ],
          "name": "stdout"
        }
      ]
    },
    {
      "cell_type": "code",
      "metadata": {
        "colab": {
          "base_uri": "https://localhost:8080/"
        },
        "id": "L5JeKAFaKudP",
        "outputId": "c87bdba5-03ec-490e-e394-d99195917ec5"
      },
      "source": [
        "sum = lambda a,b : a*b\n",
        "sum(2,3)"
      ],
      "execution_count": 21,
      "outputs": [
        {
          "output_type": "execute_result",
          "data": {
            "text/plain": [
              "6"
            ]
          },
          "metadata": {
            "tags": []
          },
          "execution_count": 21
        }
      ]
    },
    {
      "cell_type": "markdown",
      "metadata": {
        "id": "sU3tSfRNLEvI"
      },
      "source": [
        "#2.Class Ticket Sell\n"
      ]
    },
    {
      "cell_type": "code",
      "metadata": {
        "id": "_YF1wtjeLmIG"
      },
      "source": [
        "class Comments:\n",
        "    title               = \"#### %s 승차권 판매기입니다. ####\"\n",
        "    product_description = \"%s:%s(%s원)\"\n",
        "    insert_fare         = \"\\n요금을 넣어 주세요. : \"\n",
        "    insufficient_fare   = \"%s 요금이 부족합니다. 거스름돈은 %s원 입니다.\"\n",
        "    select_station      = \"원하시는 역번호를 선택하세요.\"\n",
        "    select_error        = \"잘못 입력하셨습니다.\"\n",
        "    finish_sale         = \"선택하신 %s 입니다. 거스름돈은 %s원 입니다.\\n감사합니다.\"\n",
        "    terminate_sale      = \"승차권 판매를 종료합니다.\"\n",
        "    OverStationNum      = \"승차권 선택이 잘못되었습니다.\""
      ],
      "execution_count": 80,
      "outputs": []
    },
    {
      "cell_type": "code",
      "metadata": {
        "id": "1mGm4o1KVxmB"
      },
      "source": [
        "class products1:\n",
        "  productsName=[]\n",
        "  productsValue=[]"
      ],
      "execution_count": 38,
      "outputs": []
    },
    {
      "cell_type": "code",
      "metadata": {
        "id": "FdKwlmTIWB5d"
      },
      "source": [
        "class TicketSell(products1):\n",
        "    _data = stationfares\n",
        "    _name = \"지하철\"\n",
        "    _status = True\n",
        "\n",
        "    def __init__(self):\n",
        "      print(Comments.title %self._name)\n",
        "      \n",
        "    def set_products(self):\n",
        "      products1.productsName=[]\n",
        "      products1.productsValue=[]\n",
        "      for stationfare in self._data:\n",
        "          products1.productsName.append(stationfare[\"station\"])\n",
        "          products1.productsValue.append(stationfare[\"fare\"])\n",
        "\n",
        "    def run(self):\n",
        "      self.set_products()\n",
        "      while self._status:\n",
        "            try:\n",
        "                inputMoney = int(input(Comments.insert_fare))\n",
        "            except ValueError:\n",
        "                print(Comments.select_error)\n",
        "            else:\n",
        "                self.selectStation(inputMoney)\n",
        "\n",
        "    def selectStation(self,inputMoney):\n",
        "        for idx, name in enumerate(products1.productsName):\n",
        "            fares = products1.productsValue[idx]\n",
        "            print(Comments.product_description %(str(idx), name, fares))\n",
        "\n",
        "        SelectNumber = int(input(Comments.select_station))\n",
        "        MaxSelectNumber = int(len(products1.productsName)-1)\n",
        "        if SelectNumber>MaxSelectNumber:\n",
        "              print(Comments.OverStationNum)\n",
        "              self.run\n",
        "        else:\n",
        "              self.payment(SelectNumber,inputMoney)\n",
        "\n",
        "    def payment(self, SelectNumber , inputMoney):\n",
        "        SubwayName = products1.productsName[SelectNumber]\n",
        "        SubwayFare = products1.productsValue[SelectNumber]\n",
        "\n",
        "        if inputMoney>=SubwayFare :\n",
        "           money= inputMoney - SubwayFare\n",
        "           print(Comments.finish_sale %(SubwayName,money))\n",
        "        else:\n",
        "           print(Comments.insufficient_fare %(SubwayName, str(inputMoney)))"
      ],
      "execution_count": 78,
      "outputs": []
    },
    {
      "cell_type": "code",
      "metadata": {
        "colab": {
          "base_uri": "https://localhost:8080/"
        },
        "id": "iITY0AjGdDNp",
        "outputId": "2fbe4c7f-6528-4c2f-e573-e804a1c22dce"
      },
      "source": [
        "tm =TicketSell()\n",
        "try:\n",
        "    tm.run()20\n",
        "except KeyboardInterrupt:\n",
        "    tm._status=False\n",
        "    print(Comments1.terminate_sale)"
      ],
      "execution_count": 79,
      "outputs": [
        {
          "output_type": "stream",
          "text": [
            "#### 지하철 승차권 판매기입니다. ####\n",
            "\n",
            "요금을 넣어 주세요. : 1000\n",
            "0:청량리(1000원)\n",
            "1:성북(1100원)\n",
            "2:의정부(1200원)\n",
            "3:소요산(1300원)\n",
            "원하시는 역번호를 선택하세요.4\n",
            "승차권 선택이 잘못되었습니다.\n",
            "\n",
            "요금을 넣어 주세요. : 1000\n",
            "0:청량리(1000원)\n",
            "1:성북(1100원)\n",
            "2:의정부(1200원)\n",
            "3:소요산(1300원)\n",
            "원하시는 역번호를 선택하세요.0\n",
            "선택하신 청량리 입니다. 거스름돈은 0원 입니다.\n",
            "감사합니다.\n",
            "\n",
            "요금을 넣어 주세요. : 20000\n",
            "0:청량리(1000원)\n",
            "1:성북(1100원)\n",
            "2:의정부(1200원)\n",
            "3:소요산(1300원)\n",
            "원하시는 역번호를 선택하세요.2\n",
            "선택하신 의정부 입니다. 거스름돈은 18800원 입니다.\n",
            "감사합니다.\n",
            "승차권 판매를 종료합니다.\n"
          ],
          "name": "stdout"
        }
      ]
    },
    {
      "cell_type": "markdown",
      "metadata": {
        "id": "9C5ZPO1qjvb_"
      },
      "source": [
        "#3.inheritance"
      ]
    },
    {
      "cell_type": "code",
      "metadata": {
        "id": "7dLQdjWkjytL"
      },
      "source": [
        "railstationfares = [\n",
        "    {\"station\": \"천안\", \"fare\": 15000},\n",
        "    {\"station\": \"대전\", \"fare\": 20000},\n",
        "    {\"station\": \"동대구\", \"fare\": 37000},\n",
        "    {\"station\": \"부산\", \"fare\": 53000}\n",
        "]"
      ],
      "execution_count": 81,
      "outputs": []
    },
    {
      "cell_type": "code",
      "metadata": {
        "id": "bKVKnje_j987"
      },
      "source": [
        "class RailTicket(TicketSell):\n",
        "    _data = railstationfares\n",
        "    _name = \"고속철도\""
      ],
      "execution_count": 82,
      "outputs": []
    },
    {
      "cell_type": "code",
      "metadata": {
        "colab": {
          "base_uri": "https://localhost:8080/"
        },
        "id": "8Y33RbZikPqo",
        "outputId": "c8c0443a-6bbd-4b93-97cf-b48356763266"
      },
      "source": [
        "tm =RailTicket()\n",
        "try:\n",
        "    tm.run()\n",
        "except KeyboardInterrupt:\n",
        "    tm._status=False\n",
        "    print(Comments1.terminate_sale)"
      ],
      "execution_count": 83,
      "outputs": [
        {
          "output_type": "stream",
          "text": [
            "#### 고속철도 승차권 판매기입니다. ####\n",
            "\n",
            "요금을 넣어 주세요. : 20000\n",
            "0:천안(15000원)\n",
            "1:대전(20000원)\n",
            "2:동대구(37000원)\n",
            "3:부산(53000원)\n",
            "원하시는 역번호를 선택하세요.0\n",
            "선택하신 천안 입니다. 거스름돈은 5000원 입니다.\n",
            "감사합니다.\n",
            "\n",
            "요금을 넣어 주세요. : 20000\n",
            "원하시는 역번호를 선택하세요.4\n",
            "0:천안(15000원)\n",
            "1:대전(20000원)\n",
            "2:동대구(37000원)\n",
            "3:부산(53000원)\n",
            "승차권 선택이 잘못되었습니다.\n",
            "승차권 판매를 종료합니다.\n"
          ],
          "name": "stdout"
        }
      ]
    }
  ]
}