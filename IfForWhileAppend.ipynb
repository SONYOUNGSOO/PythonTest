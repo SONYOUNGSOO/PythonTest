{
  "nbformat": 4,
  "nbformat_minor": 0,
  "metadata": {
    "colab": {
      "name": "ifforwhile.ipynb",
      "provenance": [],
      "authorship_tag": "ABX9TyOBtuj5B+B+nsUvkqQ0tdwK",
      "include_colab_link": true
    },
    "kernelspec": {
      "name": "python3",
      "display_name": "Python 3"
    },
    "language_info": {
      "name": "python"
    }
  },
  "cells": [
    {
      "cell_type": "markdown",
      "metadata": {
        "id": "view-in-github",
        "colab_type": "text"
      },
      "source": [
        "<a href=\"https://colab.research.google.com/github/SONYOUNGSOO/PythonTest/blob/main/IfForWhileAppend.ipynb\" target=\"_parent\"><img src=\"https://colab.research.google.com/assets/colab-badge.svg\" alt=\"Open In Colab\"/></a>"
      ]
    },
    {
      "cell_type": "markdown",
      "metadata": {
        "id": "9mS7okg19aSV"
      },
      "source": [
        "#1.Condition"
      ]
    },
    {
      "cell_type": "code",
      "metadata": {
        "colab": {
          "base_uri": "https://localhost:8080/"
        },
        "id": "XVp6DL-Y9W5R",
        "outputId": "9b7e16fe-081f-4c4e-84f1-7c6376e353f5"
      },
      "source": [
        "name = input('What is your name :')"
      ],
      "execution_count": 5,
      "outputs": [
        {
          "output_type": "stream",
          "text": [
            "What is your name :bird\n"
          ],
          "name": "stdout"
        }
      ]
    },
    {
      "cell_type": "markdown",
      "metadata": {
        "id": "pVZvTdvsezu8"
      },
      "source": [
        ""
      ]
    },
    {
      "cell_type": "markdown",
      "metadata": {
        "id": "fFEwVVBIeyFw"
      },
      "source": [
        ""
      ]
    },
    {
      "cell_type": "markdown",
      "metadata": {
        "id": "JzsJ1HjaGwDN"
      },
      "source": [
        "#1.if문"
      ]
    },
    {
      "cell_type": "code",
      "metadata": {
        "colab": {
          "base_uri": "https://localhost:8080/"
        },
        "id": "UbVgghkF9ccD",
        "outputId": "5cbf883c-7464-4191-d81b-9d0b95980f88"
      },
      "source": [
        "if name == 'bird':\n",
        "      print(\"I could fly to you\")\n",
        "else :\n",
        "      print(\"l could not fly to you\")"
      ],
      "execution_count": 6,
      "outputs": [
        {
          "output_type": "stream",
          "text": [
            "I could fly to you\n"
          ],
          "name": "stdout"
        }
      ]
    },
    {
      "cell_type": "markdown",
      "metadata": {
        "id": "BHGK-Qh7Gi1J"
      },
      "source": [
        "#2.for문"
      ]
    },
    {
      "cell_type": "code",
      "metadata": {
        "id": "yISffL70-yZJ"
      },
      "source": [
        "for a in range(2,9):\n",
        "  for i in range(1,10):\n",
        "    print(\"%2d X %2d = %5d\" %(a,i,i*a))\n",
        "  print(\"===============================\")\n"
      ],
      "execution_count": null,
      "outputs": []
    },
    {
      "cell_type": "markdown",
      "metadata": {
        "id": "k04v_rMVGppD"
      },
      "source": [
        "#3.while 문"
      ]
    },
    {
      "cell_type": "code",
      "metadata": {
        "id": "9jB1PXVsEEC8"
      },
      "source": [
        "num = int(input('Number : '))\n",
        "\n",
        "i =1\n",
        "\n",
        "while i<10:\n",
        "  print(num,'x',i,'=',i*num)\n",
        "  i+=1\n"
      ],
      "execution_count": null,
      "outputs": []
    },
    {
      "cell_type": "code",
      "metadata": {
        "id": "oJPVcn78EqQN"
      },
      "source": [
        "i=2\n",
        "while i<10:\n",
        "  j=1\n",
        "  while j<10:\n",
        "    print(i , ' x ', j , ' = ',i*j)\n",
        "    j+=1\n",
        "  i+=1\n",
        "  print('======================')"
      ],
      "execution_count": null,
      "outputs": []
    },
    {
      "cell_type": "markdown",
      "metadata": {
        "id": "-x_7cb0Ce0qn"
      },
      "source": [
        "#4.\n"
      ]
    },
    {
      "cell_type": "code",
      "metadata": {
        "id": "oQ2rtFOBe4bx"
      },
      "source": [
        "stationfares= [\n",
        "               {\"station\": \"청량리\", \"fare\":1500},\n",
        "               {\"station\": \"성북\", \"fare\":1800},\n",
        "               {\"station\": \"의정부\", \"fare\":2000},\n",
        "               {\"station\": \"소요산\", \"fare\":2500},\n",
        "]"
      ],
      "execution_count": 34,
      "outputs": []
    },
    {
      "cell_type": "code",
      "metadata": {
        "colab": {
          "base_uri": "https://localhost:8080/"
        },
        "id": "ANx55C6YfIUa",
        "outputId": "ecc84529-0c76-4545-9489-b738787f9d5e"
      },
      "source": [
        "stations = []\n",
        "fares = []\n",
        "for stationfare in stationfares:\n",
        "    stations.append(stationfare[\"station\"])\n",
        "    fares.append(stationfare[\"fare\"])\n",
        "print(stations)\n",
        "print(fares)"
      ],
      "execution_count": 44,
      "outputs": [
        {
          "output_type": "stream",
          "text": [
            "['청량리', '성북', '의정부', '소요산']\n",
            "[1500, 1800, 2000, 2500]\n"
          ],
          "name": "stdout"
        }
      ]
    },
    {
      "cell_type": "markdown",
      "metadata": {
        "id": "zf60gsjMgixJ"
      },
      "source": [
        "append 는 그 배열의 전부를 넣는다 그렇기에 청량리, 성북 이런 단위가 들어갔고 만약 비슷한 extend가 들어가면 extend는 iterable 를 가져간다."
      ]
    }
  ]
}