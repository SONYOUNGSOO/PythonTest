{
  "nbformat": 4,
  "nbformat_minor": 0,
  "metadata": {
    "colab": {
      "name": "nameformat.ipynb",
      "provenance": [],
      "authorship_tag": "ABX9TyMxzctnMrUCF292hLlTsg+z",
      "include_colab_link": true
    },
    "kernelspec": {
      "name": "python3",
      "display_name": "Python 3"
    },
    "language_info": {
      "name": "python"
    }
  },
  "cells": [
    {
      "cell_type": "markdown",
      "metadata": {
        "id": "view-in-github",
        "colab_type": "text"
      },
      "source": [
        "<a href=\"https://colab.research.google.com/github/SONYOUNGSOO/PythonTest/blob/main/nameformat.ipynb\" target=\"_parent\"><img src=\"https://colab.research.google.com/assets/colab-badge.svg\" alt=\"Open In Colab\"/></a>"
      ]
    },
    {
      "cell_type": "markdown",
      "metadata": {
        "id": "2NgBgZ3mgmqI"
      },
      "source": [
        "#군집데이터, list, dictionary"
      ]
    },
    {
      "cell_type": "code",
      "metadata": {
        "colab": {
          "base_uri": "https://localhost:8080/"
        },
        "id": "lWRUDWvBaLSc",
        "outputId": "7be27881-ace8-4309-9009-0a0490679bd2"
      },
      "source": [
        "names=[]\n",
        "name = input('Enter name : ')\n",
        "names.append(name)\n",
        "print(names)"
      ],
      "execution_count": 7,
      "outputs": [
        {
          "output_type": "stream",
          "text": [
            "Enter name : son\n",
            "['son']\n"
          ],
          "name": "stdout"
        }
      ]
    },
    {
      "cell_type": "code",
      "metadata": {
        "colab": {
          "base_uri": "https://localhost:8080/"
        },
        "id": "n_HVbX3UZmGG",
        "outputId": "43077eb2-bece-46b6-bc56-4e1ddc69eb33"
      },
      "source": [
        "\n",
        "name = 'park' #@param {type:\"string\"}\n",
        "names.append(name)\n",
        "print(names)"
      ],
      "execution_count": 17,
      "outputs": [
        {
          "output_type": "stream",
          "text": [
            "['son', 'kim', 'park']\n"
          ],
          "name": "stdout"
        }
      ]
    },
    {
      "cell_type": "code",
      "metadata": {
        "colab": {
          "base_uri": "https://localhost:8080/",
          "height": 35
        },
        "id": "AOs-zveraay1",
        "outputId": "f954b708-a966-4f89-9b3e-45450a7ef716"
      },
      "source": [
        "names[0]"
      ],
      "execution_count": 14,
      "outputs": [
        {
          "output_type": "execute_result",
          "data": {
            "application/vnd.google.colaboratory.intrinsic+json": {
              "type": "string"
            },
            "text/plain": [
              "'son'"
            ]
          },
          "metadata": {
            "tags": []
          },
          "execution_count": 14
        }
      ]
    },
    {
      "cell_type": "code",
      "metadata": {
        "colab": {
          "base_uri": "https://localhost:8080/"
        },
        "id": "GQwPqanBajR2",
        "outputId": "c2c05bcf-511f-4da7-d7cf-7c93b6454fb5"
      },
      "source": [
        "names[0:1]"
      ],
      "execution_count": 15,
      "outputs": [
        {
          "output_type": "execute_result",
          "data": {
            "text/plain": [
              "['son']"
            ]
          },
          "metadata": {
            "tags": []
          },
          "execution_count": 15
        }
      ]
    },
    {
      "cell_type": "code",
      "metadata": {
        "colab": {
          "base_uri": "https://localhost:8080/"
        },
        "id": "3nZBX8c0almy",
        "outputId": "f7b4c925-a622-4938-b5f5-1f35582ec595"
      },
      "source": [
        "names[0:2]"
      ],
      "execution_count": 18,
      "outputs": [
        {
          "output_type": "execute_result",
          "data": {
            "text/plain": [
              "['son', 'kim']"
            ]
          },
          "metadata": {
            "tags": []
          },
          "execution_count": 18
        }
      ]
    },
    {
      "cell_type": "code",
      "metadata": {
        "colab": {
          "base_uri": "https://localhost:8080/"
        },
        "id": "2sUyZsQGawLc",
        "outputId": "8496e783-c4c3-401e-b1f7-f360baaa6580"
      },
      "source": [
        "names[1:]"
      ],
      "execution_count": 19,
      "outputs": [
        {
          "output_type": "execute_result",
          "data": {
            "text/plain": [
              "['kim', 'park']"
            ]
          },
          "metadata": {
            "tags": []
          },
          "execution_count": 19
        }
      ]
    },
    {
      "cell_type": "code",
      "metadata": {
        "colab": {
          "base_uri": "https://localhost:8080/"
        },
        "id": "RqTvA-CMazEh",
        "outputId": "fab6f549-a923-4ac8-e636-a8916d8d9531"
      },
      "source": [
        "len(names)"
      ],
      "execution_count": 20,
      "outputs": [
        {
          "output_type": "execute_result",
          "data": {
            "text/plain": [
              "3"
            ]
          },
          "metadata": {
            "tags": []
          },
          "execution_count": 20
        }
      ]
    },
    {
      "cell_type": "code",
      "metadata": {
        "colab": {
          "base_uri": "https://localhost:8080/"
        },
        "id": "E8JtahR-a14Z",
        "outputId": "f54fd76f-597f-4439-ba9a-4a26b4bf75d9"
      },
      "source": [
        "names"
      ],
      "execution_count": 21,
      "outputs": [
        {
          "output_type": "execute_result",
          "data": {
            "text/plain": [
              "['son', 'kim', 'park']"
            ]
          },
          "metadata": {
            "tags": []
          },
          "execution_count": 21
        }
      ]
    },
    {
      "cell_type": "code",
      "metadata": {
        "colab": {
          "base_uri": "https://localhost:8080/"
        },
        "id": "xB22Lt0Qa4pe",
        "outputId": "2ca96907-7192-4550-9429-0ac11194e5b5"
      },
      "source": [
        "names.index(\"kim\")"
      ],
      "execution_count": 24,
      "outputs": [
        {
          "output_type": "execute_result",
          "data": {
            "text/plain": [
              "1"
            ]
          },
          "metadata": {
            "tags": []
          },
          "execution_count": 24
        }
      ]
    },
    {
      "cell_type": "code",
      "metadata": {
        "id": "ui1zAVfcb0sX"
      },
      "source": [
        "scores = [100,90,70]"
      ],
      "execution_count": 27,
      "outputs": []
    },
    {
      "cell_type": "code",
      "metadata": {
        "id": "XgxIX0J4cQf-"
      },
      "source": [
        "son = [names,scores]"
      ],
      "execution_count": 28,
      "outputs": []
    },
    {
      "cell_type": "code",
      "metadata": {
        "colab": {
          "base_uri": "https://localhost:8080/"
        },
        "id": "w_0yAZsMcVX9",
        "outputId": "50b62065-329c-4cb1-e965-17cc65ec81f5"
      },
      "source": [
        "son"
      ],
      "execution_count": 29,
      "outputs": [
        {
          "output_type": "execute_result",
          "data": {
            "text/plain": [
              "[['son', 'kim', 'park'], [100, 90, 70]]"
            ]
          },
          "metadata": {
            "tags": []
          },
          "execution_count": 29
        }
      ]
    },
    {
      "cell_type": "code",
      "metadata": {
        "id": "bn2GJ9WTgJBH"
      },
      "source": [
        "Allformat=[]"
      ],
      "execution_count": 42,
      "outputs": []
    },
    {
      "cell_type": "code",
      "metadata": {
        "colab": {
          "base_uri": "https://localhost:8080/"
        },
        "id": "cbOhsb9JdkwJ",
        "outputId": "ee1f13fe-e099-48de-d0bd-edd0cf157c32"
      },
      "source": [
        "dic = {}\n",
        "station = input('Enter station :')\n",
        "fare = int(input('fare :'))\n",
        "dic['stations']=station\n",
        "dic['fare']= fare\n",
        "Allformat.append(dic)\n",
        "print(dic)\n",
        "print(Allformat)\n"
      ],
      "execution_count": 43,
      "outputs": [
        {
          "output_type": "stream",
          "text": [
            "Enter station :광명\n",
            "fare :1000\n",
            "{'stations': '광명', 'fare': 1000}\n",
            "[{'stations': '광명', 'fare': 1000}]\n"
          ],
          "name": "stdout"
        }
      ]
    },
    {
      "cell_type": "code",
      "metadata": {
        "colab": {
          "base_uri": "https://localhost:8080/"
        },
        "id": "YIFzkmjAfwJX",
        "outputId": "3271618c-966c-44f4-af7e-5e92c52e3306"
      },
      "source": [
        "dic = {}\n",
        "station = '\\uC18C\\uD558' #@param {type:\"string\"}\n",
        "fare =  1500#@param {type:\"integer\"}\n",
        "dic['stations']=station\n",
        "dic['fare']= fare\n",
        "Allformat.append(dic)\n",
        "print(dic)\n",
        "print(Allformat)"
      ],
      "execution_count": 44,
      "outputs": [
        {
          "output_type": "stream",
          "text": [
            "{'stations': '소하', 'fare': 1500}\n",
            "[{'stations': '광명', 'fare': 1000}, {'stations': '소하', 'fare': 1500}]\n"
          ],
          "name": "stdout"
        }
      ]
    },
    {
      "cell_type": "code",
      "metadata": {
        "colab": {
          "base_uri": "https://localhost:8080/"
        },
        "id": "TFSiX22ygYqL",
        "outputId": "6562606a-95d4-4016-9a89-6ed7de69d04f"
      },
      "source": [
        "dic.keys()"
      ],
      "execution_count": 46,
      "outputs": [
        {
          "output_type": "execute_result",
          "data": {
            "text/plain": [
              "dict_keys(['stations', 'fare'])"
            ]
          },
          "metadata": {
            "tags": []
          },
          "execution_count": 46
        }
      ]
    },
    {
      "cell_type": "code",
      "metadata": {
        "colab": {
          "base_uri": "https://localhost:8080/"
        },
        "id": "cpAIk4sqgdsM",
        "outputId": "49eef65e-f305-4b69-fca2-7eae22c79bb7"
      },
      "source": [
        "dic.values()"
      ],
      "execution_count": 50,
      "outputs": [
        {
          "output_type": "execute_result",
          "data": {
            "text/plain": [
              "dict_values(['소하', 1500])"
            ]
          },
          "metadata": {
            "tags": []
          },
          "execution_count": 50
        }
      ]
    }
  ]
}