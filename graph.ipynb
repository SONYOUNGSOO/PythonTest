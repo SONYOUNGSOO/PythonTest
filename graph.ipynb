{
  "nbformat": 4,
  "nbformat_minor": 0,
  "metadata": {
    "colab": {
      "name": "graph.ipynb",
      "provenance": [],
      "authorship_tag": "ABX9TyPqPxUKVHi+XAPppmDPVfyI",
      "include_colab_link": true
    },
    "kernelspec": {
      "name": "python3",
      "display_name": "Python 3"
    },
    "language_info": {
      "name": "python"
    }
  },
  "cells": [
    {
      "cell_type": "markdown",
      "metadata": {
        "id": "view-in-github",
        "colab_type": "text"
      },
      "source": [
        "<a href=\"https://colab.research.google.com/github/SONYOUNGSOO/PythonTest/blob/main/graph.ipynb\" target=\"_parent\"><img src=\"https://colab.research.google.com/assets/colab-badge.svg\" alt=\"Open In Colab\"/></a>"
      ]
    },
    {
      "cell_type": "markdown",
      "metadata": {
        "id": "vMAeotL4KQ2m"
      },
      "source": [
        "#1.Function"
      ]
    },
    {
      "cell_type": "code",
      "metadata": {
        "id": "h5dSJR3SIvNl"
      },
      "source": [
        "stationfares = [\n",
        "    {\"station\": \"청량리\", \"fare\": 1000},\n",
        "    {\"station\": \"성북\", \"fare\": 1100},\n",
        "    {\"station\": \"의정부\", \"fare\": 1200},\n",
        "    {\"station\": \"소요산\", \"fare\": 1300}\n",
        "]"
      ],
      "execution_count": 6,
      "outputs": []
    },
    {
      "cell_type": "code",
      "metadata": {
        "colab": {
          "base_uri": "https://localhost:8080/"
        },
        "id": "bcfaYmXkI4V5",
        "outputId": "a8a244e7-2373-4ad5-8686-c9ce0b9fd5c2"
      },
      "source": [
        "stations =[]\n",
        "fares = []\n",
        "for stationfare in stationfares:\n",
        "    stations.append(stationfare['station'])\n",
        "    fares.append(stationfare[\"fare\"])\n",
        "print(stations)\n",
        "print(fares)"
      ],
      "execution_count": 7,
      "outputs": [
        {
          "output_type": "stream",
          "text": [
            "['청량리', '성북', '의정부', '소요산']\n",
            "[1000, 1100, 1200, 1300]\n"
          ],
          "name": "stdout"
        }
      ]
    },
    {
      "cell_type": "code",
      "metadata": {
        "colab": {
          "base_uri": "https://localhost:8080/"
        },
        "id": "4OfW3GDvJv0z",
        "outputId": "9d0f5f12-130a-40a8-d2a9-1486aef17fd9"
      },
      "source": [
        "print(len(stationfares),max(fares),min(fares),sum(fares))\n"
      ],
      "execution_count": 8,
      "outputs": [
        {
          "output_type": "stream",
          "text": [
            "4 1300 1000 4600\n"
          ],
          "name": "stdout"
        }
      ]
    },
    {
      "cell_type": "code",
      "metadata": {
        "colab": {
          "base_uri": "https://localhost:8080/"
        },
        "id": "FxToq_GrKktV",
        "outputId": "f69c64cd-3bf3-4d20-eeb0-288264d6a9ac"
      },
      "source": [
        "for idx, station in enumerate(stations):\n",
        "  print(idx, station)\n",
        "  "
      ],
      "execution_count": 9,
      "outputs": [
        {
          "output_type": "stream",
          "text": [
            "0 청량리\n",
            "1 성북\n",
            "2 의정부\n",
            "3 소요산\n"
          ],
          "name": "stdout"
        }
      ]
    },
    {
      "cell_type": "code",
      "metadata": {
        "colab": {
          "base_uri": "https://localhost:8080/"
        },
        "id": "L5JeKAFaKudP",
        "outputId": "11d21c95-5387-4214-8edf-6be3e4337bd8"
      },
      "source": [
        "sum = lambda a,b : a*b\n",
        "sum(2,3)"
      ],
      "execution_count": 10,
      "outputs": [
        {
          "output_type": "execute_result",
          "data": {
            "text/plain": [
              "6"
            ]
          },
          "metadata": {
            "tags": []
          },
          "execution_count": 10
        }
      ]
    },
    {
      "cell_type": "markdown",
      "metadata": {
        "id": "sU3tSfRNLEvI"
      },
      "source": [
        "#2.Class Ticket Sell\n"
      ]
    },
    {
      "cell_type": "code",
      "metadata": {
        "id": "_YF1wtjeLmIG"
      },
      "source": [
        "class Comments:\n",
        "    title               = \"#### %s 승차권 판매기입니다. ####\"\n",
        "    product_description = \"%s:%s(%s원)\"\n",
        "    insert_fare         = \"\\n요금을 넣어 주세요. : \"\n",
        "    insufficient_fare   = \"%s 요금이 부족합니다. 거스름돈은 %s원 입니다.\"\n",
        "    select_station      = \"원하시는 역번호를 선택하세요.\"\n",
        "    select_error        = \"잘못 입력하셨습니다.\"\n",
        "    finish_sale         = \"선택하신 %s 입니다. 거스름돈은 %s원 입니다.\\n감사합니다.\"\n",
        "    terminate_sale      = \"승차권 판매를 종료합니다.\"\n",
        "    OverStationNum      = \"승차권 선택이 잘못되었습니다.\""
      ],
      "execution_count": 3,
      "outputs": []
    },
    {
      "cell_type": "code",
      "metadata": {
        "id": "1mGm4o1KVxmB"
      },
      "source": [
        "class products1:\n",
        "  productsName=[]\n",
        "  productsValue=[]"
      ],
      "execution_count": 4,
      "outputs": []
    },
    {
      "cell_type": "code",
      "metadata": {
        "id": "FdKwlmTIWB5d"
      },
      "source": [
        "class TicketSell(products1):\n",
        "    _data =  stationfares\n",
        "    _name = \"지하철\"\n",
        "    _status = True\n",
        "\n",
        "    def __init__(self):\n",
        "      print(Comments.title %self._name)\n",
        "      \n",
        "    def set_products(self):\n",
        "      products1.productsName=[]\n",
        "      products1.productsValue=[]\n",
        "      for stationfare in self._data:\n",
        "          products1.productsName.append(stationfare[\"station\"])\n",
        "          products1.productsValue.append(stationfare[\"fare\"])\n",
        "\n",
        "    def run(self):\n",
        "      self.set_products()\n",
        "      while self._status:\n",
        "            try:\n",
        "                inputMoney = int(input(Comments.insert_fare))\n",
        "            except ValueError:\n",
        "                print(Comments.select_error)\n",
        "            else:\n",
        "                self.selectStation(inputMoney)\n",
        "\n",
        "    def selectStation(self,inputMoney):\n",
        "        for idx, name in enumerate(products1.productsName):\n",
        "            fares = products1.productsValue[idx]\n",
        "            print(Comments.product_description %(str(idx), name, fares))\n",
        "\n",
        "        SelectNumber = int(input(Comments.select_station))\n",
        "        MaxSelectNumber = int(len(products1.productsName)-1)\n",
        "        if SelectNumber>MaxSelectNumber:\n",
        "              print(Comments.OverStationNum)\n",
        "              self.run\n",
        "        else:\n",
        "              self.payment(SelectNumber,inputMoney)\n",
        "\n",
        "    def payment(self, SelectNumber , inputMoney):\n",
        "        SubwayName = products1.productsName[SelectNumber]\n",
        "        SubwayFare = products1.productsValue[SelectNumber]\n",
        "\n",
        "        if inputMoney>=SubwayFare :\n",
        "           money= inputMoney - SubwayFare\n",
        "           print(Comments.finish_sale %(SubwayName,money))\n",
        "        else:\n",
        "           print(Comments.insufficient_fare %(SubwayName, str(inputMoney)))"
      ],
      "execution_count": 13,
      "outputs": []
    },
    {
      "cell_type": "code",
      "metadata": {
        "colab": {
          "base_uri": "https://localhost:8080/"
        },
        "id": "iITY0AjGdDNp",
        "outputId": "20493865-e68a-4642-bf72-9a2ec81e484f"
      },
      "source": [
        "tm =TicketSell()\n",
        "try:\n",
        "    tm.run()\n",
        "except KeyboardInterrupt:\n",
        "    tm._status=False\n",
        "    print(Comments.terminate_sale)"
      ],
      "execution_count": 17,
      "outputs": [
        {
          "output_type": "stream",
          "text": [
            "#### 지하철 승차권 판매기입니다. ####\n",
            "\n",
            "요금을 넣어 주세요. : 4\n",
            "0:청량리(1000원)\n",
            "1:성북(1100원)\n",
            "2:의정부(1200원)\n",
            "3:소요산(1300원)\n",
            "원하시는 역번호를 선택하세요.5\n",
            "승차권 선택이 잘못되었습니다.\n",
            "승차권 판매를 종료합니다.\n"
          ],
          "name": "stdout"
        }
      ]
    },
    {
      "cell_type": "markdown",
      "metadata": {
        "id": "9C5ZPO1qjvb_"
      },
      "source": [
        "#3.inheritance"
      ]
    },
    {
      "cell_type": "code",
      "metadata": {
        "id": "7dLQdjWkjytL"
      },
      "source": [
        "railstationfares = [\n",
        "    {\"station\": \"천안\", \"fare\": 15000},\n",
        "    {\"station\": \"대전\", \"fare\": 20000},\n",
        "    {\"station\": \"동대구\", \"fare\": 37000},\n",
        "    {\"station\": \"부산\", \"fare\": 53000}\n",
        "]"
      ],
      "execution_count": null,
      "outputs": []
    },
    {
      "cell_type": "code",
      "metadata": {
        "id": "bKVKnje_j987"
      },
      "source": [
        "class RailTicket(TicketSell):\n",
        "    _data = railstationfares\n",
        "    _name = \"고속철도\""
      ],
      "execution_count": null,
      "outputs": []
    },
    {
      "cell_type": "code",
      "metadata": {
        "colab": {
          "base_uri": "https://localhost:8080/"
        },
        "id": "8Y33RbZikPqo",
        "outputId": "c8c0443a-6bbd-4b93-97cf-b48356763266"
      },
      "source": [
        "tm =RailTicket()\n",
        "try:\n",
        "    tm.run()\n",
        "except KeyboardInterrupt:\n",
        "    tm._status=False\n",
        "    print(Comments1.terminate_sale)"
      ],
      "execution_count": null,
      "outputs": [
        {
          "output_type": "stream",
          "text": [
            "#### 고속철도 승차권 판매기입니다. ####\n",
            "\n",
            "요금을 넣어 주세요. : 20000\n",
            "0:천안(15000원)\n",
            "1:대전(20000원)\n",
            "2:동대구(37000원)\n",
            "3:부산(53000원)\n",
            "원하시는 역번호를 선택하세요.0\n",
            "선택하신 천안 입니다. 거스름돈은 5000원 입니다.\n",
            "감사합니다.\n",
            "\n",
            "요금을 넣어 주세요. : 20000\n",
            "원하시는 역번호를 선택하세요.4\n",
            "0:천안(15000원)\n",
            "1:대전(20000원)\n",
            "2:동대구(37000원)\n",
            "3:부산(53000원)\n",
            "승차권 선택이 잘못되었습니다.\n",
            "승차권 판매를 종료합니다.\n"
          ],
          "name": "stdout"
        }
      ]
    },
    {
      "cell_type": "markdown",
      "metadata": {
        "id": "gYGQBlAjOkFU"
      },
      "source": [
        "#4. Graph"
      ]
    },
    {
      "cell_type": "code",
      "metadata": {
        "id": "s1VIQtIOOnxK"
      },
      "source": [
        "import matplotlib.pyplot as plt\n",
        "plt.style.use('classic')"
      ],
      "execution_count": 2,
      "outputs": []
    },
    {
      "cell_type": "code",
      "metadata": {
        "colab": {
          "base_uri": "https://localhost:8080/",
          "height": 1000
        },
        "id": "MWxoA0hxOw5Y",
        "outputId": "673e283c-50b1-49bb-ad0f-87a6e7946c3c"
      },
      "source": [
        "name = products1.productsName\n",
        "values= products1.productsValue\n",
        "plt.figure(figsize=(10,5))\n",
        "plt.bar(name , values)"
      ],
      "execution_count": 18,
      "outputs": [
        {
          "output_type": "execute_result",
          "data": {
            "text/plain": [
              "<BarContainer object of 4 artists>"
            ]
          },
          "metadata": {
            "tags": []
          },
          "execution_count": 18
        },
        {
          "output_type": "stream",
          "text": [
            "/usr/local/lib/python3.7/dist-packages/matplotlib/backends/backend_agg.py:214: RuntimeWarning: Glyph 52397 missing from current font.\n",
            "  font.set_text(s, 0.0, flags=flags)\n",
            "/usr/local/lib/python3.7/dist-packages/matplotlib/backends/backend_agg.py:214: RuntimeWarning: Glyph 47049 missing from current font.\n",
            "  font.set_text(s, 0.0, flags=flags)\n",
            "/usr/local/lib/python3.7/dist-packages/matplotlib/backends/backend_agg.py:214: RuntimeWarning: Glyph 47532 missing from current font.\n",
            "  font.set_text(s, 0.0, flags=flags)\n",
            "/usr/local/lib/python3.7/dist-packages/matplotlib/backends/backend_agg.py:214: RuntimeWarning: Glyph 49457 missing from current font.\n",
            "  font.set_text(s, 0.0, flags=flags)\n",
            "/usr/local/lib/python3.7/dist-packages/matplotlib/backends/backend_agg.py:214: RuntimeWarning: Glyph 48513 missing from current font.\n",
            "  font.set_text(s, 0.0, flags=flags)\n",
            "/usr/local/lib/python3.7/dist-packages/matplotlib/backends/backend_agg.py:214: RuntimeWarning: Glyph 51032 missing from current font.\n",
            "  font.set_text(s, 0.0, flags=flags)\n",
            "/usr/local/lib/python3.7/dist-packages/matplotlib/backends/backend_agg.py:214: RuntimeWarning: Glyph 51221 missing from current font.\n",
            "  font.set_text(s, 0.0, flags=flags)\n",
            "/usr/local/lib/python3.7/dist-packages/matplotlib/backends/backend_agg.py:214: RuntimeWarning: Glyph 48512 missing from current font.\n",
            "  font.set_text(s, 0.0, flags=flags)\n",
            "/usr/local/lib/python3.7/dist-packages/matplotlib/backends/backend_agg.py:214: RuntimeWarning: Glyph 49548 missing from current font.\n",
            "  font.set_text(s, 0.0, flags=flags)\n",
            "/usr/local/lib/python3.7/dist-packages/matplotlib/backends/backend_agg.py:214: RuntimeWarning: Glyph 50836 missing from current font.\n",
            "  font.set_text(s, 0.0, flags=flags)\n",
            "/usr/local/lib/python3.7/dist-packages/matplotlib/backends/backend_agg.py:214: RuntimeWarning: Glyph 49328 missing from current font.\n",
            "  font.set_text(s, 0.0, flags=flags)\n",
            "/usr/local/lib/python3.7/dist-packages/matplotlib/backends/backend_agg.py:183: RuntimeWarning: Glyph 52397 missing from current font.\n",
            "  font.set_text(s, 0, flags=flags)\n",
            "/usr/local/lib/python3.7/dist-packages/matplotlib/backends/backend_agg.py:183: RuntimeWarning: Glyph 47049 missing from current font.\n",
            "  font.set_text(s, 0, flags=flags)\n",
            "/usr/local/lib/python3.7/dist-packages/matplotlib/backends/backend_agg.py:183: RuntimeWarning: Glyph 47532 missing from current font.\n",
            "  font.set_text(s, 0, flags=flags)\n",
            "/usr/local/lib/python3.7/dist-packages/matplotlib/backends/backend_agg.py:183: RuntimeWarning: Glyph 49457 missing from current font.\n",
            "  font.set_text(s, 0, flags=flags)\n",
            "/usr/local/lib/python3.7/dist-packages/matplotlib/backends/backend_agg.py:183: RuntimeWarning: Glyph 48513 missing from current font.\n",
            "  font.set_text(s, 0, flags=flags)\n",
            "/usr/local/lib/python3.7/dist-packages/matplotlib/backends/backend_agg.py:183: RuntimeWarning: Glyph 51032 missing from current font.\n",
            "  font.set_text(s, 0, flags=flags)\n",
            "/usr/local/lib/python3.7/dist-packages/matplotlib/backends/backend_agg.py:183: RuntimeWarning: Glyph 51221 missing from current font.\n",
            "  font.set_text(s, 0, flags=flags)\n",
            "/usr/local/lib/python3.7/dist-packages/matplotlib/backends/backend_agg.py:183: RuntimeWarning: Glyph 48512 missing from current font.\n",
            "  font.set_text(s, 0, flags=flags)\n",
            "/usr/local/lib/python3.7/dist-packages/matplotlib/backends/backend_agg.py:183: RuntimeWarning: Glyph 49548 missing from current font.\n",
            "  font.set_text(s, 0, flags=flags)\n",
            "/usr/local/lib/python3.7/dist-packages/matplotlib/backends/backend_agg.py:183: RuntimeWarning: Glyph 50836 missing from current font.\n",
            "  font.set_text(s, 0, flags=flags)\n",
            "/usr/local/lib/python3.7/dist-packages/matplotlib/backends/backend_agg.py:183: RuntimeWarning: Glyph 49328 missing from current font.\n",
            "  font.set_text(s, 0, flags=flags)\n"
          ],
          "name": "stderr"
        },
        {
          "output_type": "display_data",
          "data": {
            "image/png": "[encoded data removed]",
            "text/plain": [
              "<Figure size 800x400 with 1 Axes>"
            ]
          },
          "metadata": {
            "tags": []
          }
        }
      ]
    },
    {
      "cell_type": "code",
      "metadata": {
        "colab": {
          "base_uri": "https://localhost:8080/"
        },
        "id": "wvmy4gkEOuTw",
        "outputId": "33117447-7397-4381-875d-69d716dc68f7"
      },
      "source": [
        "!sudo apt=get install -y fonts-nanum\n",
        "!sudo fc-cache -fv\n",
        "!rm ~/.cache/matplotlib -rf"
      ],
      "execution_count": 19,
      "outputs": [
        {
          "output_type": "stream",
          "text": [
            "install: invalid option -- 'y'\n",
            "Try 'install --help' for more information.\n",
            "/usr/share/fonts: caching, new cache contents: 0 fonts, 1 dirs\n",
            "/usr/share/fonts/truetype: caching, new cache contents: 0 fonts, 2 dirs\n",
            "/usr/share/fonts/truetype/humor-sans: caching, new cache contents: 1 fonts, 0 dirs\n",
            "/usr/share/fonts/truetype/liberation: caching, new cache contents: 16 fonts, 0 dirs\n",
            "/usr/local/share/fonts: caching, new cache contents: 0 fonts, 0 dirs\n",
            "/root/.local/share/fonts: skipping, no such directory\n",
            "/root/.fonts: skipping, no such directory\n",
            "/var/cache/fontconfig: cleaning cache directory\n",
            "/root/.cache/fontconfig: not cleaning non-existent cache directory\n",
            "/root/.fontconfig: not cleaning non-existent cache directory\n",
            "fc-cache: succeeded\n"
          ],
          "name": "stdout"
        }
      ]
    },
    {
      "cell_type": "code",
      "metadata": {
        "id": "e9_R2mwMQYNa"
      },
      "source": [
        ""
      ],
      "execution_count": null,
      "outputs": []
    }
  ]
}