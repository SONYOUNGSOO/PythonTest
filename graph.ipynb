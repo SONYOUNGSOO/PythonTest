{
  "nbformat": 4,
  "nbformat_minor": 0,
  "metadata": {
    "colab": {
      "name": "graph.ipynb",
      "provenance": [],
      "collapsed_sections": [],
      "authorship_tag": "ABX9TyPlCVTyeynlPldGvSy8zvQf",
      "include_colab_link": true
    },
    "kernelspec": {
      "name": "python3",
      "display_name": "Python 3"
    },
    "language_info": {
      "name": "python"
    }
  },
  "cells": [
    {
      "cell_type": "markdown",
      "metadata": {
        "id": "view-in-github",
        "colab_type": "text"
      },
      "source": [
        "<a href=\"https://colab.research.google.com/github/SONYOUNGSOO/PythonTest/blob/main/graph.ipynb\" target=\"_parent\"><img src=\"https://colab.research.google.com/assets/colab-badge.svg\" alt=\"Open In Colab\"/></a>"
      ]
    },
    {
      "cell_type": "markdown",
      "metadata": {
        "id": "vMAeotL4KQ2m"
      },
      "source": [
        "#1.Function"
      ]
    },
    {
      "cell_type": "code",
      "metadata": {
        "id": "h5dSJR3SIvNl"
      },
      "source": [
        "stationfares = [\n",
        "    {\"station\": \"청량리\", \"fare\": 1000},\n",
        "    {\"station\": \"성북\", \"fare\": 1100},\n",
        "    {\"station\": \"의정부\", \"fare\": 1200},\n",
        "    {\"station\": \"소요산\", \"fare\": 1300}\n",
        "]"
      ],
      "execution_count": 1,
      "outputs": []
    },
    {
      "cell_type": "code",
      "metadata": {
        "colab": {
          "base_uri": "https://localhost:8080/"
        },
        "id": "bcfaYmXkI4V5",
        "outputId": "9e8b0bb1-bbf4-46ac-83d1-bd39cb189341"
      },
      "source": [
        "stations =[]\n",
        "fares = []\n",
        "for stationfare in stationfares:\n",
        "    stations.append(stationfare['station'])\n",
        "    fares.append(stationfare[\"fare\"])\n",
        "print(stations)\n",
        "print(fares)"
      ],
      "execution_count": 2,
      "outputs": [
        {
          "output_type": "stream",
          "text": [
            "['청량리', '성북', '의정부', '소요산']\n",
            "[1000, 1100, 1200, 1300]\n"
          ],
          "name": "stdout"
        }
      ]
    },
    {
      "cell_type": "code",
      "metadata": {
        "colab": {
          "base_uri": "https://localhost:8080/"
        },
        "id": "4OfW3GDvJv0z",
        "outputId": "c0c7cf09-b43f-4adb-91e2-e4c01bc19620"
      },
      "source": [
        "print(len(stationfares))\n"
      ],
      "execution_count": 3,
      "outputs": [
        {
          "output_type": "stream",
          "text": [
            "4\n"
          ],
          "name": "stdout"
        }
      ]
    },
    {
      "cell_type": "code",
      "metadata": {
        "colab": {
          "base_uri": "https://localhost:8080/"
        },
        "id": "FxToq_GrKktV",
        "outputId": "7822bcb1-3e73-49b1-ba1f-98779cdc860f"
      },
      "source": [
        "for idx, station in enumerate(stations):\n",
        "  print(idx, station)\n",
        "  "
      ],
      "execution_count": 4,
      "outputs": [
        {
          "output_type": "stream",
          "text": [
            "0 청량리\n",
            "1 성북\n",
            "2 의정부\n",
            "3 소요산\n"
          ],
          "name": "stdout"
        }
      ]
    },
    {
      "cell_type": "code",
      "metadata": {
        "colab": {
          "base_uri": "https://localhost:8080/"
        },
        "id": "L5JeKAFaKudP",
        "outputId": "e43198c6-395a-44bc-dc85-6a5df500fde9"
      },
      "source": [
        "sum = lambda a,b : a*b\n",
        "sum(2,3)"
      ],
      "execution_count": 5,
      "outputs": [
        {
          "output_type": "execute_result",
          "data": {
            "text/plain": [
              "6"
            ]
          },
          "metadata": {
            "tags": []
          },
          "execution_count": 5
        }
      ]
    },
    {
      "cell_type": "markdown",
      "metadata": {
        "id": "sU3tSfRNLEvI"
      },
      "source": [
        "#2.Class Ticket Sell\n"
      ]
    },
    {
      "cell_type": "code",
      "metadata": {
        "id": "_YF1wtjeLmIG"
      },
      "source": [
        "class Comments:\n",
        "    title               = \"#### %s 승차권 판매기입니다. ####\"\n",
        "    product_description = \"%s:%s(%s원)\"\n",
        "    insert_fare         = \"\\n요금을 넣어 주세요. : \"\n",
        "    insufficient_fare   = \"%s 요금이 부족합니다. 거스름돈은 %s원 입니다.\"\n",
        "    select_station      = \"원하시는 역번호를 선택하세요.\"\n",
        "    select_error        = \"잘못 입력하셨습니다.\"\n",
        "    finish_sale         = \"선택하신 %s 입니다. 거스름돈은 %s원 입니다.\\n감사합니다.\"\n",
        "    terminate_sale      = \"승차권 판매를 종료합니다.\"\n",
        "    OverStationNum      = \"승차권 선택이 잘못되었습니다.\""
      ],
      "execution_count": 6,
      "outputs": []
    },
    {
      "cell_type": "code",
      "metadata": {
        "id": "1mGm4o1KVxmB"
      },
      "source": [
        "class products1:\n",
        "  productsName=[]\n",
        "  productsValue=[]"
      ],
      "execution_count": 7,
      "outputs": []
    },
    {
      "cell_type": "code",
      "metadata": {
        "id": "FdKwlmTIWB5d"
      },
      "source": [
        "class TicketSell(products1):\n",
        "    _data =  stationfares\n",
        "    _name = \"지하철\"\n",
        "    _status = True\n",
        "\n",
        "    def __init__(self):\n",
        "      print(Comments.title %self._name)\n",
        "      \n",
        "    def set_products(self):\n",
        "      products1.productsName=[]\n",
        "      products1.productsValue=[]\n",
        "      for stationfare in self._data:\n",
        "          products1.productsName.append(stationfare[\"station\"])\n",
        "          products1.productsValue.append(stationfare[\"fare\"])\n",
        "\n",
        "    def run(self):\n",
        "      self.set_products()\n",
        "      while self._status:\n",
        "            try:\n",
        "                inputMoney = int(input(Comments.insert_fare))\n",
        "            except ValueError:\n",
        "                print(Comments.select_error)\n",
        "            else:\n",
        "                self.selectStation(inputMoney)\n",
        "\n",
        "    def selectStation(self,inputMoney):\n",
        "        for idx, name in enumerate(products1.productsName):\n",
        "            fares = products1.productsValue[idx]\n",
        "            print(Comments.product_description %(str(idx), name, fares))\n",
        "\n",
        "        SelectNumber = int(input(Comments.select_station))\n",
        "        MaxSelectNumber = int(len(products1.productsName)-1)\n",
        "        if SelectNumber>MaxSelectNumber:\n",
        "              print(Comments.OverStationNum)\n",
        "              self.run\n",
        "        else:\n",
        "              self.payment(SelectNumber,inputMoney)\n",
        "\n",
        "    def payment(self, SelectNumber , inputMoney):\n",
        "        SubwayName = products1.productsName[SelectNumber]\n",
        "        SubwayFare = products1.productsValue[SelectNumber]\n",
        "\n",
        "        if inputMoney>=SubwayFare :\n",
        "           money= inputMoney - SubwayFare\n",
        "           print(Comments.finish_sale %(SubwayName,money))\n",
        "        else:\n",
        "           print(Comments.insufficient_fare %(SubwayName, str(inputMoney)))"
      ],
      "execution_count": 8,
      "outputs": []
    },
    {
      "cell_type": "code",
      "metadata": {
        "colab": {
          "base_uri": "https://localhost:8080/"
        },
        "id": "iITY0AjGdDNp",
        "outputId": "b09437fb-ac3d-4c7e-8d4d-a226355a3b54"
      },
      "source": [
        "tm =TicketSell()\n",
        "try:\n",
        "    tm.run()\n",
        "except KeyboardInterrupt:\n",
        "    tm._status=False\n",
        "    print(Comments.terminate_sale)"
      ],
      "execution_count": 37,
      "outputs": [
        {
          "output_type": "stream",
          "text": [
            "#### 지하철 승차권 판매기입니다. ####\n",
            "\n",
            "요금을 넣어 주세요. : 100\n",
            "0:청량리(1000원)\n",
            "1:성북(1100원)\n",
            "2:의정부(1200원)\n",
            "3:소요산(1300원)\n",
            "원하시는 역번호를 선택하세요.1\n",
            "성북 요금이 부족합니다. 거스름돈은 100원 입니다.\n",
            "승차권 판매를 종료합니다.\n"
          ],
          "name": "stdout"
        }
      ]
    },
    {
      "cell_type": "markdown",
      "metadata": {
        "id": "9C5ZPO1qjvb_"
      },
      "source": [
        "#3.inheritance"
      ]
    },
    {
      "cell_type": "code",
      "metadata": {
        "id": "7dLQdjWkjytL"
      },
      "source": [
        "railstationfares = [\n",
        "    {\"station\": \"천안\", \"fare\": 15000},\n",
        "    {\"station\": \"대전\", \"fare\": 20000},\n",
        "    {\"station\": \"동대구\", \"fare\": 37000},\n",
        "    {\"station\": \"부산\", \"fare\": 53000}\n",
        "]"
      ],
      "execution_count": 9,
      "outputs": []
    },
    {
      "cell_type": "code",
      "metadata": {
        "id": "bKVKnje_j987"
      },
      "source": [
        "class RailTicket(TicketSell):\n",
        "    _data = railstationfares\n",
        "    _name = \"고속철도\""
      ],
      "execution_count": 10,
      "outputs": []
    },
    {
      "cell_type": "code",
      "metadata": {
        "colab": {
          "base_uri": "https://localhost:8080/"
        },
        "id": "8Y33RbZikPqo",
        "outputId": "f92209e6-1390-426a-c51a-b2fc0da32177"
      },
      "source": [
        "tm =RailTicket()\n",
        "try:\n",
        "    tm.run()\n",
        "except KeyboardInterrupt:\n",
        "    tm._status=False\n",
        "    print(Comments.terminate_sale)"
      ],
      "execution_count": 11,
      "outputs": [
        {
          "output_type": "stream",
          "text": [
            "#### 고속철도 승차권 판매기입니다. ####\n",
            "\n",
            "요금을 넣어 주세요. : 1000\n",
            "0:천안(15000원)\n",
            "1:대전(20000원)\n",
            "2:동대구(37000원)\n",
            "3:부산(53000원)\n",
            "원하시는 역번호를 선택하세요.1\n",
            "대전 요금이 부족합니다. 거스름돈은 1000원 입니다.\n",
            "승차권 판매를 종료합니다.\n"
          ],
          "name": "stdout"
        }
      ]
    },
    {
      "cell_type": "markdown",
      "metadata": {
        "id": "gYGQBlAjOkFU"
      },
      "source": [
        "#4. Graph"
      ]
    },
    {
      "cell_type": "code",
      "metadata": {
        "id": "s1VIQtIOOnxK"
      },
      "source": [
        "import matplotlib.pyplot as plt\n",
        "plt.style.use('classic')"
      ],
      "execution_count": 12,
      "outputs": []
    },
    {
      "cell_type": "code",
      "metadata": {
        "colab": {
          "base_uri": "https://localhost:8080/",
          "height": 396
        },
        "id": "MWxoA0hxOw5Y",
        "outputId": "032f2e87-11d3-4e48-ce82-cd6303d7f1b5"
      },
      "source": [
        "names = products1.productsName\n",
        "values= products1.productsValue\n",
        "plt.figure(figsize=(10,5))\n",
        "plt.bar(name , values)"
      ],
      "execution_count": 20,
      "outputs": [
        {
          "output_type": "execute_result",
          "data": {
            "text/plain": [
              "<BarContainer object of 4 artists>"
            ]
          },
          "metadata": {
            "tags": []
          },
          "execution_count": 20
        },
        {
          "output_type": "display_data",
          "data": {
            "image/png": "[encoded data removed]",
            "text/plain": [
              "<Figure size 800x400 with 1 Axes>"
            ]
          },
          "metadata": {
            "tags": []
          }
        }
      ]
    },
    {
      "cell_type": "code",
      "metadata": {
        "colab": {
          "base_uri": "https://localhost:8080/"
        },
        "id": "wvmy4gkEOuTw",
        "outputId": "96da7394-7877-4642-b095-1dba44c79694"
      },
      "source": [
        "!sudo apt-get install -y fonts-nanum\n",
        "!sudo fc-cache -fv\n",
        "!rm ~/.cache/matplotlib -rf"
      ],
      "execution_count": 17,
      "outputs": [
        {
          "output_type": "stream",
          "text": [
            "Reading package lists... Done\n",
            "Building dependency tree       \n",
            "Reading state information... Done\n",
            "The following package was automatically installed and is no longer required:\n",
            "  libnvidia-common-460\n",
            "Use 'sudo apt autoremove' to remove it.\n",
            "The following NEW packages will be installed:\n",
            "  fonts-nanum\n",
            "0 upgraded, 1 newly installed, 0 to remove and 34 not upgraded.\n",
            "Need to get 9,604 kB of archives.\n",
            "After this operation, 29.5 MB of additional disk space will be used.\n",
            "Get:1 http://archive.ubuntu.com/ubuntu bionic/universe amd64 fonts-nanum all 20170925-1 [9,604 kB]\n",
            "Fetched 9,604 kB in 1s (8,901 kB/s)\n",
            "debconf: unable to initialize frontend: Dialog\n",
            "debconf: (No usable dialog-like program is installed, so the dialog based frontend cannot be used. at /usr/share/perl5/Debconf/FrontEnd/Dialog.pm line 76, <> line 1.)\n",
            "debconf: falling back to frontend: Readline\n",
            "debconf: unable to initialize frontend: Readline\n",
            "debconf: (This frontend requires a controlling tty.)\n",
            "debconf: falling back to frontend: Teletype\n",
            "dpkg-preconfigure: unable to re-open stdin: \n",
            "Selecting previously unselected package fonts-nanum.\n",
            "(Reading database ... 160690 files and directories currently installed.)\n",
            "Preparing to unpack .../fonts-nanum_20170925-1_all.deb ...\n",
            "Unpacking fonts-nanum (20170925-1) ...\n",
            "Setting up fonts-nanum (20170925-1) ...\n",
            "Processing triggers for fontconfig (2.12.6-0ubuntu2) ...\n",
            "/usr/share/fonts: caching, new cache contents: 0 fonts, 1 dirs\n",
            "/usr/share/fonts/truetype: caching, new cache contents: 0 fonts, 3 dirs\n",
            "/usr/share/fonts/truetype/humor-sans: caching, new cache contents: 1 fonts, 0 dirs\n",
            "/usr/share/fonts/truetype/liberation: caching, new cache contents: 16 fonts, 0 dirs\n",
            "/usr/share/fonts/truetype/nanum: caching, new cache contents: 10 fonts, 0 dirs\n",
            "/usr/local/share/fonts: caching, new cache contents: 0 fonts, 0 dirs\n",
            "/root/.local/share/fonts: skipping, no such directory\n",
            "/root/.fonts: skipping, no such directory\n",
            "/var/cache/fontconfig: cleaning cache directory\n",
            "/root/.cache/fontconfig: not cleaning non-existent cache directory\n",
            "/root/.fontconfig: not cleaning non-existent cache directory\n",
            "fc-cache: succeeded\n"
          ],
          "name": "stdout"
        }
      ]
    },
    {
      "cell_type": "markdown",
      "metadata": {
        "id": "hS4k5p1lSjqL"
      },
      "source": [
        "한글이 깨져서 런타임"
      ]
    },
    {
      "cell_type": "code",
      "metadata": {
        "id": "e9_R2mwMQYNa"
      },
      "source": [
        "plt.rc('font',family = 'NanumBarunGothic')"
      ],
      "execution_count": 13,
      "outputs": []
    },
    {
      "cell_type": "code",
      "metadata": {
        "colab": {
          "base_uri": "https://localhost:8080/",
          "height": 396
        },
        "id": "47UZw1VwRTlY",
        "outputId": "9ac09744-1f52-479b-d604-2095ef80d919"
      },
      "source": [
        "plt.figure(figsize=(10,5))\n",
        "plt.bar(name , values)"
      ],
      "execution_count": 16,
      "outputs": [
        {
          "output_type": "execute_result",
          "data": {
            "text/plain": [
              "<BarContainer object of 4 artists>"
            ]
          },
          "metadata": {
            "tags": []
          },
          "execution_count": 16
        },
        {
          "output_type": "display_data",
          "data": {
            "image/png": "[encoded data removed]",
            "text/plain": [
              "<Figure size 800x400 with 1 Axes>"
            ]
          },
          "metadata": {
            "tags": []
          }
        }
      ]
    },
    {
      "cell_type": "code",
      "metadata": {
        "colab": {
          "base_uri": "https://localhost:8080/",
          "height": 396
        },
        "id": "iRYN8gA6S4Wo",
        "outputId": "20458c35-aeb5-4dd0-d8cf-7c463351d315"
      },
      "source": [
        "plt.figure(figsize=(10,5))\n",
        "plt.plot(name , values)"
      ],
      "execution_count": 17,
      "outputs": [
        {
          "output_type": "execute_result",
          "data": {
            "text/plain": [
              "[<matplotlib.lines.Line2D at 0x7f980c528890>]"
            ]
          },
          "metadata": {
            "tags": []
          },
          "execution_count": 17
        },
        {
          "output_type": "display_data",
          "data": {
            "image/png": "[encoded data removed]",
            "text/plain": [
              "<Figure size 800x400 with 1 Axes>"
            ]
          },
          "metadata": {
            "tags": []
          }
        }
      ]
    },
    {
      "cell_type": "code",
      "metadata": {
        "colab": {
          "base_uri": "https://localhost:8080/",
          "height": 491
        },
        "id": "QoLnftyETCfu",
        "outputId": "f09f9e2b-ec80-486e-f53a-b58ec7111c9b"
      },
      "source": [
        "plt.xlabel('정류장')\n",
        "plt.ylabel('요금')\n",
        "plt.title('정류장별 요금')\n",
        "plt.plot(name,values,linewidth=5.0, alpha = 0.5, color = 'red')"
      ],
      "execution_count": 26,
      "outputs": [
        {
          "output_type": "execute_result",
          "data": {
            "text/plain": [
              "[<matplotlib.lines.Line2D at 0x7f980bef6390>]"
            ]
          },
          "metadata": {
            "tags": []
          },
          "execution_count": 26
        },
        {
          "output_type": "display_data",
          "data": {
            "image/png": "[encoded data removed]",
            "text/plain": [
              "<Figure size 640x480 with 1 Axes>"
            ]
          },
          "metadata": {
            "tags": []
          }
        }
      ]
    },
    {
      "cell_type": "code",
      "metadata": {
        "id": "l_OpVzavTZBr"
      },
      "source": [
        ""
      ],
      "execution_count": null,
      "outputs": []
    }
  ]
}