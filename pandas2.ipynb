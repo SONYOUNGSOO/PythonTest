{
  "nbformat": 4,
  "nbformat_minor": 0,
  "metadata": {
    "colab": {
      "name": "pandas2.ipynb",
      "provenance": [],
      "collapsed_sections": [],
      "authorship_tag": "ABX9TyPI1BizVNU+ixhFz599UYwz",
      "include_colab_link": true
    },
    "kernelspec": {
      "name": "python3",
      "display_name": "Python 3"
    },
    "language_info": {
      "name": "python"
    }
  },
  "cells": [
    {
      "cell_type": "markdown",
      "metadata": {
        "id": "view-in-github",
        "colab_type": "text"
      },
      "source": [
        "<a href=\"https://colab.research.google.com/github/SONYOUNGSOO/PythonTest/blob/main/pandas2.ipynb\" target=\"_parent\"><img src=\"https://colab.research.google.com/assets/colab-badge.svg\" alt=\"Open In Colab\"/></a>"
      ]
    },
    {
      "cell_type": "markdown",
      "metadata": {
        "id": "gcKebXR5skg7"
      },
      "source": [
        "#1. Mount Drive"
      ]
    },
    {
      "cell_type": "code",
      "metadata": {
        "colab": {
          "base_uri": "https://localhost:8080/"
        },
        "id": "AMjm9oyesiXy",
        "outputId": "03b98b40-e7ab-4964-a30c-27f31bd62d45"
      },
      "source": [
        "from google.colab import drive\n",
        "drive.mount('/gdrive')"
      ],
      "execution_count": 2,
      "outputs": [
        {
          "output_type": "stream",
          "text": [
            "Drive already mounted at /gdrive; to attempt to forcibly remount, call drive.mount(\"/gdrive\", force_remount=True).\n"
          ],
          "name": "stdout"
        }
      ]
    },
    {
      "cell_type": "code",
      "metadata": {
        "colab": {
          "base_uri": "https://localhost:8080/"
        },
        "id": "LGEBJ0oKtfa0",
        "outputId": "1fd23157-ca53-4427-ec65-1440f3f525a2"
      },
      "source": [
        "!ls -al '/gdrive/My Drive/data'"
      ],
      "execution_count": 3,
      "outputs": [
        {
          "output_type": "stream",
          "text": [
            "total 2169852\n",
            "-rw------- 1 root root     52512 Feb  1 01:51 ETC_75_04_01_580736.csv\n",
            "-rw------- 1 root root 738556069 Apr  1  2020 TCS_11_03_02_377727.csv\n",
            "-rw------- 1 root root 699429059 Mar  1  2020 TCS_11_03_02_447126.csv\n",
            "-rw------- 1 root root 783889122 Feb  1  2020 TCS_11_03_02_598345.csv\n"
          ],
          "name": "stdout"
        }
      ]
    },
    {
      "cell_type": "markdown",
      "metadata": {
        "id": "Ag6AgQNUt3gs"
      },
      "source": [
        "#2. Load Data"
      ]
    },
    {
      "cell_type": "code",
      "metadata": {
        "id": "VKF2SV2ft5Ki"
      },
      "source": [
        "import pandas as pd"
      ],
      "execution_count": 4,
      "outputs": []
    },
    {
      "cell_type": "code",
      "metadata": {
        "id": "fGAytU_At-gt"
      },
      "source": [
        "#Load a file under \"data\" folder\n",
        "file = \"/gdrive/My Drive/data/TCS_11_03_02_598345.csv\"\n",
        "data = pd.read_csv(file, sep=\",\",encoding=\"euc-kr\") "
      ],
      "execution_count": 5,
      "outputs": []
    },
    {
      "cell_type": "code",
      "metadata": {
        "colab": {
          "base_uri": "https://localhost:8080/",
          "height": 204
        },
        "id": "JGTPp_vpu7q-",
        "outputId": "1de795cd-f27b-426e-ca60-0b309ddc0a24"
      },
      "source": [
        "data.head()"
      ],
      "execution_count": 6,
      "outputs": [
        {
          "output_type": "execute_result",
          "data": {
            "text/html": [
              "<div>\n",
              "<style scoped>\n",
              "    .dataframe tbody tr th:only-of-type {\n",
              "        vertical-align: middle;\n",
              "    }\n",
              "\n",
              "    .dataframe tbody tr th {\n",
              "        vertical-align: top;\n",
              "    }\n",
              "\n",
              "    .dataframe thead th {\n",
              "        text-align: right;\n",
              "    }\n",
              "</style>\n",
              "<table border=\"1\" class=\"dataframe\">\n",
              "  <thead>\n",
              "    <tr style=\"text-align: right;\">\n",
              "      <th></th>\n",
              "      <th>집계일자</th>\n",
              "      <th>집계시</th>\n",
              "      <th>출발영업소코드</th>\n",
              "      <th>도착영업소코드</th>\n",
              "      <th>TCS차종구분코드</th>\n",
              "      <th>통행시간</th>\n",
              "      <th>Unnamed: 6</th>\n",
              "    </tr>\n",
              "  </thead>\n",
              "  <tbody>\n",
              "    <tr>\n",
              "      <th>0</th>\n",
              "      <td>20200101</td>\n",
              "      <td>17</td>\n",
              "      <td>0</td>\n",
              "      <td>101</td>\n",
              "      <td>3</td>\n",
              "      <td>-1</td>\n",
              "      <td>NaN</td>\n",
              "    </tr>\n",
              "    <tr>\n",
              "      <th>1</th>\n",
              "      <td>20200101</td>\n",
              "      <td>17</td>\n",
              "      <td>0</td>\n",
              "      <td>101</td>\n",
              "      <td>1</td>\n",
              "      <td>-1</td>\n",
              "      <td>NaN</td>\n",
              "    </tr>\n",
              "    <tr>\n",
              "      <th>2</th>\n",
              "      <td>20200101</td>\n",
              "      <td>9</td>\n",
              "      <td>0</td>\n",
              "      <td>101</td>\n",
              "      <td>2</td>\n",
              "      <td>-1</td>\n",
              "      <td>NaN</td>\n",
              "    </tr>\n",
              "    <tr>\n",
              "      <th>3</th>\n",
              "      <td>20200101</td>\n",
              "      <td>9</td>\n",
              "      <td>0</td>\n",
              "      <td>101</td>\n",
              "      <td>1</td>\n",
              "      <td>-1</td>\n",
              "      <td>NaN</td>\n",
              "    </tr>\n",
              "    <tr>\n",
              "      <th>4</th>\n",
              "      <td>20200101</td>\n",
              "      <td>7</td>\n",
              "      <td>0</td>\n",
              "      <td>101</td>\n",
              "      <td>1</td>\n",
              "      <td>-1</td>\n",
              "      <td>NaN</td>\n",
              "    </tr>\n",
              "  </tbody>\n",
              "</table>\n",
              "</div>"
            ],
            "text/plain": [
              "       집계일자  집계시  출발영업소코드  도착영업소코드  TCS차종구분코드  통행시간  Unnamed: 6\n",
              "0  20200101   17        0      101          3    -1         NaN\n",
              "1  20200101   17        0      101          1    -1         NaN\n",
              "2  20200101    9        0      101          2    -1         NaN\n",
              "3  20200101    9        0      101          1    -1         NaN\n",
              "4  20200101    7        0      101          1    -1         NaN"
            ]
          },
          "metadata": {
            "tags": []
          },
          "execution_count": 6
        }
      ]
    },
    {
      "cell_type": "code",
      "metadata": {
        "colab": {
          "base_uri": "https://localhost:8080/",
          "height": 359
        },
        "id": "ivkJCXHfvMfb",
        "outputId": "c68d89c9-d2db-472c-befa-a3194ceb0590"
      },
      "source": [
        "data.head(10)"
      ],
      "execution_count": 7,
      "outputs": [
        {
          "output_type": "execute_result",
          "data": {
            "text/html": [
              "<div>\n",
              "<style scoped>\n",
              "    .dataframe tbody tr th:only-of-type {\n",
              "        vertical-align: middle;\n",
              "    }\n",
              "\n",
              "    .dataframe tbody tr th {\n",
              "        vertical-align: top;\n",
              "    }\n",
              "\n",
              "    .dataframe thead th {\n",
              "        text-align: right;\n",
              "    }\n",
              "</style>\n",
              "<table border=\"1\" class=\"dataframe\">\n",
              "  <thead>\n",
              "    <tr style=\"text-align: right;\">\n",
              "      <th></th>\n",
              "      <th>집계일자</th>\n",
              "      <th>집계시</th>\n",
              "      <th>출발영업소코드</th>\n",
              "      <th>도착영업소코드</th>\n",
              "      <th>TCS차종구분코드</th>\n",
              "      <th>통행시간</th>\n",
              "      <th>Unnamed: 6</th>\n",
              "    </tr>\n",
              "  </thead>\n",
              "  <tbody>\n",
              "    <tr>\n",
              "      <th>0</th>\n",
              "      <td>20200101</td>\n",
              "      <td>17</td>\n",
              "      <td>0</td>\n",
              "      <td>101</td>\n",
              "      <td>3</td>\n",
              "      <td>-1</td>\n",
              "      <td>NaN</td>\n",
              "    </tr>\n",
              "    <tr>\n",
              "      <th>1</th>\n",
              "      <td>20200101</td>\n",
              "      <td>17</td>\n",
              "      <td>0</td>\n",
              "      <td>101</td>\n",
              "      <td>1</td>\n",
              "      <td>-1</td>\n",
              "      <td>NaN</td>\n",
              "    </tr>\n",
              "    <tr>\n",
              "      <th>2</th>\n",
              "      <td>20200101</td>\n",
              "      <td>9</td>\n",
              "      <td>0</td>\n",
              "      <td>101</td>\n",
              "      <td>2</td>\n",
              "      <td>-1</td>\n",
              "      <td>NaN</td>\n",
              "    </tr>\n",
              "    <tr>\n",
              "      <th>3</th>\n",
              "      <td>20200101</td>\n",
              "      <td>9</td>\n",
              "      <td>0</td>\n",
              "      <td>101</td>\n",
              "      <td>1</td>\n",
              "      <td>-1</td>\n",
              "      <td>NaN</td>\n",
              "    </tr>\n",
              "    <tr>\n",
              "      <th>4</th>\n",
              "      <td>20200101</td>\n",
              "      <td>7</td>\n",
              "      <td>0</td>\n",
              "      <td>101</td>\n",
              "      <td>1</td>\n",
              "      <td>-1</td>\n",
              "      <td>NaN</td>\n",
              "    </tr>\n",
              "    <tr>\n",
              "      <th>5</th>\n",
              "      <td>20200101</td>\n",
              "      <td>9</td>\n",
              "      <td>0</td>\n",
              "      <td>101</td>\n",
              "      <td>3</td>\n",
              "      <td>-1</td>\n",
              "      <td>NaN</td>\n",
              "    </tr>\n",
              "    <tr>\n",
              "      <th>6</th>\n",
              "      <td>20200101</td>\n",
              "      <td>6</td>\n",
              "      <td>0</td>\n",
              "      <td>101</td>\n",
              "      <td>1</td>\n",
              "      <td>-1</td>\n",
              "      <td>NaN</td>\n",
              "    </tr>\n",
              "    <tr>\n",
              "      <th>7</th>\n",
              "      <td>20200101</td>\n",
              "      <td>6</td>\n",
              "      <td>0</td>\n",
              "      <td>101</td>\n",
              "      <td>3</td>\n",
              "      <td>-1</td>\n",
              "      <td>NaN</td>\n",
              "    </tr>\n",
              "    <tr>\n",
              "      <th>8</th>\n",
              "      <td>20200101</td>\n",
              "      <td>7</td>\n",
              "      <td>0</td>\n",
              "      <td>101</td>\n",
              "      <td>3</td>\n",
              "      <td>-1</td>\n",
              "      <td>NaN</td>\n",
              "    </tr>\n",
              "    <tr>\n",
              "      <th>9</th>\n",
              "      <td>20200101</td>\n",
              "      <td>19</td>\n",
              "      <td>0</td>\n",
              "      <td>101</td>\n",
              "      <td>1</td>\n",
              "      <td>-1</td>\n",
              "      <td>NaN</td>\n",
              "    </tr>\n",
              "  </tbody>\n",
              "</table>\n",
              "</div>"
            ],
            "text/plain": [
              "       집계일자  집계시  출발영업소코드  도착영업소코드  TCS차종구분코드  통행시간  Unnamed: 6\n",
              "0  20200101   17        0      101          3    -1         NaN\n",
              "1  20200101   17        0      101          1    -1         NaN\n",
              "2  20200101    9        0      101          2    -1         NaN\n",
              "3  20200101    9        0      101          1    -1         NaN\n",
              "4  20200101    7        0      101          1    -1         NaN\n",
              "5  20200101    9        0      101          3    -1         NaN\n",
              "6  20200101    6        0      101          1    -1         NaN\n",
              "7  20200101    6        0      101          3    -1         NaN\n",
              "8  20200101    7        0      101          3    -1         NaN\n",
              "9  20200101   19        0      101          1    -1         NaN"
            ]
          },
          "metadata": {
            "tags": []
          },
          "execution_count": 7
        }
      ]
    },
    {
      "cell_type": "code",
      "metadata": {
        "colab": {
          "base_uri": "https://localhost:8080/",
          "height": 204
        },
        "id": "sIHzKFJovP1u",
        "outputId": "b8233eb7-793b-4413-dbd2-62bfa75dbe98"
      },
      "source": [
        "data.tail()"
      ],
      "execution_count": 8,
      "outputs": [
        {
          "output_type": "execute_result",
          "data": {
            "text/html": [
              "<div>\n",
              "<style scoped>\n",
              "    .dataframe tbody tr th:only-of-type {\n",
              "        vertical-align: middle;\n",
              "    }\n",
              "\n",
              "    .dataframe tbody tr th {\n",
              "        vertical-align: top;\n",
              "    }\n",
              "\n",
              "    .dataframe thead th {\n",
              "        text-align: right;\n",
              "    }\n",
              "</style>\n",
              "<table border=\"1\" class=\"dataframe\">\n",
              "  <thead>\n",
              "    <tr style=\"text-align: right;\">\n",
              "      <th></th>\n",
              "      <th>집계일자</th>\n",
              "      <th>집계시</th>\n",
              "      <th>출발영업소코드</th>\n",
              "      <th>도착영업소코드</th>\n",
              "      <th>TCS차종구분코드</th>\n",
              "      <th>통행시간</th>\n",
              "      <th>Unnamed: 6</th>\n",
              "    </tr>\n",
              "  </thead>\n",
              "  <tbody>\n",
              "    <tr>\n",
              "      <th>25596211</th>\n",
              "      <td>20200131</td>\n",
              "      <td>9</td>\n",
              "      <td>272</td>\n",
              "      <td>641</td>\n",
              "      <td>1</td>\n",
              "      <td>8388</td>\n",
              "      <td>NaN</td>\n",
              "    </tr>\n",
              "    <tr>\n",
              "      <th>25596212</th>\n",
              "      <td>20200131</td>\n",
              "      <td>15</td>\n",
              "      <td>137</td>\n",
              "      <td>245</td>\n",
              "      <td>3</td>\n",
              "      <td>2341</td>\n",
              "      <td>NaN</td>\n",
              "    </tr>\n",
              "    <tr>\n",
              "      <th>25596213</th>\n",
              "      <td>20200131</td>\n",
              "      <td>6</td>\n",
              "      <td>127</td>\n",
              "      <td>612</td>\n",
              "      <td>5</td>\n",
              "      <td>42535</td>\n",
              "      <td>NaN</td>\n",
              "    </tr>\n",
              "    <tr>\n",
              "      <th>25596214</th>\n",
              "      <td>20200131</td>\n",
              "      <td>6</td>\n",
              "      <td>671</td>\n",
              "      <td>127</td>\n",
              "      <td>1</td>\n",
              "      <td>9494</td>\n",
              "      <td>NaN</td>\n",
              "    </tr>\n",
              "    <tr>\n",
              "      <th>25596215</th>\n",
              "      <td>20200131</td>\n",
              "      <td>17</td>\n",
              "      <td>212</td>\n",
              "      <td>253</td>\n",
              "      <td>3</td>\n",
              "      <td>833</td>\n",
              "      <td>NaN</td>\n",
              "    </tr>\n",
              "  </tbody>\n",
              "</table>\n",
              "</div>"
            ],
            "text/plain": [
              "              집계일자  집계시  출발영업소코드  도착영업소코드  TCS차종구분코드   통행시간  Unnamed: 6\n",
              "25596211  20200131    9      272      641          1   8388         NaN\n",
              "25596212  20200131   15      137      245          3   2341         NaN\n",
              "25596213  20200131    6      127      612          5  42535         NaN\n",
              "25596214  20200131    6      671      127          1   9494         NaN\n",
              "25596215  20200131   17      212      253          3    833         NaN"
            ]
          },
          "metadata": {
            "tags": []
          },
          "execution_count": 8
        }
      ]
    },
    {
      "cell_type": "code",
      "metadata": {
        "colab": {
          "base_uri": "https://localhost:8080/"
        },
        "id": "uyYIdQxkvRib",
        "outputId": "5faded27-ef6f-438e-e9e5-9a8e825c7631"
      },
      "source": [
        "data.info()"
      ],
      "execution_count": 9,
      "outputs": [
        {
          "output_type": "stream",
          "text": [
            "<class 'pandas.core.frame.DataFrame'>\n",
            "RangeIndex: 25596216 entries, 0 to 25596215\n",
            "Data columns (total 7 columns):\n",
            " #   Column      Dtype  \n",
            "---  ------      -----  \n",
            " 0   집계일자        int64  \n",
            " 1   집계시         int64  \n",
            " 2   출발영업소코드     int64  \n",
            " 3   도착영업소코드     int64  \n",
            " 4   TCS차종구분코드   int64  \n",
            " 5   통행시간        int64  \n",
            " 6   Unnamed: 6  float64\n",
            "dtypes: float64(1), int64(6)\n",
            "memory usage: 1.3 GB\n"
          ],
          "name": "stdout"
        }
      ]
    },
    {
      "cell_type": "markdown",
      "metadata": {
        "id": "V1DoCIm4vrgP"
      },
      "source": [
        "#3.Clean Data"
      ]
    },
    {
      "cell_type": "code",
      "metadata": {
        "colab": {
          "base_uri": "https://localhost:8080/"
        },
        "id": "S7rz88lovvzW",
        "outputId": "770eabe4-6cd2-4551-f1f1-7c46280d1829"
      },
      "source": [
        "#Checking null value\n",
        "data.isnull().sum(axis=0)"
      ],
      "execution_count": 10,
      "outputs": [
        {
          "output_type": "execute_result",
          "data": {
            "text/plain": [
              "집계일자                 0\n",
              "집계시                  0\n",
              "출발영업소코드              0\n",
              "도착영업소코드              0\n",
              "TCS차종구분코드            0\n",
              "통행시간                 0\n",
              "Unnamed: 6    25596216\n",
              "dtype: int64"
            ]
          },
          "metadata": {
            "tags": []
          },
          "execution_count": 10
        }
      ]
    },
    {
      "cell_type": "code",
      "metadata": {
        "colab": {
          "base_uri": "https://localhost:8080/"
        },
        "id": "7Y9SqAhVwaN_",
        "outputId": "f76df627-21f1-4fa7-a4af-05fa4900eed6"
      },
      "source": [
        "#show columns of the dta frame\n",
        "data.columns "
      ],
      "execution_count": 11,
      "outputs": [
        {
          "output_type": "execute_result",
          "data": {
            "text/plain": [
              "Index(['집계일자', '집계시', '출발영업소코드', '도착영업소코드', 'TCS차종구분코드', '통행시간', 'Unnamed: 6'], dtype='object')"
            ]
          },
          "metadata": {
            "tags": []
          },
          "execution_count": 11
        }
      ]
    },
    {
      "cell_type": "code",
      "metadata": {
        "colab": {
          "base_uri": "https://localhost:8080/",
          "height": 35
        },
        "id": "tson85qYw5Ff",
        "outputId": "923183be-4d21-4419-8925-97096989bafe"
      },
      "source": [
        "data.columns[1]"
      ],
      "execution_count": 12,
      "outputs": [
        {
          "output_type": "execute_result",
          "data": {
            "application/vnd.google.colaboratory.intrinsic+json": {
              "type": "string"
            },
            "text/plain": [
              "'집계시'"
            ]
          },
          "metadata": {
            "tags": []
          },
          "execution_count": 12
        }
      ]
    },
    {
      "cell_type": "code",
      "metadata": {
        "id": "zJHQIshZw6NG"
      },
      "source": [
        "#drop smoe columns with null values\n",
        "data_clean = data.drop(['Unnamed: 6'],axis ='columns')"
      ],
      "execution_count": 13,
      "outputs": []
    },
    {
      "cell_type": "code",
      "metadata": {
        "colab": {
          "base_uri": "https://localhost:8080/",
          "height": 204
        },
        "id": "2JKB3WvwxRGQ",
        "outputId": "9ac57b9c-579f-468a-80a7-cc9c018164ae"
      },
      "source": [
        "data_clean.head()"
      ],
      "execution_count": 14,
      "outputs": [
        {
          "output_type": "execute_result",
          "data": {
            "text/html": [
              "<div>\n",
              "<style scoped>\n",
              "    .dataframe tbody tr th:only-of-type {\n",
              "        vertical-align: middle;\n",
              "    }\n",
              "\n",
              "    .dataframe tbody tr th {\n",
              "        vertical-align: top;\n",
              "    }\n",
              "\n",
              "    .dataframe thead th {\n",
              "        text-align: right;\n",
              "    }\n",
              "</style>\n",
              "<table border=\"1\" class=\"dataframe\">\n",
              "  <thead>\n",
              "    <tr style=\"text-align: right;\">\n",
              "      <th></th>\n",
              "      <th>집계일자</th>\n",
              "      <th>집계시</th>\n",
              "      <th>출발영업소코드</th>\n",
              "      <th>도착영업소코드</th>\n",
              "      <th>TCS차종구분코드</th>\n",
              "      <th>통행시간</th>\n",
              "    </tr>\n",
              "  </thead>\n",
              "  <tbody>\n",
              "    <tr>\n",
              "      <th>0</th>\n",
              "      <td>20200101</td>\n",
              "      <td>17</td>\n",
              "      <td>0</td>\n",
              "      <td>101</td>\n",
              "      <td>3</td>\n",
              "      <td>-1</td>\n",
              "    </tr>\n",
              "    <tr>\n",
              "      <th>1</th>\n",
              "      <td>20200101</td>\n",
              "      <td>17</td>\n",
              "      <td>0</td>\n",
              "      <td>101</td>\n",
              "      <td>1</td>\n",
              "      <td>-1</td>\n",
              "    </tr>\n",
              "    <tr>\n",
              "      <th>2</th>\n",
              "      <td>20200101</td>\n",
              "      <td>9</td>\n",
              "      <td>0</td>\n",
              "      <td>101</td>\n",
              "      <td>2</td>\n",
              "      <td>-1</td>\n",
              "    </tr>\n",
              "    <tr>\n",
              "      <th>3</th>\n",
              "      <td>20200101</td>\n",
              "      <td>9</td>\n",
              "      <td>0</td>\n",
              "      <td>101</td>\n",
              "      <td>1</td>\n",
              "      <td>-1</td>\n",
              "    </tr>\n",
              "    <tr>\n",
              "      <th>4</th>\n",
              "      <td>20200101</td>\n",
              "      <td>7</td>\n",
              "      <td>0</td>\n",
              "      <td>101</td>\n",
              "      <td>1</td>\n",
              "      <td>-1</td>\n",
              "    </tr>\n",
              "  </tbody>\n",
              "</table>\n",
              "</div>"
            ],
            "text/plain": [
              "       집계일자  집계시  출발영업소코드  도착영업소코드  TCS차종구분코드  통행시간\n",
              "0  20200101   17        0      101          3    -1\n",
              "1  20200101   17        0      101          1    -1\n",
              "2  20200101    9        0      101          2    -1\n",
              "3  20200101    9        0      101          1    -1\n",
              "4  20200101    7        0      101          1    -1"
            ]
          },
          "metadata": {
            "tags": []
          },
          "execution_count": 14
        }
      ]
    },
    {
      "cell_type": "code",
      "metadata": {
        "colab": {
          "base_uri": "https://localhost:8080/"
        },
        "id": "Gp-IAiSHxaJK",
        "outputId": "fa06316f-3bfd-4b0c-e2da-16d5e981a827"
      },
      "source": [
        "(data_clean.통행시간 > 0).unique()"
      ],
      "execution_count": 15,
      "outputs": [
        {
          "output_type": "execute_result",
          "data": {
            "text/plain": [
              "array([False,  True])"
            ]
          },
          "metadata": {
            "tags": []
          },
          "execution_count": 15
        }
      ]
    },
    {
      "cell_type": "code",
      "metadata": {
        "colab": {
          "base_uri": "https://localhost:8080/"
        },
        "id": "Pg-bU-mJyR1Q",
        "outputId": "1f49b7a9-b4c4-4865-a32f-ebbe439706a8"
      },
      "source": [
        "data_clean.통행시간 > 0"
      ],
      "execution_count": 16,
      "outputs": [
        {
          "output_type": "execute_result",
          "data": {
            "text/plain": [
              "0           False\n",
              "1           False\n",
              "2           False\n",
              "3           False\n",
              "4           False\n",
              "            ...  \n",
              "25596211     True\n",
              "25596212     True\n",
              "25596213     True\n",
              "25596214     True\n",
              "25596215     True\n",
              "Name: 통행시간, Length: 25596216, dtype: bool"
            ]
          },
          "metadata": {
            "tags": []
          },
          "execution_count": 16
        }
      ]
    },
    {
      "cell_type": "code",
      "metadata": {
        "id": "Vz2CT-IgyA5f"
      },
      "source": [
        "data_clean = data_clean[data_clean.통행시간 > 0] # 0보다 큰 내용만 넣는다."
      ],
      "execution_count": 17,
      "outputs": []
    },
    {
      "cell_type": "code",
      "metadata": {
        "colab": {
          "base_uri": "https://localhost:8080/",
          "height": 204
        },
        "id": "O0gMwRM1yIy7",
        "outputId": "0a67ad3c-92fc-4562-f93b-3fde6c01b6b0"
      },
      "source": [
        "data_clean.head()"
      ],
      "execution_count": 18,
      "outputs": [
        {
          "output_type": "execute_result",
          "data": {
            "text/html": [
              "<div>\n",
              "<style scoped>\n",
              "    .dataframe tbody tr th:only-of-type {\n",
              "        vertical-align: middle;\n",
              "    }\n",
              "\n",
              "    .dataframe tbody tr th {\n",
              "        vertical-align: top;\n",
              "    }\n",
              "\n",
              "    .dataframe thead th {\n",
              "        text-align: right;\n",
              "    }\n",
              "</style>\n",
              "<table border=\"1\" class=\"dataframe\">\n",
              "  <thead>\n",
              "    <tr style=\"text-align: right;\">\n",
              "      <th></th>\n",
              "      <th>집계일자</th>\n",
              "      <th>집계시</th>\n",
              "      <th>출발영업소코드</th>\n",
              "      <th>도착영업소코드</th>\n",
              "      <th>TCS차종구분코드</th>\n",
              "      <th>통행시간</th>\n",
              "    </tr>\n",
              "  </thead>\n",
              "  <tbody>\n",
              "    <tr>\n",
              "      <th>5853</th>\n",
              "      <td>20200101</td>\n",
              "      <td>22</td>\n",
              "      <td>101</td>\n",
              "      <td>102</td>\n",
              "      <td>6</td>\n",
              "      <td>632</td>\n",
              "    </tr>\n",
              "    <tr>\n",
              "      <th>5854</th>\n",
              "      <td>20200101</td>\n",
              "      <td>22</td>\n",
              "      <td>101</td>\n",
              "      <td>102</td>\n",
              "      <td>3</td>\n",
              "      <td>633</td>\n",
              "    </tr>\n",
              "    <tr>\n",
              "      <th>5855</th>\n",
              "      <td>20200101</td>\n",
              "      <td>16</td>\n",
              "      <td>101</td>\n",
              "      <td>102</td>\n",
              "      <td>6</td>\n",
              "      <td>650</td>\n",
              "    </tr>\n",
              "    <tr>\n",
              "      <th>5856</th>\n",
              "      <td>20200101</td>\n",
              "      <td>16</td>\n",
              "      <td>101</td>\n",
              "      <td>102</td>\n",
              "      <td>1</td>\n",
              "      <td>623</td>\n",
              "    </tr>\n",
              "    <tr>\n",
              "      <th>5857</th>\n",
              "      <td>20200101</td>\n",
              "      <td>16</td>\n",
              "      <td>101</td>\n",
              "      <td>102</td>\n",
              "      <td>3</td>\n",
              "      <td>626</td>\n",
              "    </tr>\n",
              "  </tbody>\n",
              "</table>\n",
              "</div>"
            ],
            "text/plain": [
              "          집계일자  집계시  출발영업소코드  도착영업소코드  TCS차종구분코드  통행시간\n",
              "5853  20200101   22      101      102          6   632\n",
              "5854  20200101   22      101      102          3   633\n",
              "5855  20200101   16      101      102          6   650\n",
              "5856  20200101   16      101      102          1   623\n",
              "5857  20200101   16      101      102          3   626"
            ]
          },
          "metadata": {
            "tags": []
          },
          "execution_count": 18
        }
      ]
    },
    {
      "cell_type": "code",
      "metadata": {
        "colab": {
          "base_uri": "https://localhost:8080/"
        },
        "id": "-WuAdQY3yLj0",
        "outputId": "439ddf96-b262-426f-bfd3-27b148f4f484"
      },
      "source": [
        "#select by ',' Operator\n",
        "data.집계일자"
      ],
      "execution_count": 19,
      "outputs": [
        {
          "output_type": "execute_result",
          "data": {
            "text/plain": [
              "0           20200101\n",
              "1           20200101\n",
              "2           20200101\n",
              "3           20200101\n",
              "4           20200101\n",
              "              ...   \n",
              "25596211    20200131\n",
              "25596212    20200131\n",
              "25596213    20200131\n",
              "25596214    20200131\n",
              "25596215    20200131\n",
              "Name: 집계일자, Length: 25596216, dtype: int64"
            ]
          },
          "metadata": {
            "tags": []
          },
          "execution_count": 19
        }
      ]
    },
    {
      "cell_type": "code",
      "metadata": {
        "colab": {
          "base_uri": "https://localhost:8080/"
        },
        "id": "TAlxfH2V08HA",
        "outputId": "a5de806b-1e53-42dd-9ed8-24eff0a23047"
      },
      "source": [
        "#select by [] Operator\n",
        "data['집계일자']"
      ],
      "execution_count": 20,
      "outputs": [
        {
          "output_type": "execute_result",
          "data": {
            "text/plain": [
              "0           20200101\n",
              "1           20200101\n",
              "2           20200101\n",
              "3           20200101\n",
              "4           20200101\n",
              "              ...   \n",
              "25596211    20200131\n",
              "25596212    20200131\n",
              "25596213    20200131\n",
              "25596214    20200131\n",
              "25596215    20200131\n",
              "Name: 집계일자, Length: 25596216, dtype: int64"
            ]
          },
          "metadata": {
            "tags": []
          },
          "execution_count": 20
        }
      ]
    },
    {
      "cell_type": "code",
      "metadata": {
        "colab": {
          "base_uri": "https://localhost:8080/"
        },
        "id": "xKOckGHs0lMU",
        "outputId": "010bf79f-d2a8-46ba-a3b6-5ac8f031d779"
      },
      "source": [
        "data['Unnamed: 6']"
      ],
      "execution_count": 21,
      "outputs": [
        {
          "output_type": "execute_result",
          "data": {
            "text/plain": [
              "0          NaN\n",
              "1          NaN\n",
              "2          NaN\n",
              "3          NaN\n",
              "4          NaN\n",
              "            ..\n",
              "25596211   NaN\n",
              "25596212   NaN\n",
              "25596213   NaN\n",
              "25596214   NaN\n",
              "25596215   NaN\n",
              "Name: Unnamed: 6, Length: 25596216, dtype: float64"
            ]
          },
          "metadata": {
            "tags": []
          },
          "execution_count": 21
        }
      ]
    },
    {
      "cell_type": "markdown",
      "metadata": {
        "id": "eT_P4emI1Zkp"
      },
      "source": [
        "#4. Data Select Data"
      ]
    },
    {
      "cell_type": "code",
      "metadata": {
        "colab": {
          "base_uri": "https://localhost:8080/",
          "height": 204
        },
        "id": "cxC9sa2M1ccK",
        "outputId": "d692a472-08d2-4ea0-dc90-d375bb038455"
      },
      "source": [
        "data_clean.head()"
      ],
      "execution_count": 22,
      "outputs": [
        {
          "output_type": "execute_result",
          "data": {
            "text/html": [
              "<div>\n",
              "<style scoped>\n",
              "    .dataframe tbody tr th:only-of-type {\n",
              "        vertical-align: middle;\n",
              "    }\n",
              "\n",
              "    .dataframe tbody tr th {\n",
              "        vertical-align: top;\n",
              "    }\n",
              "\n",
              "    .dataframe thead th {\n",
              "        text-align: right;\n",
              "    }\n",
              "</style>\n",
              "<table border=\"1\" class=\"dataframe\">\n",
              "  <thead>\n",
              "    <tr style=\"text-align: right;\">\n",
              "      <th></th>\n",
              "      <th>집계일자</th>\n",
              "      <th>집계시</th>\n",
              "      <th>출발영업소코드</th>\n",
              "      <th>도착영업소코드</th>\n",
              "      <th>TCS차종구분코드</th>\n",
              "      <th>통행시간</th>\n",
              "    </tr>\n",
              "  </thead>\n",
              "  <tbody>\n",
              "    <tr>\n",
              "      <th>5853</th>\n",
              "      <td>20200101</td>\n",
              "      <td>22</td>\n",
              "      <td>101</td>\n",
              "      <td>102</td>\n",
              "      <td>6</td>\n",
              "      <td>632</td>\n",
              "    </tr>\n",
              "    <tr>\n",
              "      <th>5854</th>\n",
              "      <td>20200101</td>\n",
              "      <td>22</td>\n",
              "      <td>101</td>\n",
              "      <td>102</td>\n",
              "      <td>3</td>\n",
              "      <td>633</td>\n",
              "    </tr>\n",
              "    <tr>\n",
              "      <th>5855</th>\n",
              "      <td>20200101</td>\n",
              "      <td>16</td>\n",
              "      <td>101</td>\n",
              "      <td>102</td>\n",
              "      <td>6</td>\n",
              "      <td>650</td>\n",
              "    </tr>\n",
              "    <tr>\n",
              "      <th>5856</th>\n",
              "      <td>20200101</td>\n",
              "      <td>16</td>\n",
              "      <td>101</td>\n",
              "      <td>102</td>\n",
              "      <td>1</td>\n",
              "      <td>623</td>\n",
              "    </tr>\n",
              "    <tr>\n",
              "      <th>5857</th>\n",
              "      <td>20200101</td>\n",
              "      <td>16</td>\n",
              "      <td>101</td>\n",
              "      <td>102</td>\n",
              "      <td>3</td>\n",
              "      <td>626</td>\n",
              "    </tr>\n",
              "  </tbody>\n",
              "</table>\n",
              "</div>"
            ],
            "text/plain": [
              "          집계일자  집계시  출발영업소코드  도착영업소코드  TCS차종구분코드  통행시간\n",
              "5853  20200101   22      101      102          6   632\n",
              "5854  20200101   22      101      102          3   633\n",
              "5855  20200101   16      101      102          6   650\n",
              "5856  20200101   16      101      102          1   623\n",
              "5857  20200101   16      101      102          3   626"
            ]
          },
          "metadata": {
            "tags": []
          },
          "execution_count": 22
        }
      ]
    },
    {
      "cell_type": "code",
      "metadata": {
        "colab": {
          "base_uri": "https://localhost:8080/",
          "height": 204
        },
        "id": "MEwWjWkT1l9I",
        "outputId": "fc841b3d-1ffa-418a-9017-ed0e54e26fa4"
      },
      "source": [
        "data_clean[0:5]"
      ],
      "execution_count": 23,
      "outputs": [
        {
          "output_type": "execute_result",
          "data": {
            "text/html": [
              "<div>\n",
              "<style scoped>\n",
              "    .dataframe tbody tr th:only-of-type {\n",
              "        vertical-align: middle;\n",
              "    }\n",
              "\n",
              "    .dataframe tbody tr th {\n",
              "        vertical-align: top;\n",
              "    }\n",
              "\n",
              "    .dataframe thead th {\n",
              "        text-align: right;\n",
              "    }\n",
              "</style>\n",
              "<table border=\"1\" class=\"dataframe\">\n",
              "  <thead>\n",
              "    <tr style=\"text-align: right;\">\n",
              "      <th></th>\n",
              "      <th>집계일자</th>\n",
              "      <th>집계시</th>\n",
              "      <th>출발영업소코드</th>\n",
              "      <th>도착영업소코드</th>\n",
              "      <th>TCS차종구분코드</th>\n",
              "      <th>통행시간</th>\n",
              "    </tr>\n",
              "  </thead>\n",
              "  <tbody>\n",
              "    <tr>\n",
              "      <th>5853</th>\n",
              "      <td>20200101</td>\n",
              "      <td>22</td>\n",
              "      <td>101</td>\n",
              "      <td>102</td>\n",
              "      <td>6</td>\n",
              "      <td>632</td>\n",
              "    </tr>\n",
              "    <tr>\n",
              "      <th>5854</th>\n",
              "      <td>20200101</td>\n",
              "      <td>22</td>\n",
              "      <td>101</td>\n",
              "      <td>102</td>\n",
              "      <td>3</td>\n",
              "      <td>633</td>\n",
              "    </tr>\n",
              "    <tr>\n",
              "      <th>5855</th>\n",
              "      <td>20200101</td>\n",
              "      <td>16</td>\n",
              "      <td>101</td>\n",
              "      <td>102</td>\n",
              "      <td>6</td>\n",
              "      <td>650</td>\n",
              "    </tr>\n",
              "    <tr>\n",
              "      <th>5856</th>\n",
              "      <td>20200101</td>\n",
              "      <td>16</td>\n",
              "      <td>101</td>\n",
              "      <td>102</td>\n",
              "      <td>1</td>\n",
              "      <td>623</td>\n",
              "    </tr>\n",
              "    <tr>\n",
              "      <th>5857</th>\n",
              "      <td>20200101</td>\n",
              "      <td>16</td>\n",
              "      <td>101</td>\n",
              "      <td>102</td>\n",
              "      <td>3</td>\n",
              "      <td>626</td>\n",
              "    </tr>\n",
              "  </tbody>\n",
              "</table>\n",
              "</div>"
            ],
            "text/plain": [
              "          집계일자  집계시  출발영업소코드  도착영업소코드  TCS차종구분코드  통행시간\n",
              "5853  20200101   22      101      102          6   632\n",
              "5854  20200101   22      101      102          3   633\n",
              "5855  20200101   16      101      102          6   650\n",
              "5856  20200101   16      101      102          1   623\n",
              "5857  20200101   16      101      102          3   626"
            ]
          },
          "metadata": {
            "tags": []
          },
          "execution_count": 23
        }
      ]
    },
    {
      "cell_type": "code",
      "metadata": {
        "id": "Qbqiuor11oCi"
      },
      "source": [
        "df_data= pd.DataFrame(data_clean, columns=['집계일자','집계시','출발영업소코드','도착영업소코드','통행시간']) #필요한 칼럼 선택 가능"
      ],
      "execution_count": 24,
      "outputs": []
    },
    {
      "cell_type": "code",
      "metadata": {
        "colab": {
          "base_uri": "https://localhost:8080/",
          "height": 204
        },
        "id": "-AVFk60i4LQd",
        "outputId": "e053680c-60b3-4fa2-aef5-5da8c4b84871"
      },
      "source": [
        "df_data.head()"
      ],
      "execution_count": 25,
      "outputs": [
        {
          "output_type": "execute_result",
          "data": {
            "text/html": [
              "<div>\n",
              "<style scoped>\n",
              "    .dataframe tbody tr th:only-of-type {\n",
              "        vertical-align: middle;\n",
              "    }\n",
              "\n",
              "    .dataframe tbody tr th {\n",
              "        vertical-align: top;\n",
              "    }\n",
              "\n",
              "    .dataframe thead th {\n",
              "        text-align: right;\n",
              "    }\n",
              "</style>\n",
              "<table border=\"1\" class=\"dataframe\">\n",
              "  <thead>\n",
              "    <tr style=\"text-align: right;\">\n",
              "      <th></th>\n",
              "      <th>집계일자</th>\n",
              "      <th>집계시</th>\n",
              "      <th>출발영업소코드</th>\n",
              "      <th>도착영업소코드</th>\n",
              "      <th>통행시간</th>\n",
              "    </tr>\n",
              "  </thead>\n",
              "  <tbody>\n",
              "    <tr>\n",
              "      <th>5853</th>\n",
              "      <td>20200101</td>\n",
              "      <td>22</td>\n",
              "      <td>101</td>\n",
              "      <td>102</td>\n",
              "      <td>632</td>\n",
              "    </tr>\n",
              "    <tr>\n",
              "      <th>5854</th>\n",
              "      <td>20200101</td>\n",
              "      <td>22</td>\n",
              "      <td>101</td>\n",
              "      <td>102</td>\n",
              "      <td>633</td>\n",
              "    </tr>\n",
              "    <tr>\n",
              "      <th>5855</th>\n",
              "      <td>20200101</td>\n",
              "      <td>16</td>\n",
              "      <td>101</td>\n",
              "      <td>102</td>\n",
              "      <td>650</td>\n",
              "    </tr>\n",
              "    <tr>\n",
              "      <th>5856</th>\n",
              "      <td>20200101</td>\n",
              "      <td>16</td>\n",
              "      <td>101</td>\n",
              "      <td>102</td>\n",
              "      <td>623</td>\n",
              "    </tr>\n",
              "    <tr>\n",
              "      <th>5857</th>\n",
              "      <td>20200101</td>\n",
              "      <td>16</td>\n",
              "      <td>101</td>\n",
              "      <td>102</td>\n",
              "      <td>626</td>\n",
              "    </tr>\n",
              "  </tbody>\n",
              "</table>\n",
              "</div>"
            ],
            "text/plain": [
              "          집계일자  집계시  출발영업소코드  도착영업소코드  통행시간\n",
              "5853  20200101   22      101      102   632\n",
              "5854  20200101   22      101      102   633\n",
              "5855  20200101   16      101      102   650\n",
              "5856  20200101   16      101      102   623\n",
              "5857  20200101   16      101      102   626"
            ]
          },
          "metadata": {
            "tags": []
          },
          "execution_count": 25
        }
      ]
    },
    {
      "cell_type": "code",
      "metadata": {
        "id": "HbI4ydXw4NHN"
      },
      "source": [
        "long_distance = df_data.통행시간 > 700"
      ],
      "execution_count": 37,
      "outputs": []
    },
    {
      "cell_type": "code",
      "metadata": {
        "colab": {
          "base_uri": "https://localhost:8080/"
        },
        "id": "x6IMiYmd4c4R",
        "outputId": "bd978f24-2cc2-4fae-d677-41f1b49948ce"
      },
      "source": [
        "long_distance"
      ],
      "execution_count": 36,
      "outputs": [
        {
          "output_type": "execute_result",
          "data": {
            "text/plain": [
              "5853        False\n",
              "5854        False\n",
              "5855        False\n",
              "5856        False\n",
              "5857        False\n",
              "            ...  \n",
              "25596211     True\n",
              "25596212     True\n",
              "25596213     True\n",
              "25596214     True\n",
              "25596215     True\n",
              "Name: 통행시간, Length: 21531295, dtype: bool"
            ]
          },
          "metadata": {
            "tags": []
          },
          "execution_count": 36
        }
      ]
    },
    {
      "cell_type": "code",
      "metadata": {
        "colab": {
          "base_uri": "https://localhost:8080/"
        },
        "id": "i0VXF02Z4e4-",
        "outputId": "d37f185b-1a8b-43e3-c36f-8478af42456a"
      },
      "source": [
        "df_data.출발영업소코드 == 101"
      ],
      "execution_count": 34,
      "outputs": [
        {
          "output_type": "execute_result",
          "data": {
            "text/plain": [
              "5853         True\n",
              "5854         True\n",
              "5855         True\n",
              "5856         True\n",
              "5857         True\n",
              "            ...  \n",
              "25596211    False\n",
              "25596212    False\n",
              "25596213    False\n",
              "25596214    False\n",
              "25596215    False\n",
              "Name: 출발영업소코드, Length: 21531295, dtype: bool"
            ]
          },
          "metadata": {
            "tags": []
          },
          "execution_count": 34
        }
      ]
    },
    {
      "cell_type": "code",
      "metadata": {
        "id": "9alYKI8C4tes"
      },
      "source": [
        "start_from_101 = df_data[df_data.출발영업소코드 == 101]  # 101만 가져온것"
      ],
      "execution_count": 39,
      "outputs": []
    },
    {
      "cell_type": "code",
      "metadata": {
        "colab": {
          "base_uri": "https://localhost:8080/",
          "height": 419
        },
        "id": "GYlu9MTz43jR",
        "outputId": "6d627fe0-6a90-48c8-d92c-40908350bc30"
      },
      "source": [
        "start_from_101"
      ],
      "execution_count": 40,
      "outputs": [
        {
          "output_type": "execute_result",
          "data": {
            "text/html": [
              "<div>\n",
              "<style scoped>\n",
              "    .dataframe tbody tr th:only-of-type {\n",
              "        vertical-align: middle;\n",
              "    }\n",
              "\n",
              "    .dataframe tbody tr th {\n",
              "        vertical-align: top;\n",
              "    }\n",
              "\n",
              "    .dataframe thead th {\n",
              "        text-align: right;\n",
              "    }\n",
              "</style>\n",
              "<table border=\"1\" class=\"dataframe\">\n",
              "  <thead>\n",
              "    <tr style=\"text-align: right;\">\n",
              "      <th></th>\n",
              "      <th>집계일자</th>\n",
              "      <th>집계시</th>\n",
              "      <th>출발영업소코드</th>\n",
              "      <th>도착영업소코드</th>\n",
              "      <th>통행시간</th>\n",
              "    </tr>\n",
              "  </thead>\n",
              "  <tbody>\n",
              "    <tr>\n",
              "      <th>5853</th>\n",
              "      <td>20200101</td>\n",
              "      <td>22</td>\n",
              "      <td>101</td>\n",
              "      <td>102</td>\n",
              "      <td>632</td>\n",
              "    </tr>\n",
              "    <tr>\n",
              "      <th>5854</th>\n",
              "      <td>20200101</td>\n",
              "      <td>22</td>\n",
              "      <td>101</td>\n",
              "      <td>102</td>\n",
              "      <td>633</td>\n",
              "    </tr>\n",
              "    <tr>\n",
              "      <th>5855</th>\n",
              "      <td>20200101</td>\n",
              "      <td>16</td>\n",
              "      <td>101</td>\n",
              "      <td>102</td>\n",
              "      <td>650</td>\n",
              "    </tr>\n",
              "    <tr>\n",
              "      <th>5856</th>\n",
              "      <td>20200101</td>\n",
              "      <td>16</td>\n",
              "      <td>101</td>\n",
              "      <td>102</td>\n",
              "      <td>623</td>\n",
              "    </tr>\n",
              "    <tr>\n",
              "      <th>5857</th>\n",
              "      <td>20200101</td>\n",
              "      <td>16</td>\n",
              "      <td>101</td>\n",
              "      <td>102</td>\n",
              "      <td>626</td>\n",
              "    </tr>\n",
              "    <tr>\n",
              "      <th>...</th>\n",
              "      <td>...</td>\n",
              "      <td>...</td>\n",
              "      <td>...</td>\n",
              "      <td>...</td>\n",
              "      <td>...</td>\n",
              "    </tr>\n",
              "    <tr>\n",
              "      <th>25595893</th>\n",
              "      <td>20200131</td>\n",
              "      <td>8</td>\n",
              "      <td>101</td>\n",
              "      <td>596</td>\n",
              "      <td>28576</td>\n",
              "    </tr>\n",
              "    <tr>\n",
              "      <th>25595991</th>\n",
              "      <td>20200131</td>\n",
              "      <td>17</td>\n",
              "      <td>101</td>\n",
              "      <td>698</td>\n",
              "      <td>16752</td>\n",
              "    </tr>\n",
              "    <tr>\n",
              "      <th>25596003</th>\n",
              "      <td>20200131</td>\n",
              "      <td>15</td>\n",
              "      <td>101</td>\n",
              "      <td>705</td>\n",
              "      <td>2587</td>\n",
              "    </tr>\n",
              "    <tr>\n",
              "      <th>25596023</th>\n",
              "      <td>20200131</td>\n",
              "      <td>1</td>\n",
              "      <td>101</td>\n",
              "      <td>175</td>\n",
              "      <td>1769</td>\n",
              "    </tr>\n",
              "    <tr>\n",
              "      <th>25596210</th>\n",
              "      <td>20200131</td>\n",
              "      <td>4</td>\n",
              "      <td>101</td>\n",
              "      <td>601</td>\n",
              "      <td>3202</td>\n",
              "    </tr>\n",
              "  </tbody>\n",
              "</table>\n",
              "<p>269409 rows × 5 columns</p>\n",
              "</div>"
            ],
            "text/plain": [
              "              집계일자  집계시  출발영업소코드  도착영업소코드   통행시간\n",
              "5853      20200101   22      101      102    632\n",
              "5854      20200101   22      101      102    633\n",
              "5855      20200101   16      101      102    650\n",
              "5856      20200101   16      101      102    623\n",
              "5857      20200101   16      101      102    626\n",
              "...            ...  ...      ...      ...    ...\n",
              "25595893  20200131    8      101      596  28576\n",
              "25595991  20200131   17      101      698  16752\n",
              "25596003  20200131   15      101      705   2587\n",
              "25596023  20200131    1      101      175   1769\n",
              "25596210  20200131    4      101      601   3202\n",
              "\n",
              "[269409 rows x 5 columns]"
            ]
          },
          "metadata": {
            "tags": []
          },
          "execution_count": 40
        }
      ]
    },
    {
      "cell_type": "code",
      "metadata": {
        "id": "vPonXqRG44yV"
      },
      "source": [
        "#101,서울 105,기흥 110,목천 115,대전 120,황간 125,남구미 130,동김천 135,경주 140,부산"
      ],
      "execution_count": 41,
      "outputs": []
    },
    {
      "cell_type": "code",
      "metadata": {
        "id": "aKdKw-nW5QBM"
      },
      "source": [
        "start_from_101_to_140 = start_from_101[start_from_101['도착영업소코드'].isin([105,110,115,120,125,130,135,140])]"
      ],
      "execution_count": 42,
      "outputs": []
    },
    {
      "cell_type": "code",
      "metadata": {
        "colab": {
          "base_uri": "https://localhost:8080/",
          "height": 419
        },
        "id": "dSmat2pQ54bn",
        "outputId": "d4292f31-9466-46d9-c674-04d54589514e"
      },
      "source": [
        "start_from_101_to_140\n"
      ],
      "execution_count": 43,
      "outputs": [
        {
          "output_type": "execute_result",
          "data": {
            "text/html": [
              "<div>\n",
              "<style scoped>\n",
              "    .dataframe tbody tr th:only-of-type {\n",
              "        vertical-align: middle;\n",
              "    }\n",
              "\n",
              "    .dataframe tbody tr th {\n",
              "        vertical-align: top;\n",
              "    }\n",
              "\n",
              "    .dataframe thead th {\n",
              "        text-align: right;\n",
              "    }\n",
              "</style>\n",
              "<table border=\"1\" class=\"dataframe\">\n",
              "  <thead>\n",
              "    <tr style=\"text-align: right;\">\n",
              "      <th></th>\n",
              "      <th>집계일자</th>\n",
              "      <th>집계시</th>\n",
              "      <th>출발영업소코드</th>\n",
              "      <th>도착영업소코드</th>\n",
              "      <th>통행시간</th>\n",
              "    </tr>\n",
              "  </thead>\n",
              "  <tbody>\n",
              "    <tr>\n",
              "      <th>6079</th>\n",
              "      <td>20200101</td>\n",
              "      <td>4</td>\n",
              "      <td>101</td>\n",
              "      <td>105</td>\n",
              "      <td>637</td>\n",
              "    </tr>\n",
              "    <tr>\n",
              "      <th>6080</th>\n",
              "      <td>20200101</td>\n",
              "      <td>4</td>\n",
              "      <td>101</td>\n",
              "      <td>105</td>\n",
              "      <td>773</td>\n",
              "    </tr>\n",
              "    <tr>\n",
              "      <th>6081</th>\n",
              "      <td>20200101</td>\n",
              "      <td>4</td>\n",
              "      <td>101</td>\n",
              "      <td>105</td>\n",
              "      <td>762</td>\n",
              "    </tr>\n",
              "    <tr>\n",
              "      <th>6082</th>\n",
              "      <td>20200101</td>\n",
              "      <td>4</td>\n",
              "      <td>101</td>\n",
              "      <td>105</td>\n",
              "      <td>746</td>\n",
              "    </tr>\n",
              "    <tr>\n",
              "      <th>6083</th>\n",
              "      <td>20200101</td>\n",
              "      <td>4</td>\n",
              "      <td>101</td>\n",
              "      <td>105</td>\n",
              "      <td>875</td>\n",
              "    </tr>\n",
              "    <tr>\n",
              "      <th>...</th>\n",
              "      <td>...</td>\n",
              "      <td>...</td>\n",
              "      <td>...</td>\n",
              "      <td>...</td>\n",
              "      <td>...</td>\n",
              "    </tr>\n",
              "    <tr>\n",
              "      <th>25574957</th>\n",
              "      <td>20200131</td>\n",
              "      <td>10</td>\n",
              "      <td>101</td>\n",
              "      <td>125</td>\n",
              "      <td>7776</td>\n",
              "    </tr>\n",
              "    <tr>\n",
              "      <th>25575802</th>\n",
              "      <td>20200131</td>\n",
              "      <td>2</td>\n",
              "      <td>101</td>\n",
              "      <td>140</td>\n",
              "      <td>14189</td>\n",
              "    </tr>\n",
              "    <tr>\n",
              "      <th>25584233</th>\n",
              "      <td>20200131</td>\n",
              "      <td>4</td>\n",
              "      <td>101</td>\n",
              "      <td>110</td>\n",
              "      <td>3780</td>\n",
              "    </tr>\n",
              "    <tr>\n",
              "      <th>25586486</th>\n",
              "      <td>20200131</td>\n",
              "      <td>15</td>\n",
              "      <td>101</td>\n",
              "      <td>120</td>\n",
              "      <td>8269</td>\n",
              "    </tr>\n",
              "    <tr>\n",
              "      <th>25595750</th>\n",
              "      <td>20200131</td>\n",
              "      <td>18</td>\n",
              "      <td>101</td>\n",
              "      <td>130</td>\n",
              "      <td>9769</td>\n",
              "    </tr>\n",
              "  </tbody>\n",
              "</table>\n",
              "<p>12749 rows × 5 columns</p>\n",
              "</div>"
            ],
            "text/plain": [
              "              집계일자  집계시  출발영업소코드  도착영업소코드   통행시간\n",
              "6079      20200101    4      101      105    637\n",
              "6080      20200101    4      101      105    773\n",
              "6081      20200101    4      101      105    762\n",
              "6082      20200101    4      101      105    746\n",
              "6083      20200101    4      101      105    875\n",
              "...            ...  ...      ...      ...    ...\n",
              "25574957  20200131   10      101      125   7776\n",
              "25575802  20200131    2      101      140  14189\n",
              "25584233  20200131    4      101      110   3780\n",
              "25586486  20200131   15      101      120   8269\n",
              "25595750  20200131   18      101      130   9769\n",
              "\n",
              "[12749 rows x 5 columns]"
            ]
          },
          "metadata": {
            "tags": []
          },
          "execution_count": 43
        }
      ]
    },
    {
      "cell_type": "code",
      "metadata": {
        "colab": {
          "base_uri": "https://localhost:8080/"
        },
        "id": "sOqPbVn95vGV",
        "outputId": "69755c00-260c-4c6f-935d-031c2709a593"
      },
      "source": [
        "start_from_101_to_140.value_counts()"
      ],
      "execution_count": 44,
      "outputs": [
        {
          "output_type": "execute_result",
          "data": {
            "text/plain": [
              "집계일자      집계시  출발영업소코드  도착영업소코드  통행시간\n",
              "20200116  14   101      110      3546    2\n",
              "20200104  3    101      105      770     2\n",
              "20200106  8    101      105      976     2\n",
              "20200124  14   101      105      845     2\n",
              "20200120  10   101      105      877     2\n",
              "                                        ..\n",
              "20200121  5    101      105      788     1\n",
              "                                 729     1\n",
              "                                 651     1\n",
              "                                 629     1\n",
              "20200101  0    101      105      616     1\n",
              "Length: 12717, dtype: int64"
            ]
          },
          "metadata": {
            "tags": []
          },
          "execution_count": 44
        }
      ]
    },
    {
      "cell_type": "markdown",
      "metadata": {
        "id": "MwXPPYGPis3-"
      },
      "source": [
        "#5. Insert Data"
      ]
    },
    {
      "cell_type": "code",
      "metadata": {
        "colab": {
          "base_uri": "https://localhost:8080/"
        },
        "id": "08G0qfSYiqfL",
        "outputId": "4239e3d1-09fb-4da7-e303-39a2983fca5b"
      },
      "source": [
        "# 1 : by declaring a new list as a column\n",
        "start_from_101_to_140['요일'] = pd.to_datetime(start_from_101_to_140['집계일자'],format='%Y%m%d').dt.dayofweek"
      ],
      "execution_count": 48,
      "outputs": [
        {
          "output_type": "stream",
          "text": [
            "/usr/local/lib/python3.7/dist-packages/ipykernel_launcher.py:2: SettingWithCopyWarning: \n",
            "A value is trying to be set on a copy of a slice from a DataFrame.\n",
            "Try using .loc[row_indexer,col_indexer] = value instead\n",
            "\n",
            "See the caveats in the documentation: https://pandas.pydata.org/pandas-docs/stable/user_guide/indexing.html#returning-a-view-versus-a-copy\n",
            "  \n"
          ],
          "name": "stderr"
        }
      ]
    },
    {
      "cell_type": "code",
      "metadata": {
        "colab": {
          "base_uri": "https://localhost:8080/",
          "height": 204
        },
        "id": "RSsmi7VHmI2V",
        "outputId": "68ceca58-6a98-46bb-9e38-3447bd8eb6b8"
      },
      "source": [
        "start_from_101_to_140.head()"
      ],
      "execution_count": 49,
      "outputs": [
        {
          "output_type": "execute_result",
          "data": {
            "text/html": [
              "<div>\n",
              "<style scoped>\n",
              "    .dataframe tbody tr th:only-of-type {\n",
              "        vertical-align: middle;\n",
              "    }\n",
              "\n",
              "    .dataframe tbody tr th {\n",
              "        vertical-align: top;\n",
              "    }\n",
              "\n",
              "    .dataframe thead th {\n",
              "        text-align: right;\n",
              "    }\n",
              "</style>\n",
              "<table border=\"1\" class=\"dataframe\">\n",
              "  <thead>\n",
              "    <tr style=\"text-align: right;\">\n",
              "      <th></th>\n",
              "      <th>집계일자</th>\n",
              "      <th>집계시</th>\n",
              "      <th>출발영업소코드</th>\n",
              "      <th>도착영업소코드</th>\n",
              "      <th>통행시간</th>\n",
              "      <th>요일</th>\n",
              "    </tr>\n",
              "  </thead>\n",
              "  <tbody>\n",
              "    <tr>\n",
              "      <th>6079</th>\n",
              "      <td>20200101</td>\n",
              "      <td>4</td>\n",
              "      <td>101</td>\n",
              "      <td>105</td>\n",
              "      <td>637</td>\n",
              "      <td>2</td>\n",
              "    </tr>\n",
              "    <tr>\n",
              "      <th>6080</th>\n",
              "      <td>20200101</td>\n",
              "      <td>4</td>\n",
              "      <td>101</td>\n",
              "      <td>105</td>\n",
              "      <td>773</td>\n",
              "      <td>2</td>\n",
              "    </tr>\n",
              "    <tr>\n",
              "      <th>6081</th>\n",
              "      <td>20200101</td>\n",
              "      <td>4</td>\n",
              "      <td>101</td>\n",
              "      <td>105</td>\n",
              "      <td>762</td>\n",
              "      <td>2</td>\n",
              "    </tr>\n",
              "    <tr>\n",
              "      <th>6082</th>\n",
              "      <td>20200101</td>\n",
              "      <td>4</td>\n",
              "      <td>101</td>\n",
              "      <td>105</td>\n",
              "      <td>746</td>\n",
              "      <td>2</td>\n",
              "    </tr>\n",
              "    <tr>\n",
              "      <th>6083</th>\n",
              "      <td>20200101</td>\n",
              "      <td>4</td>\n",
              "      <td>101</td>\n",
              "      <td>105</td>\n",
              "      <td>875</td>\n",
              "      <td>2</td>\n",
              "    </tr>\n",
              "  </tbody>\n",
              "</table>\n",
              "</div>"
            ],
            "text/plain": [
              "          집계일자  집계시  출발영업소코드  도착영업소코드  통행시간  요일\n",
              "6079  20200101    4      101      105   637   2\n",
              "6080  20200101    4      101      105   773   2\n",
              "6081  20200101    4      101      105   762   2\n",
              "6082  20200101    4      101      105   746   2\n",
              "6083  20200101    4      101      105   875   2"
            ]
          },
          "metadata": {
            "tags": []
          },
          "execution_count": 49
        }
      ]
    },
    {
      "cell_type": "code",
      "metadata": {
        "colab": {
          "base_uri": "https://localhost:8080/"
        },
        "id": "pKqKDfM4meDW",
        "outputId": "809fe5b4-c2b1-4d33-a030-a8a1de77707b"
      },
      "source": [
        "#2 : Using .loc[]\n",
        "start_from_101_to_140.loc[:,'요일'] = pd.to_datetime(start_from_101_to_140['집계일자'], format = '%Y%m%d').dt.dayofweek"
      ],
      "execution_count": 51,
      "outputs": [
        {
          "output_type": "stream",
          "text": [
            "/usr/local/lib/python3.7/dist-packages/pandas/core/indexing.py:1781: SettingWithCopyWarning: \n",
            "A value is trying to be set on a copy of a slice from a DataFrame.\n",
            "Try using .loc[row_indexer,col_indexer] = value instead\n",
            "\n",
            "See the caveats in the documentation: https://pandas.pydata.org/pandas-docs/stable/user_guide/indexing.html#returning-a-view-versus-a-copy\n",
            "  self.obj[item_labels[indexer[info_axis]]] = value\n"
          ],
          "name": "stderr"
        }
      ]
    },
    {
      "cell_type": "code",
      "metadata": {
        "colab": {
          "base_uri": "https://localhost:8080/",
          "height": 204
        },
        "id": "I-JN2E6SnNd2",
        "outputId": "f5854024-4b77-46cc-afb5-2fb5a7652a39"
      },
      "source": [
        "start_from_101_to_140.head()"
      ],
      "execution_count": 52,
      "outputs": [
        {
          "output_type": "execute_result",
          "data": {
            "text/html": [
              "<div>\n",
              "<style scoped>\n",
              "    .dataframe tbody tr th:only-of-type {\n",
              "        vertical-align: middle;\n",
              "    }\n",
              "\n",
              "    .dataframe tbody tr th {\n",
              "        vertical-align: top;\n",
              "    }\n",
              "\n",
              "    .dataframe thead th {\n",
              "        text-align: right;\n",
              "    }\n",
              "</style>\n",
              "<table border=\"1\" class=\"dataframe\">\n",
              "  <thead>\n",
              "    <tr style=\"text-align: right;\">\n",
              "      <th></th>\n",
              "      <th>집계일자</th>\n",
              "      <th>집계시</th>\n",
              "      <th>출발영업소코드</th>\n",
              "      <th>도착영업소코드</th>\n",
              "      <th>통행시간</th>\n",
              "      <th>요일</th>\n",
              "    </tr>\n",
              "  </thead>\n",
              "  <tbody>\n",
              "    <tr>\n",
              "      <th>6079</th>\n",
              "      <td>20200101</td>\n",
              "      <td>4</td>\n",
              "      <td>101</td>\n",
              "      <td>105</td>\n",
              "      <td>637</td>\n",
              "      <td>2</td>\n",
              "    </tr>\n",
              "    <tr>\n",
              "      <th>6080</th>\n",
              "      <td>20200101</td>\n",
              "      <td>4</td>\n",
              "      <td>101</td>\n",
              "      <td>105</td>\n",
              "      <td>773</td>\n",
              "      <td>2</td>\n",
              "    </tr>\n",
              "    <tr>\n",
              "      <th>6081</th>\n",
              "      <td>20200101</td>\n",
              "      <td>4</td>\n",
              "      <td>101</td>\n",
              "      <td>105</td>\n",
              "      <td>762</td>\n",
              "      <td>2</td>\n",
              "    </tr>\n",
              "    <tr>\n",
              "      <th>6082</th>\n",
              "      <td>20200101</td>\n",
              "      <td>4</td>\n",
              "      <td>101</td>\n",
              "      <td>105</td>\n",
              "      <td>746</td>\n",
              "      <td>2</td>\n",
              "    </tr>\n",
              "    <tr>\n",
              "      <th>6083</th>\n",
              "      <td>20200101</td>\n",
              "      <td>4</td>\n",
              "      <td>101</td>\n",
              "      <td>105</td>\n",
              "      <td>875</td>\n",
              "      <td>2</td>\n",
              "    </tr>\n",
              "  </tbody>\n",
              "</table>\n",
              "</div>"
            ],
            "text/plain": [
              "          집계일자  집계시  출발영업소코드  도착영업소코드  통행시간  요일\n",
              "6079  20200101    4      101      105   637   2\n",
              "6080  20200101    4      101      105   773   2\n",
              "6081  20200101    4      101      105   762   2\n",
              "6082  20200101    4      101      105   746   2\n",
              "6083  20200101    4      101      105   875   2"
            ]
          },
          "metadata": {
            "tags": []
          },
          "execution_count": 52
        }
      ]
    },
    {
      "cell_type": "code",
      "metadata": {
        "id": "rcg6ZlpmnIsn"
      },
      "source": [
        "#3. Using the .assign()\n",
        "start_from_101_to_140 = start_from_101_to_140.assign(요일=pd.to_datetime(start_from_101_to_140['집계일자'],format = '%Y%m%d').dt.dayofweek)"
      ],
      "execution_count": 54,
      "outputs": []
    },
    {
      "cell_type": "code",
      "metadata": {
        "colab": {
          "base_uri": "https://localhost:8080/",
          "height": 204
        },
        "id": "v_iaywJnoLhB",
        "outputId": "d1facbc5-fd8f-4f2a-8377-ee33b71a3172"
      },
      "source": [
        "start_from_101_to_140.head()"
      ],
      "execution_count": 55,
      "outputs": [
        {
          "output_type": "execute_result",
          "data": {
            "text/html": [
              "<div>\n",
              "<style scoped>\n",
              "    .dataframe tbody tr th:only-of-type {\n",
              "        vertical-align: middle;\n",
              "    }\n",
              "\n",
              "    .dataframe tbody tr th {\n",
              "        vertical-align: top;\n",
              "    }\n",
              "\n",
              "    .dataframe thead th {\n",
              "        text-align: right;\n",
              "    }\n",
              "</style>\n",
              "<table border=\"1\" class=\"dataframe\">\n",
              "  <thead>\n",
              "    <tr style=\"text-align: right;\">\n",
              "      <th></th>\n",
              "      <th>집계일자</th>\n",
              "      <th>집계시</th>\n",
              "      <th>출발영업소코드</th>\n",
              "      <th>도착영업소코드</th>\n",
              "      <th>통행시간</th>\n",
              "      <th>요일</th>\n",
              "    </tr>\n",
              "  </thead>\n",
              "  <tbody>\n",
              "    <tr>\n",
              "      <th>6079</th>\n",
              "      <td>20200101</td>\n",
              "      <td>4</td>\n",
              "      <td>101</td>\n",
              "      <td>105</td>\n",
              "      <td>637</td>\n",
              "      <td>2</td>\n",
              "    </tr>\n",
              "    <tr>\n",
              "      <th>6080</th>\n",
              "      <td>20200101</td>\n",
              "      <td>4</td>\n",
              "      <td>101</td>\n",
              "      <td>105</td>\n",
              "      <td>773</td>\n",
              "      <td>2</td>\n",
              "    </tr>\n",
              "    <tr>\n",
              "      <th>6081</th>\n",
              "      <td>20200101</td>\n",
              "      <td>4</td>\n",
              "      <td>101</td>\n",
              "      <td>105</td>\n",
              "      <td>762</td>\n",
              "      <td>2</td>\n",
              "    </tr>\n",
              "    <tr>\n",
              "      <th>6082</th>\n",
              "      <td>20200101</td>\n",
              "      <td>4</td>\n",
              "      <td>101</td>\n",
              "      <td>105</td>\n",
              "      <td>746</td>\n",
              "      <td>2</td>\n",
              "    </tr>\n",
              "    <tr>\n",
              "      <th>6083</th>\n",
              "      <td>20200101</td>\n",
              "      <td>4</td>\n",
              "      <td>101</td>\n",
              "      <td>105</td>\n",
              "      <td>875</td>\n",
              "      <td>2</td>\n",
              "    </tr>\n",
              "  </tbody>\n",
              "</table>\n",
              "</div>"
            ],
            "text/plain": [
              "          집계일자  집계시  출발영업소코드  도착영업소코드  통행시간  요일\n",
              "6079  20200101    4      101      105   637   2\n",
              "6080  20200101    4      101      105   773   2\n",
              "6081  20200101    4      101      105   762   2\n",
              "6082  20200101    4      101      105   746   2\n",
              "6083  20200101    4      101      105   875   2"
            ]
          },
          "metadata": {
            "tags": []
          },
          "execution_count": 55
        }
      ]
    },
    {
      "cell_type": "code",
      "metadata": {
        "colab": {
          "base_uri": "https://localhost:8080/"
        },
        "id": "ghtyZO8yn4dr",
        "outputId": "1d8d1fd8-8baf-4b74-fe17-f38cd0fb5b9f"
      },
      "source": [
        "start_from_101_to_140.dtypes"
      ],
      "execution_count": 57,
      "outputs": [
        {
          "output_type": "execute_result",
          "data": {
            "text/plain": [
              "집계일자       int64\n",
              "집계시        int64\n",
              "출발영업소코드    int64\n",
              "도착영업소코드    int64\n",
              "통행시간       int64\n",
              "요일         int64\n",
              "dtype: object"
            ]
          },
          "metadata": {
            "tags": []
          },
          "execution_count": 57
        }
      ]
    },
    {
      "cell_type": "markdown",
      "metadata": {
        "id": "EGmBZtNtvJ7o"
      },
      "source": [
        "#6 . Sort and Group"
      ]
    },
    {
      "cell_type": "code",
      "metadata": {
        "colab": {
          "base_uri": "https://localhost:8080/",
          "height": 419
        },
        "id": "UVEEimf3pmjb",
        "outputId": "78bd8b65-6d0b-40dd-ece4-b63f275234e2"
      },
      "source": [
        "start_from_101_to_140.sort_values(by=['통행시간'])"
      ],
      "execution_count": 58,
      "outputs": [
        {
          "output_type": "execute_result",
          "data": {
            "text/html": [
              "<div>\n",
              "<style scoped>\n",
              "    .dataframe tbody tr th:only-of-type {\n",
              "        vertical-align: middle;\n",
              "    }\n",
              "\n",
              "    .dataframe tbody tr th {\n",
              "        vertical-align: top;\n",
              "    }\n",
              "\n",
              "    .dataframe thead th {\n",
              "        text-align: right;\n",
              "    }\n",
              "</style>\n",
              "<table border=\"1\" class=\"dataframe\">\n",
              "  <thead>\n",
              "    <tr style=\"text-align: right;\">\n",
              "      <th></th>\n",
              "      <th>집계일자</th>\n",
              "      <th>집계시</th>\n",
              "      <th>출발영업소코드</th>\n",
              "      <th>도착영업소코드</th>\n",
              "      <th>통행시간</th>\n",
              "      <th>요일</th>\n",
              "    </tr>\n",
              "  </thead>\n",
              "  <tbody>\n",
              "    <tr>\n",
              "      <th>11369088</th>\n",
              "      <td>20200115</td>\n",
              "      <td>1</td>\n",
              "      <td>101</td>\n",
              "      <td>105</td>\n",
              "      <td>582</td>\n",
              "      <td>2</td>\n",
              "    </tr>\n",
              "    <tr>\n",
              "      <th>11380549</th>\n",
              "      <td>20200115</td>\n",
              "      <td>0</td>\n",
              "      <td>101</td>\n",
              "      <td>105</td>\n",
              "      <td>585</td>\n",
              "      <td>2</td>\n",
              "    </tr>\n",
              "    <tr>\n",
              "      <th>21183117</th>\n",
              "      <td>20200127</td>\n",
              "      <td>4</td>\n",
              "      <td>101</td>\n",
              "      <td>105</td>\n",
              "      <td>588</td>\n",
              "      <td>0</td>\n",
              "    </tr>\n",
              "    <tr>\n",
              "      <th>11369401</th>\n",
              "      <td>20200115</td>\n",
              "      <td>2</td>\n",
              "      <td>101</td>\n",
              "      <td>105</td>\n",
              "      <td>588</td>\n",
              "      <td>2</td>\n",
              "    </tr>\n",
              "    <tr>\n",
              "      <th>1101582</th>\n",
              "      <td>20200103</td>\n",
              "      <td>2</td>\n",
              "      <td>101</td>\n",
              "      <td>105</td>\n",
              "      <td>589</td>\n",
              "      <td>4</td>\n",
              "    </tr>\n",
              "    <tr>\n",
              "      <th>...</th>\n",
              "      <td>...</td>\n",
              "      <td>...</td>\n",
              "      <td>...</td>\n",
              "      <td>...</td>\n",
              "      <td>...</td>\n",
              "      <td>...</td>\n",
              "    </tr>\n",
              "    <tr>\n",
              "      <th>21899512</th>\n",
              "      <td>20200128</td>\n",
              "      <td>0</td>\n",
              "      <td>101</td>\n",
              "      <td>135</td>\n",
              "      <td>41632</td>\n",
              "      <td>1</td>\n",
              "    </tr>\n",
              "    <tr>\n",
              "      <th>13006907</th>\n",
              "      <td>20200117</td>\n",
              "      <td>8</td>\n",
              "      <td>101</td>\n",
              "      <td>130</td>\n",
              "      <td>41696</td>\n",
              "      <td>4</td>\n",
              "    </tr>\n",
              "    <tr>\n",
              "      <th>17933952</th>\n",
              "      <td>20200124</td>\n",
              "      <td>7</td>\n",
              "      <td>101</td>\n",
              "      <td>140</td>\n",
              "      <td>41960</td>\n",
              "      <td>4</td>\n",
              "    </tr>\n",
              "    <tr>\n",
              "      <th>12959275</th>\n",
              "      <td>20200117</td>\n",
              "      <td>7</td>\n",
              "      <td>101</td>\n",
              "      <td>130</td>\n",
              "      <td>46925</td>\n",
              "      <td>4</td>\n",
              "    </tr>\n",
              "    <tr>\n",
              "      <th>11851093</th>\n",
              "      <td>20200117</td>\n",
              "      <td>6</td>\n",
              "      <td>101</td>\n",
              "      <td>130</td>\n",
              "      <td>50001</td>\n",
              "      <td>4</td>\n",
              "    </tr>\n",
              "  </tbody>\n",
              "</table>\n",
              "<p>12749 rows × 6 columns</p>\n",
              "</div>"
            ],
            "text/plain": [
              "              집계일자  집계시  출발영업소코드  도착영업소코드   통행시간  요일\n",
              "11369088  20200115    1      101      105    582   2\n",
              "11380549  20200115    0      101      105    585   2\n",
              "21183117  20200127    4      101      105    588   0\n",
              "11369401  20200115    2      101      105    588   2\n",
              "1101582   20200103    2      101      105    589   4\n",
              "...            ...  ...      ...      ...    ...  ..\n",
              "21899512  20200128    0      101      135  41632   1\n",
              "13006907  20200117    8      101      130  41696   4\n",
              "17933952  20200124    7      101      140  41960   4\n",
              "12959275  20200117    7      101      130  46925   4\n",
              "11851093  20200117    6      101      130  50001   4\n",
              "\n",
              "[12749 rows x 6 columns]"
            ]
          },
          "metadata": {
            "tags": []
          },
          "execution_count": 58
        }
      ]
    },
    {
      "cell_type": "code",
      "metadata": {
        "colab": {
          "base_uri": "https://localhost:8080/",
          "height": 419
        },
        "id": "_efbhlL4vHWV",
        "outputId": "5ee1920d-c70e-48d6-b99a-1779105f4ed4"
      },
      "source": [
        "start_from_101_to_140.sort_values(by=['통행시간'],ascending = False)"
      ],
      "execution_count": 59,
      "outputs": [
        {
          "output_type": "execute_result",
          "data": {
            "text/html": [
              "<div>\n",
              "<style scoped>\n",
              "    .dataframe tbody tr th:only-of-type {\n",
              "        vertical-align: middle;\n",
              "    }\n",
              "\n",
              "    .dataframe tbody tr th {\n",
              "        vertical-align: top;\n",
              "    }\n",
              "\n",
              "    .dataframe thead th {\n",
              "        text-align: right;\n",
              "    }\n",
              "</style>\n",
              "<table border=\"1\" class=\"dataframe\">\n",
              "  <thead>\n",
              "    <tr style=\"text-align: right;\">\n",
              "      <th></th>\n",
              "      <th>집계일자</th>\n",
              "      <th>집계시</th>\n",
              "      <th>출발영업소코드</th>\n",
              "      <th>도착영업소코드</th>\n",
              "      <th>통행시간</th>\n",
              "      <th>요일</th>\n",
              "    </tr>\n",
              "  </thead>\n",
              "  <tbody>\n",
              "    <tr>\n",
              "      <th>11851093</th>\n",
              "      <td>20200117</td>\n",
              "      <td>6</td>\n",
              "      <td>101</td>\n",
              "      <td>130</td>\n",
              "      <td>50001</td>\n",
              "      <td>4</td>\n",
              "    </tr>\n",
              "    <tr>\n",
              "      <th>12959275</th>\n",
              "      <td>20200117</td>\n",
              "      <td>7</td>\n",
              "      <td>101</td>\n",
              "      <td>130</td>\n",
              "      <td>46925</td>\n",
              "      <td>4</td>\n",
              "    </tr>\n",
              "    <tr>\n",
              "      <th>17933952</th>\n",
              "      <td>20200124</td>\n",
              "      <td>7</td>\n",
              "      <td>101</td>\n",
              "      <td>140</td>\n",
              "      <td>41960</td>\n",
              "      <td>4</td>\n",
              "    </tr>\n",
              "    <tr>\n",
              "      <th>13006907</th>\n",
              "      <td>20200117</td>\n",
              "      <td>8</td>\n",
              "      <td>101</td>\n",
              "      <td>130</td>\n",
              "      <td>41696</td>\n",
              "      <td>4</td>\n",
              "    </tr>\n",
              "    <tr>\n",
              "      <th>21899512</th>\n",
              "      <td>20200128</td>\n",
              "      <td>0</td>\n",
              "      <td>101</td>\n",
              "      <td>135</td>\n",
              "      <td>41632</td>\n",
              "      <td>1</td>\n",
              "    </tr>\n",
              "    <tr>\n",
              "      <th>...</th>\n",
              "      <td>...</td>\n",
              "      <td>...</td>\n",
              "      <td>...</td>\n",
              "      <td>...</td>\n",
              "      <td>...</td>\n",
              "      <td>...</td>\n",
              "    </tr>\n",
              "    <tr>\n",
              "      <th>17024590</th>\n",
              "      <td>20200123</td>\n",
              "      <td>3</td>\n",
              "      <td>101</td>\n",
              "      <td>105</td>\n",
              "      <td>589</td>\n",
              "      <td>3</td>\n",
              "    </tr>\n",
              "    <tr>\n",
              "      <th>11369401</th>\n",
              "      <td>20200115</td>\n",
              "      <td>2</td>\n",
              "      <td>101</td>\n",
              "      <td>105</td>\n",
              "      <td>588</td>\n",
              "      <td>2</td>\n",
              "    </tr>\n",
              "    <tr>\n",
              "      <th>21183117</th>\n",
              "      <td>20200127</td>\n",
              "      <td>4</td>\n",
              "      <td>101</td>\n",
              "      <td>105</td>\n",
              "      <td>588</td>\n",
              "      <td>0</td>\n",
              "    </tr>\n",
              "    <tr>\n",
              "      <th>11380549</th>\n",
              "      <td>20200115</td>\n",
              "      <td>0</td>\n",
              "      <td>101</td>\n",
              "      <td>105</td>\n",
              "      <td>585</td>\n",
              "      <td>2</td>\n",
              "    </tr>\n",
              "    <tr>\n",
              "      <th>11369088</th>\n",
              "      <td>20200115</td>\n",
              "      <td>1</td>\n",
              "      <td>101</td>\n",
              "      <td>105</td>\n",
              "      <td>582</td>\n",
              "      <td>2</td>\n",
              "    </tr>\n",
              "  </tbody>\n",
              "</table>\n",
              "<p>12749 rows × 6 columns</p>\n",
              "</div>"
            ],
            "text/plain": [
              "              집계일자  집계시  출발영업소코드  도착영업소코드   통행시간  요일\n",
              "11851093  20200117    6      101      130  50001   4\n",
              "12959275  20200117    7      101      130  46925   4\n",
              "17933952  20200124    7      101      140  41960   4\n",
              "13006907  20200117    8      101      130  41696   4\n",
              "21899512  20200128    0      101      135  41632   1\n",
              "...            ...  ...      ...      ...    ...  ..\n",
              "17024590  20200123    3      101      105    589   3\n",
              "11369401  20200115    2      101      105    588   2\n",
              "21183117  20200127    4      101      105    588   0\n",
              "11380549  20200115    0      101      105    585   2\n",
              "11369088  20200115    1      101      105    582   2\n",
              "\n",
              "[12749 rows x 6 columns]"
            ]
          },
          "metadata": {
            "tags": []
          },
          "execution_count": 59
        }
      ]
    },
    {
      "cell_type": "code",
      "metadata": {
        "colab": {
          "base_uri": "https://localhost:8080/",
          "height": 419
        },
        "id": "X-bIf8JsvTkU",
        "outputId": "a77488c8-b740-45b0-8342-61d0ffb04b53"
      },
      "source": [
        "start_from_101_to_140.sort_values(by=['집계일자','집계시'])"
      ],
      "execution_count": 60,
      "outputs": [
        {
          "output_type": "execute_result",
          "data": {
            "text/html": [
              "<div>\n",
              "<style scoped>\n",
              "    .dataframe tbody tr th:only-of-type {\n",
              "        vertical-align: middle;\n",
              "    }\n",
              "\n",
              "    .dataframe tbody tr th {\n",
              "        vertical-align: top;\n",
              "    }\n",
              "\n",
              "    .dataframe thead th {\n",
              "        text-align: right;\n",
              "    }\n",
              "</style>\n",
              "<table border=\"1\" class=\"dataframe\">\n",
              "  <thead>\n",
              "    <tr style=\"text-align: right;\">\n",
              "      <th></th>\n",
              "      <th>집계일자</th>\n",
              "      <th>집계시</th>\n",
              "      <th>출발영업소코드</th>\n",
              "      <th>도착영업소코드</th>\n",
              "      <th>통행시간</th>\n",
              "      <th>요일</th>\n",
              "    </tr>\n",
              "  </thead>\n",
              "  <tbody>\n",
              "    <tr>\n",
              "      <th>6107</th>\n",
              "      <td>20200101</td>\n",
              "      <td>0</td>\n",
              "      <td>101</td>\n",
              "      <td>105</td>\n",
              "      <td>652</td>\n",
              "      <td>2</td>\n",
              "    </tr>\n",
              "    <tr>\n",
              "      <th>6108</th>\n",
              "      <td>20200101</td>\n",
              "      <td>0</td>\n",
              "      <td>101</td>\n",
              "      <td>105</td>\n",
              "      <td>811</td>\n",
              "      <td>2</td>\n",
              "    </tr>\n",
              "    <tr>\n",
              "      <th>6109</th>\n",
              "      <td>20200101</td>\n",
              "      <td>0</td>\n",
              "      <td>101</td>\n",
              "      <td>105</td>\n",
              "      <td>680</td>\n",
              "      <td>2</td>\n",
              "    </tr>\n",
              "    <tr>\n",
              "      <th>6110</th>\n",
              "      <td>20200101</td>\n",
              "      <td>0</td>\n",
              "      <td>101</td>\n",
              "      <td>105</td>\n",
              "      <td>616</td>\n",
              "      <td>2</td>\n",
              "    </tr>\n",
              "    <tr>\n",
              "      <th>6599</th>\n",
              "      <td>20200101</td>\n",
              "      <td>0</td>\n",
              "      <td>101</td>\n",
              "      <td>110</td>\n",
              "      <td>3319</td>\n",
              "      <td>2</td>\n",
              "    </tr>\n",
              "    <tr>\n",
              "      <th>...</th>\n",
              "      <td>...</td>\n",
              "      <td>...</td>\n",
              "      <td>...</td>\n",
              "      <td>...</td>\n",
              "      <td>...</td>\n",
              "      <td>...</td>\n",
              "    </tr>\n",
              "    <tr>\n",
              "      <th>24692096</th>\n",
              "      <td>20200131</td>\n",
              "      <td>23</td>\n",
              "      <td>101</td>\n",
              "      <td>125</td>\n",
              "      <td>8478</td>\n",
              "      <td>4</td>\n",
              "    </tr>\n",
              "    <tr>\n",
              "      <th>24692317</th>\n",
              "      <td>20200131</td>\n",
              "      <td>23</td>\n",
              "      <td>101</td>\n",
              "      <td>130</td>\n",
              "      <td>9627</td>\n",
              "      <td>4</td>\n",
              "    </tr>\n",
              "    <tr>\n",
              "      <th>24692372</th>\n",
              "      <td>20200131</td>\n",
              "      <td>23</td>\n",
              "      <td>101</td>\n",
              "      <td>135</td>\n",
              "      <td>12911</td>\n",
              "      <td>4</td>\n",
              "    </tr>\n",
              "    <tr>\n",
              "      <th>24692425</th>\n",
              "      <td>20200131</td>\n",
              "      <td>23</td>\n",
              "      <td>101</td>\n",
              "      <td>140</td>\n",
              "      <td>14339</td>\n",
              "      <td>4</td>\n",
              "    </tr>\n",
              "    <tr>\n",
              "      <th>24692426</th>\n",
              "      <td>20200131</td>\n",
              "      <td>23</td>\n",
              "      <td>101</td>\n",
              "      <td>140</td>\n",
              "      <td>13830</td>\n",
              "      <td>4</td>\n",
              "    </tr>\n",
              "  </tbody>\n",
              "</table>\n",
              "<p>12749 rows × 6 columns</p>\n",
              "</div>"
            ],
            "text/plain": [
              "              집계일자  집계시  출발영업소코드  도착영업소코드   통행시간  요일\n",
              "6107      20200101    0      101      105    652   2\n",
              "6108      20200101    0      101      105    811   2\n",
              "6109      20200101    0      101      105    680   2\n",
              "6110      20200101    0      101      105    616   2\n",
              "6599      20200101    0      101      110   3319   2\n",
              "...            ...  ...      ...      ...    ...  ..\n",
              "24692096  20200131   23      101      125   8478   4\n",
              "24692317  20200131   23      101      130   9627   4\n",
              "24692372  20200131   23      101      135  12911   4\n",
              "24692425  20200131   23      101      140  14339   4\n",
              "24692426  20200131   23      101      140  13830   4\n",
              "\n",
              "[12749 rows x 6 columns]"
            ]
          },
          "metadata": {
            "tags": []
          },
          "execution_count": 60
        }
      ]
    },
    {
      "cell_type": "code",
      "metadata": {
        "colab": {
          "base_uri": "https://localhost:8080/",
          "height": 328
        },
        "id": "Lsdvvo9Hvkiu",
        "outputId": "10424efb-c54b-4844-feac-d97cbe7114b0"
      },
      "source": [
        "start_from_101_to_140.groupby(start_from_101_to_140['도착영업소코드']).mean()"
      ],
      "execution_count": 61,
      "outputs": [
        {
          "output_type": "execute_result",
          "data": {
            "text/html": [
              "<div>\n",
              "<style scoped>\n",
              "    .dataframe tbody tr th:only-of-type {\n",
              "        vertical-align: middle;\n",
              "    }\n",
              "\n",
              "    .dataframe tbody tr th {\n",
              "        vertical-align: top;\n",
              "    }\n",
              "\n",
              "    .dataframe thead th {\n",
              "        text-align: right;\n",
              "    }\n",
              "</style>\n",
              "<table border=\"1\" class=\"dataframe\">\n",
              "  <thead>\n",
              "    <tr style=\"text-align: right;\">\n",
              "      <th></th>\n",
              "      <th>집계일자</th>\n",
              "      <th>집계시</th>\n",
              "      <th>출발영업소코드</th>\n",
              "      <th>통행시간</th>\n",
              "      <th>요일</th>\n",
              "    </tr>\n",
              "    <tr>\n",
              "      <th>도착영업소코드</th>\n",
              "      <th></th>\n",
              "      <th></th>\n",
              "      <th></th>\n",
              "      <th></th>\n",
              "      <th></th>\n",
              "    </tr>\n",
              "  </thead>\n",
              "  <tbody>\n",
              "    <tr>\n",
              "      <th>105</th>\n",
              "      <td>2.020012e+07</td>\n",
              "      <td>11.392094</td>\n",
              "      <td>101.0</td>\n",
              "      <td>872.217530</td>\n",
              "      <td>2.911613</td>\n",
              "    </tr>\n",
              "    <tr>\n",
              "      <th>110</th>\n",
              "      <td>2.020012e+07</td>\n",
              "      <td>11.509942</td>\n",
              "      <td>101.0</td>\n",
              "      <td>3605.229955</td>\n",
              "      <td>2.837075</td>\n",
              "    </tr>\n",
              "    <tr>\n",
              "      <th>115</th>\n",
              "      <td>2.020012e+07</td>\n",
              "      <td>11.802409</td>\n",
              "      <td>101.0</td>\n",
              "      <td>5826.651204</td>\n",
              "      <td>2.982159</td>\n",
              "    </tr>\n",
              "    <tr>\n",
              "      <th>120</th>\n",
              "      <td>2.020012e+07</td>\n",
              "      <td>12.654275</td>\n",
              "      <td>101.0</td>\n",
              "      <td>8498.178439</td>\n",
              "      <td>3.243494</td>\n",
              "    </tr>\n",
              "    <tr>\n",
              "      <th>125</th>\n",
              "      <td>2.020012e+07</td>\n",
              "      <td>12.976471</td>\n",
              "      <td>101.0</td>\n",
              "      <td>9688.117647</td>\n",
              "      <td>2.934454</td>\n",
              "    </tr>\n",
              "    <tr>\n",
              "      <th>130</th>\n",
              "      <td>2.020012e+07</td>\n",
              "      <td>12.795115</td>\n",
              "      <td>101.0</td>\n",
              "      <td>9661.925373</td>\n",
              "      <td>2.989145</td>\n",
              "    </tr>\n",
              "    <tr>\n",
              "      <th>135</th>\n",
              "      <td>2.020012e+07</td>\n",
              "      <td>12.317391</td>\n",
              "      <td>101.0</td>\n",
              "      <td>13859.042029</td>\n",
              "      <td>3.113043</td>\n",
              "    </tr>\n",
              "    <tr>\n",
              "      <th>140</th>\n",
              "      <td>2.020012e+07</td>\n",
              "      <td>12.136243</td>\n",
              "      <td>101.0</td>\n",
              "      <td>16407.931217</td>\n",
              "      <td>3.010582</td>\n",
              "    </tr>\n",
              "  </tbody>\n",
              "</table>\n",
              "</div>"
            ],
            "text/plain": [
              "                 집계일자        집계시  출발영업소코드          통행시간        요일\n",
              "도착영업소코드                                                          \n",
              "105      2.020012e+07  11.392094    101.0    872.217530  2.911613\n",
              "110      2.020012e+07  11.509942    101.0   3605.229955  2.837075\n",
              "115      2.020012e+07  11.802409    101.0   5826.651204  2.982159\n",
              "120      2.020012e+07  12.654275    101.0   8498.178439  3.243494\n",
              "125      2.020012e+07  12.976471    101.0   9688.117647  2.934454\n",
              "130      2.020012e+07  12.795115    101.0   9661.925373  2.989145\n",
              "135      2.020012e+07  12.317391    101.0  13859.042029  3.113043\n",
              "140      2.020012e+07  12.136243    101.0  16407.931217  3.010582"
            ]
          },
          "metadata": {
            "tags": []
          },
          "execution_count": 61
        }
      ]
    },
    {
      "cell_type": "code",
      "metadata": {
        "colab": {
          "base_uri": "https://localhost:8080/"
        },
        "id": "faDyleGbwPNH",
        "outputId": "84c1faf6-07f5-4dd2-ab28-4f8c2fbd4e49"
      },
      "source": [
        "start_from_101_to_140['통행시간'].groupby(start_from_101_to_140['도착영업소코드']).mean()"
      ],
      "execution_count": 62,
      "outputs": [
        {
          "output_type": "execute_result",
          "data": {
            "text/plain": [
              "도착영업소코드\n",
              "105      872.217530\n",
              "110     3605.229955\n",
              "115     5826.651204\n",
              "120     8498.178439\n",
              "125     9688.117647\n",
              "130     9661.925373\n",
              "135    13859.042029\n",
              "140    16407.931217\n",
              "Name: 통행시간, dtype: float64"
            ]
          },
          "metadata": {
            "tags": []
          },
          "execution_count": 62
        }
      ]
    },
    {
      "cell_type": "code",
      "metadata": {
        "id": "gzZko7QnwejY"
      },
      "source": [
        "groupby_destination = start_from_101_to_140['통행시간'].groupby(start_from_101_to_140['도착영업소코드'])"
      ],
      "execution_count": 63,
      "outputs": []
    },
    {
      "cell_type": "code",
      "metadata": {
        "colab": {
          "base_uri": "https://localhost:8080/"
        },
        "id": "8seMA3r8w7r9",
        "outputId": "7e8df3df-d900-4cf2-f288-4c248368bf07"
      },
      "source": [
        "groupby_destination.size()"
      ],
      "execution_count": 65,
      "outputs": [
        {
          "output_type": "execute_result",
          "data": {
            "text/plain": [
              "도착영업소코드\n",
              "105    4073\n",
              "110    3118\n",
              "115    2242\n",
              "120     538\n",
              "125     595\n",
              "130     737\n",
              "135     690\n",
              "140     756\n",
              "Name: 통행시간, dtype: int64"
            ]
          },
          "metadata": {
            "tags": []
          },
          "execution_count": 65
        }
      ]
    },
    {
      "cell_type": "code",
      "metadata": {
        "colab": {
          "base_uri": "https://localhost:8080/"
        },
        "id": "8HPdXCbnxDRT",
        "outputId": "8e42cf52-f1b7-4b9f-ec36-caeba870bad3"
      },
      "source": [
        "groupby_destination.sum()"
      ],
      "execution_count": 66,
      "outputs": [
        {
          "output_type": "execute_result",
          "data": {
            "text/plain": [
              "도착영업소코드\n",
              "105     3552542\n",
              "110    11241107\n",
              "115    13063352\n",
              "120     4572020\n",
              "125     5764430\n",
              "130     7120839\n",
              "135     9562739\n",
              "140    12404396\n",
              "Name: 통행시간, dtype: int64"
            ]
          },
          "metadata": {
            "tags": []
          },
          "execution_count": 66
        }
      ]
    },
    {
      "cell_type": "code",
      "metadata": {
        "colab": {
          "base_uri": "https://localhost:8080/"
        },
        "id": "-VZbUgLdxE4u",
        "outputId": "fe17bdc2-6a6a-4948-b4d7-ac9d314e8433"
      },
      "source": [
        "groupby_destination.mean()"
      ],
      "execution_count": 67,
      "outputs": [
        {
          "output_type": "execute_result",
          "data": {
            "text/plain": [
              "도착영업소코드\n",
              "105      872.217530\n",
              "110     3605.229955\n",
              "115     5826.651204\n",
              "120     8498.178439\n",
              "125     9688.117647\n",
              "130     9661.925373\n",
              "135    13859.042029\n",
              "140    16407.931217\n",
              "Name: 통행시간, dtype: float64"
            ]
          },
          "metadata": {
            "tags": []
          },
          "execution_count": 67
        }
      ]
    },
    {
      "cell_type": "code",
      "metadata": {
        "colab": {
          "base_uri": "https://localhost:8080/"
        },
        "id": "WB2rxjfoxHts",
        "outputId": "529d79e7-7114-4b64-d47d-6ac24176607f"
      },
      "source": [
        "groupby_destination.max()"
      ],
      "execution_count": 68,
      "outputs": [
        {
          "output_type": "execute_result",
          "data": {
            "text/plain": [
              "도착영업소코드\n",
              "105     2609\n",
              "110     9940\n",
              "115    14695\n",
              "120    28954\n",
              "125    21484\n",
              "130    50001\n",
              "135    41632\n",
              "140    41960\n",
              "Name: 통행시간, dtype: int64"
            ]
          },
          "metadata": {
            "tags": []
          },
          "execution_count": 68
        }
      ]
    },
    {
      "cell_type": "code",
      "metadata": {
        "id": "sgrsc4k6xL4e"
      },
      "source": [
        ""
      ],
      "execution_count": null,
      "outputs": []
    },
    {
      "cell_type": "code",
      "metadata": {
        "id": "nsLgQjt3w-aR"
      },
      "source": [
        ""
      ],
      "execution_count": null,
      "outputs": []
    },
    {
      "cell_type": "code",
      "metadata": {
        "id": "PdPbmytbpimW"
      },
      "source": [
        ""
      ],
      "execution_count": null,
      "outputs": []
    },
    {
      "cell_type": "code",
      "metadata": {
        "id": "CNsGhOAKmGkr"
      },
      "source": [
        ""
      ],
      "execution_count": null,
      "outputs": []
    },
    {
      "cell_type": "code",
      "metadata": {
        "id": "GdqldCR_mEAO"
      },
      "source": [
        ""
      ],
      "execution_count": null,
      "outputs": []
    }
  ]
}