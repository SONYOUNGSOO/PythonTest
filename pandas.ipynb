{
  "nbformat": 4,
  "nbformat_minor": 0,
  "metadata": {
    "colab": {
      "name": "pandas.ipynb",
      "provenance": [],
      "collapsed_sections": [],
      "include_colab_link": true
    },
    "kernelspec": {
      "name": "python3",
      "display_name": "Python 3"
    }
  },
  "cells": [
    {
      "cell_type": "markdown",
      "metadata": {
        "id": "view-in-github",
        "colab_type": "text"
      },
      "source": [
        "<a href=\"https://colab.research.google.com/github/SONYOUNGSOO/PythonTest/blob/main/pandas.ipynb\" target=\"_parent\"><img src=\"https://colab.research.google.com/assets/colab-badge.svg\" alt=\"Open In Colab\"/></a>"
      ]
    },
    {
      "cell_type": "markdown",
      "metadata": {
        "id": "Eukf8AjBGUzj"
      },
      "source": [
        "#1. Mount Drive"
      ]
    },
    {
      "cell_type": "code",
      "metadata": {
        "id": "RB8BAZj2GS3R",
        "colab": {
          "base_uri": "https://localhost:8080/"
        },
        "outputId": "69da7778-1500-48f2-cfa9-2571711bf8a3"
      },
      "source": [
        "from google.colab import drive\n",
        "drive.mount('/gdrive')"
      ],
      "execution_count": 23,
      "outputs": [
        {
          "output_type": "stream",
          "text": [
            "Drive already mounted at /gdrive; to attempt to forcibly remount, call drive.mount(\"/gdrive\", force_remount=True).\n"
          ],
          "name": "stdout"
        }
      ]
    },
    {
      "cell_type": "code",
      "metadata": {
        "colab": {
          "base_uri": "https://localhost:8080/"
        },
        "id": "GEWuptaBHvbW",
        "outputId": "cf434c8d-2a37-4704-fac1-aeabd78fd0e6"
      },
      "source": [
        "!ls -al '/gdrive/My Drive/data'"
      ],
      "execution_count": 24,
      "outputs": [
        {
          "output_type": "stream",
          "text": [
            "total 2169852\n",
            "-rw------- 1 root root     52512 Feb  1 01:51 ETC_75_04_01_580736.csv\n",
            "-rw------- 1 root root 783889122 May 14 08:28 TCS_영업소간통행시간_1시간_1개월_202001.csv\n",
            "-rw------- 1 root root 699429059 May 14 08:15 TCS_영업소간통행시간_1시간_1개월_202002.csv\n",
            "-rw------- 1 root root 738556069 May 14 08:15 TCS_영업소간통행시간_1시간_1개월_202003.csv\n"
          ],
          "name": "stdout"
        }
      ]
    },
    {
      "cell_type": "markdown",
      "metadata": {
        "id": "5yuXQo2LINXY"
      },
      "source": [
        "#2. Load Data"
      ]
    },
    {
      "cell_type": "code",
      "metadata": {
        "id": "7ibFvOnDIQv0"
      },
      "source": [
        "import pandas as pd"
      ],
      "execution_count": 25,
      "outputs": []
    },
    {
      "cell_type": "code",
      "metadata": {
        "id": "WQO24iyXIavV"
      },
      "source": [
        "# Load a file under \"data\" folder\n",
        "file = \"/gdrive/My Drive/data/TCS_영업소간통행시간_1시간_1개월_202003.csv\"\n",
        "data = pd.read_csv(file, sep=\",\", encoding=\"euc-kr\")"
      ],
      "execution_count": null,
      "outputs": []
    },
    {
      "cell_type": "code",
      "metadata": {
        "colab": {
          "base_uri": "https://localhost:8080/",
          "height": 204
        },
        "id": "D8mvFVUsJEDy",
        "outputId": "509f4f04-f33b-47c3-ceee-c63428915a10"
      },
      "source": [
        "data.head()"
      ],
      "execution_count": 27,
      "outputs": [
        {
          "output_type": "execute_result",
          "data": {
            "text/html": [
              "<div>\n",
              "<style scoped>\n",
              "    .dataframe tbody tr th:only-of-type {\n",
              "        vertical-align: middle;\n",
              "    }\n",
              "\n",
              "    .dataframe tbody tr th {\n",
              "        vertical-align: top;\n",
              "    }\n",
              "\n",
              "    .dataframe thead th {\n",
              "        text-align: right;\n",
              "    }\n",
              "</style>\n",
              "<table border=\"1\" class=\"dataframe\">\n",
              "  <thead>\n",
              "    <tr style=\"text-align: right;\">\n",
              "      <th></th>\n",
              "      <th>집계일자</th>\n",
              "      <th>집계시</th>\n",
              "      <th>출발영업소코드</th>\n",
              "      <th>도착영업소코드</th>\n",
              "      <th>TCS차종구분코드</th>\n",
              "      <th>통행시간</th>\n",
              "      <th>Unnamed: 6</th>\n",
              "    </tr>\n",
              "  </thead>\n",
              "  <tbody>\n",
              "    <tr>\n",
              "      <th>0</th>\n",
              "      <td>20200101</td>\n",
              "      <td>17</td>\n",
              "      <td>0</td>\n",
              "      <td>101</td>\n",
              "      <td>3</td>\n",
              "      <td>-1</td>\n",
              "      <td>NaN</td>\n",
              "    </tr>\n",
              "    <tr>\n",
              "      <th>1</th>\n",
              "      <td>20200101</td>\n",
              "      <td>17</td>\n",
              "      <td>0</td>\n",
              "      <td>101</td>\n",
              "      <td>1</td>\n",
              "      <td>-1</td>\n",
              "      <td>NaN</td>\n",
              "    </tr>\n",
              "    <tr>\n",
              "      <th>2</th>\n",
              "      <td>20200101</td>\n",
              "      <td>9</td>\n",
              "      <td>0</td>\n",
              "      <td>101</td>\n",
              "      <td>2</td>\n",
              "      <td>-1</td>\n",
              "      <td>NaN</td>\n",
              "    </tr>\n",
              "    <tr>\n",
              "      <th>3</th>\n",
              "      <td>20200101</td>\n",
              "      <td>9</td>\n",
              "      <td>0</td>\n",
              "      <td>101</td>\n",
              "      <td>1</td>\n",
              "      <td>-1</td>\n",
              "      <td>NaN</td>\n",
              "    </tr>\n",
              "    <tr>\n",
              "      <th>4</th>\n",
              "      <td>20200101</td>\n",
              "      <td>7</td>\n",
              "      <td>0</td>\n",
              "      <td>101</td>\n",
              "      <td>1</td>\n",
              "      <td>-1</td>\n",
              "      <td>NaN</td>\n",
              "    </tr>\n",
              "  </tbody>\n",
              "</table>\n",
              "</div>"
            ],
            "text/plain": [
              "       집계일자  집계시  출발영업소코드  도착영업소코드  TCS차종구분코드  통행시간  Unnamed: 6\n",
              "0  20200101   17        0      101          3    -1         NaN\n",
              "1  20200101   17        0      101          1    -1         NaN\n",
              "2  20200101    9        0      101          2    -1         NaN\n",
              "3  20200101    9        0      101          1    -1         NaN\n",
              "4  20200101    7        0      101          1    -1         NaN"
            ]
          },
          "metadata": {
            "tags": []
          },
          "execution_count": 27
        }
      ]
    },
    {
      "cell_type": "code",
      "metadata": {
        "colab": {
          "base_uri": "https://localhost:8080/",
          "height": 204
        },
        "id": "t1pB-Lw1JPGS",
        "outputId": "4242d474-408c-444d-e9b3-a3ac58838a57"
      },
      "source": [
        "data.tail()"
      ],
      "execution_count": 9,
      "outputs": [
        {
          "output_type": "execute_result",
          "data": {
            "text/html": [
              "<div>\n",
              "<style scoped>\n",
              "    .dataframe tbody tr th:only-of-type {\n",
              "        vertical-align: middle;\n",
              "    }\n",
              "\n",
              "    .dataframe tbody tr th {\n",
              "        vertical-align: top;\n",
              "    }\n",
              "\n",
              "    .dataframe thead th {\n",
              "        text-align: right;\n",
              "    }\n",
              "</style>\n",
              "<table border=\"1\" class=\"dataframe\">\n",
              "  <thead>\n",
              "    <tr style=\"text-align: right;\">\n",
              "      <th></th>\n",
              "      <th>집계일자</th>\n",
              "      <th>집계시</th>\n",
              "      <th>출발영업소코드</th>\n",
              "      <th>도착영업소코드</th>\n",
              "      <th>TCS차종구분코드</th>\n",
              "      <th>통행시간</th>\n",
              "      <th>Unnamed: 6</th>\n",
              "    </tr>\n",
              "  </thead>\n",
              "  <tbody>\n",
              "    <tr>\n",
              "      <th>24149230</th>\n",
              "      <td>20200331</td>\n",
              "      <td>12</td>\n",
              "      <td>755</td>\n",
              "      <td>707</td>\n",
              "      <td>4</td>\n",
              "      <td>6420</td>\n",
              "      <td>NaN</td>\n",
              "    </tr>\n",
              "    <tr>\n",
              "      <th>24149231</th>\n",
              "      <td>20200331</td>\n",
              "      <td>6</td>\n",
              "      <td>682</td>\n",
              "      <td>555</td>\n",
              "      <td>1</td>\n",
              "      <td>2489</td>\n",
              "      <td>NaN</td>\n",
              "    </tr>\n",
              "    <tr>\n",
              "      <th>24149232</th>\n",
              "      <td>20200331</td>\n",
              "      <td>9</td>\n",
              "      <td>677</td>\n",
              "      <td>172</td>\n",
              "      <td>4</td>\n",
              "      <td>2604</td>\n",
              "      <td>NaN</td>\n",
              "    </tr>\n",
              "    <tr>\n",
              "      <th>24149233</th>\n",
              "      <td>20200331</td>\n",
              "      <td>14</td>\n",
              "      <td>641</td>\n",
              "      <td>135</td>\n",
              "      <td>5</td>\n",
              "      <td>1927</td>\n",
              "      <td>NaN</td>\n",
              "    </tr>\n",
              "    <tr>\n",
              "      <th>24149234</th>\n",
              "      <td>20200331</td>\n",
              "      <td>11</td>\n",
              "      <td>625</td>\n",
              "      <td>251</td>\n",
              "      <td>1</td>\n",
              "      <td>1687</td>\n",
              "      <td>NaN</td>\n",
              "    </tr>\n",
              "  </tbody>\n",
              "</table>\n",
              "</div>"
            ],
            "text/plain": [
              "              집계일자  집계시  출발영업소코드  도착영업소코드  TCS차종구분코드  통행시간  Unnamed: 6\n",
              "24149230  20200331   12      755      707          4  6420         NaN\n",
              "24149231  20200331    6      682      555          1  2489         NaN\n",
              "24149232  20200331    9      677      172          4  2604         NaN\n",
              "24149233  20200331   14      641      135          5  1927         NaN\n",
              "24149234  20200331   11      625      251          1  1687         NaN"
            ]
          },
          "metadata": {
            "tags": []
          },
          "execution_count": 9
        }
      ]
    },
    {
      "cell_type": "code",
      "metadata": {
        "colab": {
          "base_uri": "https://localhost:8080/"
        },
        "id": "XlBC4g_6JT-X",
        "outputId": "c3c43ce5-dd33-4d52-ea72-1326b0166dab"
      },
      "source": [
        "data.info()"
      ],
      "execution_count": 10,
      "outputs": [
        {
          "output_type": "stream",
          "text": [
            "<class 'pandas.core.frame.DataFrame'>\n",
            "RangeIndex: 24149235 entries, 0 to 24149234\n",
            "Data columns (total 7 columns):\n",
            " #   Column      Dtype  \n",
            "---  ------      -----  \n",
            " 0   집계일자        int64  \n",
            " 1   집계시         int64  \n",
            " 2   출발영업소코드     int64  \n",
            " 3   도착영업소코드     int64  \n",
            " 4   TCS차종구분코드   int64  \n",
            " 5   통행시간        int64  \n",
            " 6   Unnamed: 6  float64\n",
            "dtypes: float64(1), int64(6)\n",
            "memory usage: 1.3 GB\n"
          ],
          "name": "stdout"
        }
      ]
    },
    {
      "cell_type": "markdown",
      "metadata": {
        "id": "QMc5AcIvPrsM"
      },
      "source": [
        "#3. Clean Data"
      ]
    },
    {
      "cell_type": "code",
      "metadata": {
        "colab": {
          "base_uri": "https://localhost:8080/"
        },
        "id": "JbIj9ye0PvW2",
        "outputId": "d4a5c5fa-2720-4725-ee85-51bef2e1bd91"
      },
      "source": [
        "#Checking the null values in the data fields\n",
        "data.isnull().sum(axis=0)"
      ],
      "execution_count": 11,
      "outputs": [
        {
          "output_type": "execute_result",
          "data": {
            "text/plain": [
              "집계일자                 0\n",
              "집계시                  0\n",
              "출발영업소코드              0\n",
              "도착영업소코드              0\n",
              "TCS차종구분코드            0\n",
              "통행시간                 0\n",
              "Unnamed: 6    24149235\n",
              "dtype: int64"
            ]
          },
          "metadata": {
            "tags": []
          },
          "execution_count": 11
        }
      ]
    },
    {
      "cell_type": "code",
      "metadata": {
        "colab": {
          "base_uri": "https://localhost:8080/"
        },
        "id": "XX0ZLZOJQ9sw",
        "outputId": "9d7e6a25-f7bb-46ee-b8b3-53ee9dc36f78"
      },
      "source": [
        "#Show columns of the data frame\n",
        "data.columns"
      ],
      "execution_count": 13,
      "outputs": [
        {
          "output_type": "execute_result",
          "data": {
            "text/plain": [
              "Index(['집계일자', '집계시', '출발영업소코드', '도착영업소코드', 'TCS차종구분코드', '통행시간', 'Unnamed: 6'], dtype='object')"
            ]
          },
          "metadata": {
            "tags": []
          },
          "execution_count": 13
        }
      ]
    },
    {
      "cell_type": "code",
      "metadata": {
        "colab": {
          "base_uri": "https://localhost:8080/"
        },
        "id": "R51_AAhpdM9d",
        "outputId": "5d2017c3-580c-47e7-8569-3c0584b78037"
      },
      "source": [
        "# select by '.' Operator\n",
        "data.집계일자"
      ],
      "execution_count": 12,
      "outputs": [
        {
          "output_type": "execute_result",
          "data": {
            "text/plain": [
              "0           20200301\n",
              "1           20200301\n",
              "2           20200301\n",
              "3           20200301\n",
              "4           20200301\n",
              "              ...   \n",
              "24149230    20200331\n",
              "24149231    20200331\n",
              "24149232    20200331\n",
              "24149233    20200331\n",
              "24149234    20200331\n",
              "Name: 집계일자, Length: 24149235, dtype: int64"
            ]
          },
          "metadata": {
            "tags": []
          },
          "execution_count": 12
        }
      ]
    },
    {
      "cell_type": "code",
      "metadata": {
        "colab": {
          "base_uri": "https://localhost:8080/"
        },
        "id": "PpH6-0m_dmGT",
        "outputId": "f127d2ba-239f-4472-877e-1841b6603415"
      },
      "source": [
        "# select by '[]' Operator\n",
        "data[\"집계일자\"]"
      ],
      "execution_count": 14,
      "outputs": [
        {
          "output_type": "execute_result",
          "data": {
            "text/plain": [
              "0           20200301\n",
              "1           20200301\n",
              "2           20200301\n",
              "3           20200301\n",
              "4           20200301\n",
              "              ...   \n",
              "24149230    20200331\n",
              "24149231    20200331\n",
              "24149232    20200331\n",
              "24149233    20200331\n",
              "24149234    20200331\n",
              "Name: 집계일자, Length: 24149235, dtype: int64"
            ]
          },
          "metadata": {
            "tags": []
          },
          "execution_count": 14
        }
      ]
    },
    {
      "cell_type": "code",
      "metadata": {
        "colab": {
          "base_uri": "https://localhost:8080/"
        },
        "id": "emkEEYfRdWcQ",
        "outputId": "d4f63cf2-6915-43a0-8933-02b6b44037d2"
      },
      "source": [
        "# select ONLY by '[]' Operator\n",
        "data[\"Unnamed: 6\"]"
      ],
      "execution_count": 15,
      "outputs": [
        {
          "output_type": "execute_result",
          "data": {
            "text/plain": [
              "0          NaN\n",
              "1          NaN\n",
              "2          NaN\n",
              "3          NaN\n",
              "4          NaN\n",
              "            ..\n",
              "24149230   NaN\n",
              "24149231   NaN\n",
              "24149232   NaN\n",
              "24149233   NaN\n",
              "24149234   NaN\n",
              "Name: Unnamed: 6, Length: 24149235, dtype: float64"
            ]
          },
          "metadata": {
            "tags": []
          },
          "execution_count": 15
        }
      ]
    },
    {
      "cell_type": "code",
      "metadata": {
        "id": "aXB1XxDPRJRw"
      },
      "source": [
        "#Drop some columns with null values\n",
        "data_clean = data.drop(['Unnamed: 6'], axis='columns')"
      ],
      "execution_count": 45,
      "outputs": []
    },
    {
      "cell_type": "code",
      "metadata": {
        "colab": {
          "base_uri": "https://localhost:8080/",
          "height": 204
        },
        "id": "yLhvGkddRbLe",
        "outputId": "efd0d26e-758c-4b84-8c36-19db14cad339"
      },
      "source": [
        "data_clean.head()"
      ],
      "execution_count": 46,
      "outputs": [
        {
          "output_type": "execute_result",
          "data": {
            "text/html": [
              "<div>\n",
              "<style scoped>\n",
              "    .dataframe tbody tr th:only-of-type {\n",
              "        vertical-align: middle;\n",
              "    }\n",
              "\n",
              "    .dataframe tbody tr th {\n",
              "        vertical-align: top;\n",
              "    }\n",
              "\n",
              "    .dataframe thead th {\n",
              "        text-align: right;\n",
              "    }\n",
              "</style>\n",
              "<table border=\"1\" class=\"dataframe\">\n",
              "  <thead>\n",
              "    <tr style=\"text-align: right;\">\n",
              "      <th></th>\n",
              "      <th>집계일자</th>\n",
              "      <th>집계시</th>\n",
              "      <th>출발영업소코드</th>\n",
              "      <th>도착영업소코드</th>\n",
              "      <th>TCS차종구분코드</th>\n",
              "      <th>통행시간</th>\n",
              "    </tr>\n",
              "  </thead>\n",
              "  <tbody>\n",
              "    <tr>\n",
              "      <th>0</th>\n",
              "      <td>20200201</td>\n",
              "      <td>10</td>\n",
              "      <td>0</td>\n",
              "      <td>101</td>\n",
              "      <td>5</td>\n",
              "      <td>-1</td>\n",
              "    </tr>\n",
              "    <tr>\n",
              "      <th>1</th>\n",
              "      <td>20200201</td>\n",
              "      <td>10</td>\n",
              "      <td>0</td>\n",
              "      <td>101</td>\n",
              "      <td>3</td>\n",
              "      <td>-1</td>\n",
              "    </tr>\n",
              "    <tr>\n",
              "      <th>2</th>\n",
              "      <td>20200201</td>\n",
              "      <td>10</td>\n",
              "      <td>0</td>\n",
              "      <td>101</td>\n",
              "      <td>1</td>\n",
              "      <td>-1</td>\n",
              "    </tr>\n",
              "    <tr>\n",
              "      <th>3</th>\n",
              "      <td>20200201</td>\n",
              "      <td>8</td>\n",
              "      <td>0</td>\n",
              "      <td>101</td>\n",
              "      <td>1</td>\n",
              "      <td>-1</td>\n",
              "    </tr>\n",
              "    <tr>\n",
              "      <th>4</th>\n",
              "      <td>20200201</td>\n",
              "      <td>8</td>\n",
              "      <td>0</td>\n",
              "      <td>101</td>\n",
              "      <td>3</td>\n",
              "      <td>-1</td>\n",
              "    </tr>\n",
              "  </tbody>\n",
              "</table>\n",
              "</div>"
            ],
            "text/plain": [
              "       집계일자  집계시  출발영업소코드  도착영업소코드  TCS차종구분코드  통행시간\n",
              "0  20200201   10        0      101          5    -1\n",
              "1  20200201   10        0      101          3    -1\n",
              "2  20200201   10        0      101          1    -1\n",
              "3  20200201    8        0      101          1    -1\n",
              "4  20200201    8        0      101          3    -1"
            ]
          },
          "metadata": {
            "tags": []
          },
          "execution_count": 46
        }
      ]
    },
    {
      "cell_type": "code",
      "metadata": {
        "colab": {
          "base_uri": "https://localhost:8080/"
        },
        "id": "07XwnEskRpT8",
        "outputId": "d04f71f6-b13a-45db-ef4f-87ac66586870"
      },
      "source": [
        "(data_clean.통행시간 > 0).unique()"
      ],
      "execution_count": 18,
      "outputs": [
        {
          "output_type": "execute_result",
          "data": {
            "text/plain": [
              "array([False,  True])"
            ]
          },
          "metadata": {
            "tags": []
          },
          "execution_count": 18
        }
      ]
    },
    {
      "cell_type": "code",
      "metadata": {
        "id": "5NFo3kefSGeu"
      },
      "source": [
        "data_clean = data_clean[data_clean.통행시간 > 0]"
      ],
      "execution_count": 47,
      "outputs": []
    },
    {
      "cell_type": "code",
      "metadata": {
        "colab": {
          "base_uri": "https://localhost:8080/",
          "height": 204
        },
        "id": "43tXwYrMSPBD",
        "outputId": "27c3e69d-941f-4ff3-939e-aca3bda26b4e"
      },
      "source": [
        "data_clean.head()"
      ],
      "execution_count": 48,
      "outputs": [
        {
          "output_type": "execute_result",
          "data": {
            "text/html": [
              "<div>\n",
              "<style scoped>\n",
              "    .dataframe tbody tr th:only-of-type {\n",
              "        vertical-align: middle;\n",
              "    }\n",
              "\n",
              "    .dataframe tbody tr th {\n",
              "        vertical-align: top;\n",
              "    }\n",
              "\n",
              "    .dataframe thead th {\n",
              "        text-align: right;\n",
              "    }\n",
              "</style>\n",
              "<table border=\"1\" class=\"dataframe\">\n",
              "  <thead>\n",
              "    <tr style=\"text-align: right;\">\n",
              "      <th></th>\n",
              "      <th>집계일자</th>\n",
              "      <th>집계시</th>\n",
              "      <th>출발영업소코드</th>\n",
              "      <th>도착영업소코드</th>\n",
              "      <th>TCS차종구분코드</th>\n",
              "      <th>통행시간</th>\n",
              "    </tr>\n",
              "  </thead>\n",
              "  <tbody>\n",
              "    <tr>\n",
              "      <th>7318</th>\n",
              "      <td>20200201</td>\n",
              "      <td>7</td>\n",
              "      <td>101</td>\n",
              "      <td>102</td>\n",
              "      <td>1</td>\n",
              "      <td>754</td>\n",
              "    </tr>\n",
              "    <tr>\n",
              "      <th>7319</th>\n",
              "      <td>20200201</td>\n",
              "      <td>7</td>\n",
              "      <td>101</td>\n",
              "      <td>102</td>\n",
              "      <td>2</td>\n",
              "      <td>890</td>\n",
              "    </tr>\n",
              "    <tr>\n",
              "      <th>7320</th>\n",
              "      <td>20200201</td>\n",
              "      <td>7</td>\n",
              "      <td>101</td>\n",
              "      <td>102</td>\n",
              "      <td>3</td>\n",
              "      <td>753</td>\n",
              "    </tr>\n",
              "    <tr>\n",
              "      <th>7321</th>\n",
              "      <td>20200201</td>\n",
              "      <td>7</td>\n",
              "      <td>101</td>\n",
              "      <td>102</td>\n",
              "      <td>4</td>\n",
              "      <td>909</td>\n",
              "    </tr>\n",
              "    <tr>\n",
              "      <th>7322</th>\n",
              "      <td>20200201</td>\n",
              "      <td>7</td>\n",
              "      <td>101</td>\n",
              "      <td>102</td>\n",
              "      <td>5</td>\n",
              "      <td>997</td>\n",
              "    </tr>\n",
              "  </tbody>\n",
              "</table>\n",
              "</div>"
            ],
            "text/plain": [
              "          집계일자  집계시  출발영업소코드  도착영업소코드  TCS차종구분코드  통행시간\n",
              "7318  20200201    7      101      102          1   754\n",
              "7319  20200201    7      101      102          2   890\n",
              "7320  20200201    7      101      102          3   753\n",
              "7321  20200201    7      101      102          4   909\n",
              "7322  20200201    7      101      102          5   997"
            ]
          },
          "metadata": {
            "tags": []
          },
          "execution_count": 48
        }
      ]
    },
    {
      "cell_type": "code",
      "metadata": {
        "colab": {
          "base_uri": "https://localhost:8080/"
        },
        "id": "aLHF_kGaST6R",
        "outputId": "97169b0c-fd6b-4fc8-ea27-1d63bba05e42"
      },
      "source": [
        "data_clean.info()"
      ],
      "execution_count": null,
      "outputs": [
        {
          "output_type": "stream",
          "text": [
            "<class 'pandas.core.frame.DataFrame'>\n",
            "Int64Index: 20231577 entries, 5764 to 24149234\n",
            "Data columns (total 6 columns):\n",
            " #   Column     Dtype\n",
            "---  ------     -----\n",
            " 0   집계일자       int64\n",
            " 1   집계시        int64\n",
            " 2   출발영업소코드    int64\n",
            " 3   도착영업소코드    int64\n",
            " 4   TCS차종구분코드  int64\n",
            " 5   통행시간       int64\n",
            "dtypes: int64(6)\n",
            "memory usage: 1.1 GB\n"
          ],
          "name": "stdout"
        }
      ]
    },
    {
      "cell_type": "markdown",
      "metadata": {
        "id": "QQL3tGOveX4j"
      },
      "source": [
        "#4. Select Data\n",
        "\n",
        "101,서울 105,기흥 110,목천 115,대전 120,황간 125,남구미 130,동김천 135,경주 140,부산"
      ]
    },
    {
      "cell_type": "code",
      "metadata": {
        "colab": {
          "base_uri": "https://localhost:8080/",
          "height": 204
        },
        "id": "8iH_GlVMef1-",
        "outputId": "7265ff6c-57f0-4475-a2ba-fb39c74067f7"
      },
      "source": [
        "data_clean.head()"
      ],
      "execution_count": 23,
      "outputs": [
        {
          "output_type": "execute_result",
          "data": {
            "text/html": [
              "<div>\n",
              "<style scoped>\n",
              "    .dataframe tbody tr th:only-of-type {\n",
              "        vertical-align: middle;\n",
              "    }\n",
              "\n",
              "    .dataframe tbody tr th {\n",
              "        vertical-align: top;\n",
              "    }\n",
              "\n",
              "    .dataframe thead th {\n",
              "        text-align: right;\n",
              "    }\n",
              "</style>\n",
              "<table border=\"1\" class=\"dataframe\">\n",
              "  <thead>\n",
              "    <tr style=\"text-align: right;\">\n",
              "      <th></th>\n",
              "      <th>집계일자</th>\n",
              "      <th>집계시</th>\n",
              "      <th>출발영업소코드</th>\n",
              "      <th>도착영업소코드</th>\n",
              "      <th>TCS차종구분코드</th>\n",
              "      <th>통행시간</th>\n",
              "    </tr>\n",
              "  </thead>\n",
              "  <tbody>\n",
              "    <tr>\n",
              "      <th>0</th>\n",
              "      <td>20200301</td>\n",
              "      <td>18</td>\n",
              "      <td>0</td>\n",
              "      <td>101</td>\n",
              "      <td>1</td>\n",
              "      <td>-1</td>\n",
              "    </tr>\n",
              "    <tr>\n",
              "      <th>1</th>\n",
              "      <td>20200301</td>\n",
              "      <td>18</td>\n",
              "      <td>0</td>\n",
              "      <td>101</td>\n",
              "      <td>3</td>\n",
              "      <td>-1</td>\n",
              "    </tr>\n",
              "    <tr>\n",
              "      <th>2</th>\n",
              "      <td>20200301</td>\n",
              "      <td>22</td>\n",
              "      <td>0</td>\n",
              "      <td>101</td>\n",
              "      <td>2</td>\n",
              "      <td>-1</td>\n",
              "    </tr>\n",
              "    <tr>\n",
              "      <th>3</th>\n",
              "      <td>20200301</td>\n",
              "      <td>12</td>\n",
              "      <td>0</td>\n",
              "      <td>101</td>\n",
              "      <td>3</td>\n",
              "      <td>-1</td>\n",
              "    </tr>\n",
              "    <tr>\n",
              "      <th>4</th>\n",
              "      <td>20200301</td>\n",
              "      <td>5</td>\n",
              "      <td>0</td>\n",
              "      <td>101</td>\n",
              "      <td>1</td>\n",
              "      <td>-1</td>\n",
              "    </tr>\n",
              "  </tbody>\n",
              "</table>\n",
              "</div>"
            ],
            "text/plain": [
              "       집계일자  집계시  출발영업소코드  도착영업소코드  TCS차종구분코드  통행시간\n",
              "0  20200301   18        0      101          1    -1\n",
              "1  20200301   18        0      101          3    -1\n",
              "2  20200301   22        0      101          2    -1\n",
              "3  20200301   12        0      101          3    -1\n",
              "4  20200301    5        0      101          1    -1"
            ]
          },
          "metadata": {
            "tags": []
          },
          "execution_count": 23
        }
      ]
    },
    {
      "cell_type": "code",
      "metadata": {
        "colab": {
          "base_uri": "https://localhost:8080/",
          "height": 204
        },
        "id": "nvHM-qHgepF0",
        "outputId": "3f1c8226-4200-4077-b762-ddb5d327da3c"
      },
      "source": [
        "data_clean[0:5]"
      ],
      "execution_count": 24,
      "outputs": [
        {
          "output_type": "execute_result",
          "data": {
            "text/html": [
              "<div>\n",
              "<style scoped>\n",
              "    .dataframe tbody tr th:only-of-type {\n",
              "        vertical-align: middle;\n",
              "    }\n",
              "\n",
              "    .dataframe tbody tr th {\n",
              "        vertical-align: top;\n",
              "    }\n",
              "\n",
              "    .dataframe thead th {\n",
              "        text-align: right;\n",
              "    }\n",
              "</style>\n",
              "<table border=\"1\" class=\"dataframe\">\n",
              "  <thead>\n",
              "    <tr style=\"text-align: right;\">\n",
              "      <th></th>\n",
              "      <th>집계일자</th>\n",
              "      <th>집계시</th>\n",
              "      <th>출발영업소코드</th>\n",
              "      <th>도착영업소코드</th>\n",
              "      <th>TCS차종구분코드</th>\n",
              "      <th>통행시간</th>\n",
              "    </tr>\n",
              "  </thead>\n",
              "  <tbody>\n",
              "    <tr>\n",
              "      <th>0</th>\n",
              "      <td>20200301</td>\n",
              "      <td>18</td>\n",
              "      <td>0</td>\n",
              "      <td>101</td>\n",
              "      <td>1</td>\n",
              "      <td>-1</td>\n",
              "    </tr>\n",
              "    <tr>\n",
              "      <th>1</th>\n",
              "      <td>20200301</td>\n",
              "      <td>18</td>\n",
              "      <td>0</td>\n",
              "      <td>101</td>\n",
              "      <td>3</td>\n",
              "      <td>-1</td>\n",
              "    </tr>\n",
              "    <tr>\n",
              "      <th>2</th>\n",
              "      <td>20200301</td>\n",
              "      <td>22</td>\n",
              "      <td>0</td>\n",
              "      <td>101</td>\n",
              "      <td>2</td>\n",
              "      <td>-1</td>\n",
              "    </tr>\n",
              "    <tr>\n",
              "      <th>3</th>\n",
              "      <td>20200301</td>\n",
              "      <td>12</td>\n",
              "      <td>0</td>\n",
              "      <td>101</td>\n",
              "      <td>3</td>\n",
              "      <td>-1</td>\n",
              "    </tr>\n",
              "    <tr>\n",
              "      <th>4</th>\n",
              "      <td>20200301</td>\n",
              "      <td>5</td>\n",
              "      <td>0</td>\n",
              "      <td>101</td>\n",
              "      <td>1</td>\n",
              "      <td>-1</td>\n",
              "    </tr>\n",
              "  </tbody>\n",
              "</table>\n",
              "</div>"
            ],
            "text/plain": [
              "       집계일자  집계시  출발영업소코드  도착영업소코드  TCS차종구분코드  통행시간\n",
              "0  20200301   18        0      101          1    -1\n",
              "1  20200301   18        0      101          3    -1\n",
              "2  20200301   22        0      101          2    -1\n",
              "3  20200301   12        0      101          3    -1\n",
              "4  20200301    5        0      101          1    -1"
            ]
          },
          "metadata": {
            "tags": []
          },
          "execution_count": 24
        }
      ]
    },
    {
      "cell_type": "code",
      "metadata": {
        "id": "Dqv7VDnwfqAt"
      },
      "source": [
        "df_data = pd.DataFrame(data_clean, columns=['집계일자','집계시','출발영업소코드','도착영업소코드', '통행시간'])"
      ],
      "execution_count": 49,
      "outputs": []
    },
    {
      "cell_type": "code",
      "metadata": {
        "colab": {
          "base_uri": "https://localhost:8080/",
          "height": 204
        },
        "id": "83UqgHoHgD_j",
        "outputId": "de8f7c15-11e9-4bb7-fb40-a17126a34582"
      },
      "source": [
        "df_data.head()"
      ],
      "execution_count": 50,
      "outputs": [
        {
          "output_type": "execute_result",
          "data": {
            "text/html": [
              "<div>\n",
              "<style scoped>\n",
              "    .dataframe tbody tr th:only-of-type {\n",
              "        vertical-align: middle;\n",
              "    }\n",
              "\n",
              "    .dataframe tbody tr th {\n",
              "        vertical-align: top;\n",
              "    }\n",
              "\n",
              "    .dataframe thead th {\n",
              "        text-align: right;\n",
              "    }\n",
              "</style>\n",
              "<table border=\"1\" class=\"dataframe\">\n",
              "  <thead>\n",
              "    <tr style=\"text-align: right;\">\n",
              "      <th></th>\n",
              "      <th>집계일자</th>\n",
              "      <th>집계시</th>\n",
              "      <th>출발영업소코드</th>\n",
              "      <th>도착영업소코드</th>\n",
              "      <th>통행시간</th>\n",
              "    </tr>\n",
              "  </thead>\n",
              "  <tbody>\n",
              "    <tr>\n",
              "      <th>7318</th>\n",
              "      <td>20200201</td>\n",
              "      <td>7</td>\n",
              "      <td>101</td>\n",
              "      <td>102</td>\n",
              "      <td>754</td>\n",
              "    </tr>\n",
              "    <tr>\n",
              "      <th>7319</th>\n",
              "      <td>20200201</td>\n",
              "      <td>7</td>\n",
              "      <td>101</td>\n",
              "      <td>102</td>\n",
              "      <td>890</td>\n",
              "    </tr>\n",
              "    <tr>\n",
              "      <th>7320</th>\n",
              "      <td>20200201</td>\n",
              "      <td>7</td>\n",
              "      <td>101</td>\n",
              "      <td>102</td>\n",
              "      <td>753</td>\n",
              "    </tr>\n",
              "    <tr>\n",
              "      <th>7321</th>\n",
              "      <td>20200201</td>\n",
              "      <td>7</td>\n",
              "      <td>101</td>\n",
              "      <td>102</td>\n",
              "      <td>909</td>\n",
              "    </tr>\n",
              "    <tr>\n",
              "      <th>7322</th>\n",
              "      <td>20200201</td>\n",
              "      <td>7</td>\n",
              "      <td>101</td>\n",
              "      <td>102</td>\n",
              "      <td>997</td>\n",
              "    </tr>\n",
              "  </tbody>\n",
              "</table>\n",
              "</div>"
            ],
            "text/plain": [
              "          집계일자  집계시  출발영업소코드  도착영업소코드  통행시간\n",
              "7318  20200201    7      101      102   754\n",
              "7319  20200201    7      101      102   890\n",
              "7320  20200201    7      101      102   753\n",
              "7321  20200201    7      101      102   909\n",
              "7322  20200201    7      101      102   997"
            ]
          },
          "metadata": {
            "tags": []
          },
          "execution_count": 50
        }
      ]
    },
    {
      "cell_type": "code",
      "metadata": {
        "id": "uXwE0IgKgSph"
      },
      "source": [
        "long_distance = df_data.통행시간 > 700"
      ],
      "execution_count": null,
      "outputs": []
    },
    {
      "cell_type": "code",
      "metadata": {
        "colab": {
          "base_uri": "https://localhost:8080/"
        },
        "id": "5Ybh_ZRIgcAS",
        "outputId": "d76cf7bb-dcc6-4010-9ac6-9b006da57556"
      },
      "source": [
        "long_distance"
      ],
      "execution_count": null,
      "outputs": [
        {
          "output_type": "execute_result",
          "data": {
            "text/plain": [
              "5853        False\n",
              "5854        False\n",
              "5855        False\n",
              "5856        False\n",
              "5857        False\n",
              "            ...  \n",
              "25596211     True\n",
              "25596212     True\n",
              "25596213     True\n",
              "25596214     True\n",
              "25596215     True\n",
              "Name: 통행시간, Length: 21531295, dtype: bool"
            ]
          },
          "metadata": {
            "tags": []
          },
          "execution_count": 72
        }
      ]
    },
    {
      "cell_type": "code",
      "metadata": {
        "id": "p0b_qfAygrmP"
      },
      "source": [
        "start_from_101 = df_data[df_data.출발영업소코드 == 101]"
      ],
      "execution_count": 51,
      "outputs": []
    },
    {
      "cell_type": "code",
      "metadata": {
        "colab": {
          "base_uri": "https://localhost:8080/",
          "height": 419
        },
        "id": "gXWP7MTRhIQo",
        "outputId": "b36a7712-a29a-4d89-9f48-aa01b71ebef7"
      },
      "source": [
        "start_from_101"
      ],
      "execution_count": 52,
      "outputs": [
        {
          "output_type": "execute_result",
          "data": {
            "text/html": [
              "<div>\n",
              "<style scoped>\n",
              "    .dataframe tbody tr th:only-of-type {\n",
              "        vertical-align: middle;\n",
              "    }\n",
              "\n",
              "    .dataframe tbody tr th {\n",
              "        vertical-align: top;\n",
              "    }\n",
              "\n",
              "    .dataframe thead th {\n",
              "        text-align: right;\n",
              "    }\n",
              "</style>\n",
              "<table border=\"1\" class=\"dataframe\">\n",
              "  <thead>\n",
              "    <tr style=\"text-align: right;\">\n",
              "      <th></th>\n",
              "      <th>집계일자</th>\n",
              "      <th>집계시</th>\n",
              "      <th>출발영업소코드</th>\n",
              "      <th>도착영업소코드</th>\n",
              "      <th>통행시간</th>\n",
              "    </tr>\n",
              "  </thead>\n",
              "  <tbody>\n",
              "    <tr>\n",
              "      <th>7318</th>\n",
              "      <td>20200201</td>\n",
              "      <td>7</td>\n",
              "      <td>101</td>\n",
              "      <td>102</td>\n",
              "      <td>754</td>\n",
              "    </tr>\n",
              "    <tr>\n",
              "      <th>7319</th>\n",
              "      <td>20200201</td>\n",
              "      <td>7</td>\n",
              "      <td>101</td>\n",
              "      <td>102</td>\n",
              "      <td>890</td>\n",
              "    </tr>\n",
              "    <tr>\n",
              "      <th>7320</th>\n",
              "      <td>20200201</td>\n",
              "      <td>7</td>\n",
              "      <td>101</td>\n",
              "      <td>102</td>\n",
              "      <td>753</td>\n",
              "    </tr>\n",
              "    <tr>\n",
              "      <th>7321</th>\n",
              "      <td>20200201</td>\n",
              "      <td>7</td>\n",
              "      <td>101</td>\n",
              "      <td>102</td>\n",
              "      <td>909</td>\n",
              "    </tr>\n",
              "    <tr>\n",
              "      <th>7322</th>\n",
              "      <td>20200201</td>\n",
              "      <td>7</td>\n",
              "      <td>101</td>\n",
              "      <td>102</td>\n",
              "      <td>997</td>\n",
              "    </tr>\n",
              "    <tr>\n",
              "      <th>...</th>\n",
              "      <td>...</td>\n",
              "      <td>...</td>\n",
              "      <td>...</td>\n",
              "      <td>...</td>\n",
              "      <td>...</td>\n",
              "    </tr>\n",
              "    <tr>\n",
              "      <th>22862718</th>\n",
              "      <td>20200229</td>\n",
              "      <td>6</td>\n",
              "      <td>101</td>\n",
              "      <td>515</td>\n",
              "      <td>13026</td>\n",
              "    </tr>\n",
              "    <tr>\n",
              "      <th>22862750</th>\n",
              "      <td>20200229</td>\n",
              "      <td>15</td>\n",
              "      <td>101</td>\n",
              "      <td>220</td>\n",
              "      <td>5290</td>\n",
              "    </tr>\n",
              "    <tr>\n",
              "      <th>22862838</th>\n",
              "      <td>20200229</td>\n",
              "      <td>19</td>\n",
              "      <td>101</td>\n",
              "      <td>172</td>\n",
              "      <td>923</td>\n",
              "    </tr>\n",
              "    <tr>\n",
              "      <th>22862982</th>\n",
              "      <td>20200229</td>\n",
              "      <td>10</td>\n",
              "      <td>101</td>\n",
              "      <td>105</td>\n",
              "      <td>828</td>\n",
              "    </tr>\n",
              "    <tr>\n",
              "      <th>22863026</th>\n",
              "      <td>20200229</td>\n",
              "      <td>1</td>\n",
              "      <td>101</td>\n",
              "      <td>515</td>\n",
              "      <td>12210</td>\n",
              "    </tr>\n",
              "  </tbody>\n",
              "</table>\n",
              "<p>243909 rows × 5 columns</p>\n",
              "</div>"
            ],
            "text/plain": [
              "              집계일자  집계시  출발영업소코드  도착영업소코드   통행시간\n",
              "7318      20200201    7      101      102    754\n",
              "7319      20200201    7      101      102    890\n",
              "7320      20200201    7      101      102    753\n",
              "7321      20200201    7      101      102    909\n",
              "7322      20200201    7      101      102    997\n",
              "...            ...  ...      ...      ...    ...\n",
              "22862718  20200229    6      101      515  13026\n",
              "22862750  20200229   15      101      220   5290\n",
              "22862838  20200229   19      101      172    923\n",
              "22862982  20200229   10      101      105    828\n",
              "22863026  20200229    1      101      515  12210\n",
              "\n",
              "[243909 rows x 5 columns]"
            ]
          },
          "metadata": {
            "tags": []
          },
          "execution_count": 52
        }
      ]
    },
    {
      "cell_type": "code",
      "metadata": {
        "id": "8yrnpBDFhU15"
      },
      "source": [
        "# 101,서울 105,기흥 110,목천 115,대전 120,황간 125,남구미 130,동김천 135,경주 140,부산 \n",
        "start_from_101_to_140 = start_from_101[start_from_101['도착영업소코드'].isin([105,110,115,120,125,130,135,140])]"
      ],
      "execution_count": 53,
      "outputs": []
    },
    {
      "cell_type": "code",
      "metadata": {
        "colab": {
          "base_uri": "https://localhost:8080/",
          "height": 419
        },
        "id": "jcQEMuY7h5Df",
        "outputId": "0097052a-8a1d-45b2-ccb1-4805c255e843"
      },
      "source": [
        "start_from_101_to_140"
      ],
      "execution_count": 54,
      "outputs": [
        {
          "output_type": "execute_result",
          "data": {
            "text/html": [
              "<div>\n",
              "<style scoped>\n",
              "    .dataframe tbody tr th:only-of-type {\n",
              "        vertical-align: middle;\n",
              "    }\n",
              "\n",
              "    .dataframe tbody tr th {\n",
              "        vertical-align: top;\n",
              "    }\n",
              "\n",
              "    .dataframe thead th {\n",
              "        text-align: right;\n",
              "    }\n",
              "</style>\n",
              "<table border=\"1\" class=\"dataframe\">\n",
              "  <thead>\n",
              "    <tr style=\"text-align: right;\">\n",
              "      <th></th>\n",
              "      <th>집계일자</th>\n",
              "      <th>집계시</th>\n",
              "      <th>출발영업소코드</th>\n",
              "      <th>도착영업소코드</th>\n",
              "      <th>통행시간</th>\n",
              "    </tr>\n",
              "  </thead>\n",
              "  <tbody>\n",
              "    <tr>\n",
              "      <th>7573</th>\n",
              "      <td>20200201</td>\n",
              "      <td>14</td>\n",
              "      <td>101</td>\n",
              "      <td>105</td>\n",
              "      <td>800</td>\n",
              "    </tr>\n",
              "    <tr>\n",
              "      <th>7574</th>\n",
              "      <td>20200201</td>\n",
              "      <td>14</td>\n",
              "      <td>101</td>\n",
              "      <td>105</td>\n",
              "      <td>833</td>\n",
              "    </tr>\n",
              "    <tr>\n",
              "      <th>7575</th>\n",
              "      <td>20200201</td>\n",
              "      <td>14</td>\n",
              "      <td>101</td>\n",
              "      <td>105</td>\n",
              "      <td>752</td>\n",
              "    </tr>\n",
              "    <tr>\n",
              "      <th>7576</th>\n",
              "      <td>20200201</td>\n",
              "      <td>14</td>\n",
              "      <td>101</td>\n",
              "      <td>105</td>\n",
              "      <td>832</td>\n",
              "    </tr>\n",
              "    <tr>\n",
              "      <th>7577</th>\n",
              "      <td>20200201</td>\n",
              "      <td>14</td>\n",
              "      <td>101</td>\n",
              "      <td>105</td>\n",
              "      <td>869</td>\n",
              "    </tr>\n",
              "    <tr>\n",
              "      <th>...</th>\n",
              "      <td>...</td>\n",
              "      <td>...</td>\n",
              "      <td>...</td>\n",
              "      <td>...</td>\n",
              "      <td>...</td>\n",
              "    </tr>\n",
              "    <tr>\n",
              "      <th>22859526</th>\n",
              "      <td>20200229</td>\n",
              "      <td>5</td>\n",
              "      <td>101</td>\n",
              "      <td>130</td>\n",
              "      <td>7788</td>\n",
              "    </tr>\n",
              "    <tr>\n",
              "      <th>22860252</th>\n",
              "      <td>20200229</td>\n",
              "      <td>17</td>\n",
              "      <td>101</td>\n",
              "      <td>135</td>\n",
              "      <td>12632</td>\n",
              "    </tr>\n",
              "    <tr>\n",
              "      <th>22860259</th>\n",
              "      <td>20200229</td>\n",
              "      <td>20</td>\n",
              "      <td>101</td>\n",
              "      <td>110</td>\n",
              "      <td>3563</td>\n",
              "    </tr>\n",
              "    <tr>\n",
              "      <th>22861915</th>\n",
              "      <td>20200229</td>\n",
              "      <td>4</td>\n",
              "      <td>101</td>\n",
              "      <td>120</td>\n",
              "      <td>6932</td>\n",
              "    </tr>\n",
              "    <tr>\n",
              "      <th>22862982</th>\n",
              "      <td>20200229</td>\n",
              "      <td>10</td>\n",
              "      <td>101</td>\n",
              "      <td>105</td>\n",
              "      <td>828</td>\n",
              "    </tr>\n",
              "  </tbody>\n",
              "</table>\n",
              "<p>11896 rows × 5 columns</p>\n",
              "</div>"
            ],
            "text/plain": [
              "              집계일자  집계시  출발영업소코드  도착영업소코드   통행시간\n",
              "7573      20200201   14      101      105    800\n",
              "7574      20200201   14      101      105    833\n",
              "7575      20200201   14      101      105    752\n",
              "7576      20200201   14      101      105    832\n",
              "7577      20200201   14      101      105    869\n",
              "...            ...  ...      ...      ...    ...\n",
              "22859526  20200229    5      101      130   7788\n",
              "22860252  20200229   17      101      135  12632\n",
              "22860259  20200229   20      101      110   3563\n",
              "22861915  20200229    4      101      120   6932\n",
              "22862982  20200229   10      101      105    828\n",
              "\n",
              "[11896 rows x 5 columns]"
            ]
          },
          "metadata": {
            "tags": []
          },
          "execution_count": 54
        }
      ]
    },
    {
      "cell_type": "code",
      "metadata": {
        "colab": {
          "base_uri": "https://localhost:8080/"
        },
        "id": "rLom1l1GiGfH",
        "outputId": "866dbda6-9d9d-438d-9d3e-50e033bc69b4"
      },
      "source": [
        "start_from_101_to_140.value_counts()"
      ],
      "execution_count": null,
      "outputs": [
        {
          "output_type": "execute_result",
          "data": {
            "text/plain": [
              "집계일자      집계시  출발영업소코드  도착영업소코드  통행시간\n",
              "20200331  13   101      110      3641    2\n",
              "20200318  9    101      105      808     2\n",
              "          16   101      105      856     2\n",
              "20200302  14   101      105      822     2\n",
              "20200307  12   101      105      734     2\n",
              "                                        ..\n",
              "20200321  13   101      110      3888    1\n",
              "                                 3655    1\n",
              "                                 3652    1\n",
              "                                 3360    1\n",
              "20200301  0    101      105      587     1\n",
              "Length: 12681, dtype: int64"
            ]
          },
          "metadata": {
            "tags": []
          },
          "execution_count": 47
        }
      ]
    },
    {
      "cell_type": "markdown",
      "metadata": {
        "id": "iRBacYCZovos"
      },
      "source": [
        "#5. Convert & Insert Data\n",
        "\n",
        "The days are numbered from 0 to 6 where 0 is Monday and 6 is Sunday.\n",
        "\n",
        "3 Ways of Adding new columns to Pandas dataframe\n",
        "\n",
        "https://re-thought.com/how-to-add-new-columns-in-a-dataframe-in-pandas/\n",
        "\n",
        "https://pandas.pydata.org/pandas-docs/stable/user_guide/indexing.html#returning-a-view-versus-a-copy\n"
      ]
    },
    {
      "cell_type": "code",
      "metadata": {
        "colab": {
          "base_uri": "https://localhost:8080/"
        },
        "id": "3OANczWOpWuE",
        "outputId": "3102847b-7291-42e7-9ac1-7f4af25cc1a7"
      },
      "source": [
        "# 1: By declaring a new list as a column\n",
        "start_from_101_to_140['요일'] = pd.to_datetime(start_from_101_to_140['집계일자'], format='%Y%m%d').dt.dayofweek"
      ],
      "execution_count": null,
      "outputs": [
        {
          "output_type": "stream",
          "text": [
            "/usr/local/lib/python3.6/dist-packages/ipykernel_launcher.py:2: SettingWithCopyWarning: \n",
            "A value is trying to be set on a copy of a slice from a DataFrame.\n",
            "Try using .loc[row_indexer,col_indexer] = value instead\n",
            "\n",
            "See the caveats in the documentation: https://pandas.pydata.org/pandas-docs/stable/user_guide/indexing.html#returning-a-view-versus-a-copy\n",
            "  \n"
          ],
          "name": "stderr"
        }
      ]
    },
    {
      "cell_type": "code",
      "metadata": {
        "colab": {
          "base_uri": "https://localhost:8080/",
          "height": 204
        },
        "id": "g_dei374qWZt",
        "outputId": "c1e8121b-3240-4843-93ad-fa096ebbc757"
      },
      "source": [
        "start_from_101_to_140.head()"
      ],
      "execution_count": null,
      "outputs": [
        {
          "output_type": "execute_result",
          "data": {
            "text/html": [
              "<div>\n",
              "<style scoped>\n",
              "    .dataframe tbody tr th:only-of-type {\n",
              "        vertical-align: middle;\n",
              "    }\n",
              "\n",
              "    .dataframe tbody tr th {\n",
              "        vertical-align: top;\n",
              "    }\n",
              "\n",
              "    .dataframe thead th {\n",
              "        text-align: right;\n",
              "    }\n",
              "</style>\n",
              "<table border=\"1\" class=\"dataframe\">\n",
              "  <thead>\n",
              "    <tr style=\"text-align: right;\">\n",
              "      <th></th>\n",
              "      <th>집계일자</th>\n",
              "      <th>집계시</th>\n",
              "      <th>출발영업소코드</th>\n",
              "      <th>도착영업소코드</th>\n",
              "      <th>통행시간</th>\n",
              "      <th>요일</th>\n",
              "    </tr>\n",
              "  </thead>\n",
              "  <tbody>\n",
              "    <tr>\n",
              "      <th>7573</th>\n",
              "      <td>20200201</td>\n",
              "      <td>14</td>\n",
              "      <td>101</td>\n",
              "      <td>105</td>\n",
              "      <td>800</td>\n",
              "      <td>5</td>\n",
              "    </tr>\n",
              "    <tr>\n",
              "      <th>7574</th>\n",
              "      <td>20200201</td>\n",
              "      <td>14</td>\n",
              "      <td>101</td>\n",
              "      <td>105</td>\n",
              "      <td>833</td>\n",
              "      <td>5</td>\n",
              "    </tr>\n",
              "    <tr>\n",
              "      <th>7575</th>\n",
              "      <td>20200201</td>\n",
              "      <td>14</td>\n",
              "      <td>101</td>\n",
              "      <td>105</td>\n",
              "      <td>752</td>\n",
              "      <td>5</td>\n",
              "    </tr>\n",
              "    <tr>\n",
              "      <th>7576</th>\n",
              "      <td>20200201</td>\n",
              "      <td>14</td>\n",
              "      <td>101</td>\n",
              "      <td>105</td>\n",
              "      <td>832</td>\n",
              "      <td>5</td>\n",
              "    </tr>\n",
              "    <tr>\n",
              "      <th>7577</th>\n",
              "      <td>20200201</td>\n",
              "      <td>14</td>\n",
              "      <td>101</td>\n",
              "      <td>105</td>\n",
              "      <td>869</td>\n",
              "      <td>5</td>\n",
              "    </tr>\n",
              "  </tbody>\n",
              "</table>\n",
              "</div>"
            ],
            "text/plain": [
              "          집계일자  집계시  출발영업소코드  도착영업소코드  통행시간  요일\n",
              "7573  20200201   14      101      105   800   5\n",
              "7574  20200201   14      101      105   833   5\n",
              "7575  20200201   14      101      105   752   5\n",
              "7576  20200201   14      101      105   832   5\n",
              "7577  20200201   14      101      105   869   5"
            ]
          },
          "metadata": {
            "tags": []
          },
          "execution_count": 22
        }
      ]
    },
    {
      "cell_type": "code",
      "metadata": {
        "colab": {
          "base_uri": "https://localhost:8080/"
        },
        "id": "WF-KOAENqh4W",
        "outputId": "9b856ca8-7d41-469c-9185-1d3b435431b3"
      },
      "source": [
        "# 2: Using .loc[]\n",
        "start_from_101_to_140.loc[:, '요일'] = pd.to_datetime(start_from_101_to_140['집계일자'], format='%Y%m%d').dt.dayofweek"
      ],
      "execution_count": null,
      "outputs": [
        {
          "output_type": "stream",
          "text": [
            "/usr/local/lib/python3.6/dist-packages/pandas/core/indexing.py:1781: SettingWithCopyWarning: \n",
            "A value is trying to be set on a copy of a slice from a DataFrame.\n",
            "Try using .loc[row_indexer,col_indexer] = value instead\n",
            "\n",
            "See the caveats in the documentation: https://pandas.pydata.org/pandas-docs/stable/user_guide/indexing.html#returning-a-view-versus-a-copy\n",
            "  self.obj[item_labels[indexer[info_axis]]] = value\n"
          ],
          "name": "stderr"
        }
      ]
    },
    {
      "cell_type": "code",
      "metadata": {
        "colab": {
          "base_uri": "https://localhost:8080/",
          "height": 204
        },
        "id": "Sp4idxkWrJM-",
        "outputId": "7c90e8a7-ca26-4f17-b298-ebeb5e91002f"
      },
      "source": [
        "start_from_101_to_140.head()"
      ],
      "execution_count": null,
      "outputs": [
        {
          "output_type": "execute_result",
          "data": {
            "text/html": [
              "<div>\n",
              "<style scoped>\n",
              "    .dataframe tbody tr th:only-of-type {\n",
              "        vertical-align: middle;\n",
              "    }\n",
              "\n",
              "    .dataframe tbody tr th {\n",
              "        vertical-align: top;\n",
              "    }\n",
              "\n",
              "    .dataframe thead th {\n",
              "        text-align: right;\n",
              "    }\n",
              "</style>\n",
              "<table border=\"1\" class=\"dataframe\">\n",
              "  <thead>\n",
              "    <tr style=\"text-align: right;\">\n",
              "      <th></th>\n",
              "      <th>집계일자</th>\n",
              "      <th>집계시</th>\n",
              "      <th>출발영업소코드</th>\n",
              "      <th>도착영업소코드</th>\n",
              "      <th>통행시간</th>\n",
              "      <th>요일</th>\n",
              "    </tr>\n",
              "  </thead>\n",
              "  <tbody>\n",
              "    <tr>\n",
              "      <th>7573</th>\n",
              "      <td>20200201</td>\n",
              "      <td>14</td>\n",
              "      <td>101</td>\n",
              "      <td>105</td>\n",
              "      <td>800</td>\n",
              "      <td>5</td>\n",
              "    </tr>\n",
              "    <tr>\n",
              "      <th>7574</th>\n",
              "      <td>20200201</td>\n",
              "      <td>14</td>\n",
              "      <td>101</td>\n",
              "      <td>105</td>\n",
              "      <td>833</td>\n",
              "      <td>5</td>\n",
              "    </tr>\n",
              "    <tr>\n",
              "      <th>7575</th>\n",
              "      <td>20200201</td>\n",
              "      <td>14</td>\n",
              "      <td>101</td>\n",
              "      <td>105</td>\n",
              "      <td>752</td>\n",
              "      <td>5</td>\n",
              "    </tr>\n",
              "    <tr>\n",
              "      <th>7576</th>\n",
              "      <td>20200201</td>\n",
              "      <td>14</td>\n",
              "      <td>101</td>\n",
              "      <td>105</td>\n",
              "      <td>832</td>\n",
              "      <td>5</td>\n",
              "    </tr>\n",
              "    <tr>\n",
              "      <th>7577</th>\n",
              "      <td>20200201</td>\n",
              "      <td>14</td>\n",
              "      <td>101</td>\n",
              "      <td>105</td>\n",
              "      <td>869</td>\n",
              "      <td>5</td>\n",
              "    </tr>\n",
              "  </tbody>\n",
              "</table>\n",
              "</div>"
            ],
            "text/plain": [
              "          집계일자  집계시  출발영업소코드  도착영업소코드  통행시간  요일\n",
              "7573  20200201   14      101      105   800   5\n",
              "7574  20200201   14      101      105   833   5\n",
              "7575  20200201   14      101      105   752   5\n",
              "7576  20200201   14      101      105   832   5\n",
              "7577  20200201   14      101      105   869   5"
            ]
          },
          "metadata": {
            "tags": []
          },
          "execution_count": 24
        }
      ]
    },
    {
      "cell_type": "code",
      "metadata": {
        "id": "aLx6weTLrVNY"
      },
      "source": [
        "# 3: Using the .assign() function\n",
        "start_from_101_to_140 = start_from_101_to_140.assign(요일=pd.to_datetime(start_from_101_to_140['집계일자'], format='%Y%m%d').dt.dayofweek)"
      ],
      "execution_count": 55,
      "outputs": []
    },
    {
      "cell_type": "code",
      "metadata": {
        "colab": {
          "base_uri": "https://localhost:8080/",
          "height": 204
        },
        "id": "MmtfJSSEr8Ik",
        "outputId": "c1710d23-9ae8-4256-c472-a6371ec4b13e"
      },
      "source": [
        "start_from_101_to_140.head()"
      ],
      "execution_count": 56,
      "outputs": [
        {
          "output_type": "execute_result",
          "data": {
            "text/html": [
              "<div>\n",
              "<style scoped>\n",
              "    .dataframe tbody tr th:only-of-type {\n",
              "        vertical-align: middle;\n",
              "    }\n",
              "\n",
              "    .dataframe tbody tr th {\n",
              "        vertical-align: top;\n",
              "    }\n",
              "\n",
              "    .dataframe thead th {\n",
              "        text-align: right;\n",
              "    }\n",
              "</style>\n",
              "<table border=\"1\" class=\"dataframe\">\n",
              "  <thead>\n",
              "    <tr style=\"text-align: right;\">\n",
              "      <th></th>\n",
              "      <th>집계일자</th>\n",
              "      <th>집계시</th>\n",
              "      <th>출발영업소코드</th>\n",
              "      <th>도착영업소코드</th>\n",
              "      <th>통행시간</th>\n",
              "      <th>요일</th>\n",
              "    </tr>\n",
              "  </thead>\n",
              "  <tbody>\n",
              "    <tr>\n",
              "      <th>7573</th>\n",
              "      <td>20200201</td>\n",
              "      <td>14</td>\n",
              "      <td>101</td>\n",
              "      <td>105</td>\n",
              "      <td>800</td>\n",
              "      <td>5</td>\n",
              "    </tr>\n",
              "    <tr>\n",
              "      <th>7574</th>\n",
              "      <td>20200201</td>\n",
              "      <td>14</td>\n",
              "      <td>101</td>\n",
              "      <td>105</td>\n",
              "      <td>833</td>\n",
              "      <td>5</td>\n",
              "    </tr>\n",
              "    <tr>\n",
              "      <th>7575</th>\n",
              "      <td>20200201</td>\n",
              "      <td>14</td>\n",
              "      <td>101</td>\n",
              "      <td>105</td>\n",
              "      <td>752</td>\n",
              "      <td>5</td>\n",
              "    </tr>\n",
              "    <tr>\n",
              "      <th>7576</th>\n",
              "      <td>20200201</td>\n",
              "      <td>14</td>\n",
              "      <td>101</td>\n",
              "      <td>105</td>\n",
              "      <td>832</td>\n",
              "      <td>5</td>\n",
              "    </tr>\n",
              "    <tr>\n",
              "      <th>7577</th>\n",
              "      <td>20200201</td>\n",
              "      <td>14</td>\n",
              "      <td>101</td>\n",
              "      <td>105</td>\n",
              "      <td>869</td>\n",
              "      <td>5</td>\n",
              "    </tr>\n",
              "  </tbody>\n",
              "</table>\n",
              "</div>"
            ],
            "text/plain": [
              "          집계일자  집계시  출발영업소코드  도착영업소코드  통행시간  요일\n",
              "7573  20200201   14      101      105   800   5\n",
              "7574  20200201   14      101      105   833   5\n",
              "7575  20200201   14      101      105   752   5\n",
              "7576  20200201   14      101      105   832   5\n",
              "7577  20200201   14      101      105   869   5"
            ]
          },
          "metadata": {
            "tags": []
          },
          "execution_count": 56
        }
      ]
    },
    {
      "cell_type": "code",
      "metadata": {
        "colab": {
          "base_uri": "https://localhost:8080/"
        },
        "id": "WiozO1k4sMn2",
        "outputId": "6907d2b3-51fc-4d33-e997-0878dfafc36b"
      },
      "source": [
        "start_from_101_to_140.dtypes"
      ],
      "execution_count": 57,
      "outputs": [
        {
          "output_type": "execute_result",
          "data": {
            "text/plain": [
              "집계일자       int64\n",
              "집계시        int64\n",
              "출발영업소코드    int64\n",
              "도착영업소코드    int64\n",
              "통행시간       int64\n",
              "요일         int64\n",
              "dtype: object"
            ]
          },
          "metadata": {
            "tags": []
          },
          "execution_count": 57
        }
      ]
    },
    {
      "cell_type": "markdown",
      "metadata": {
        "id": "N3CsYQJ1G9J5"
      },
      "source": [
        "#6. Sort & Group Data"
      ]
    },
    {
      "cell_type": "code",
      "metadata": {
        "colab": {
          "base_uri": "https://localhost:8080/",
          "height": 419
        },
        "id": "BDmaEPV3HBgd",
        "outputId": "34b730b4-5e21-4fb8-89a8-ae5e3453df77"
      },
      "source": [
        "start_from_101_to_140.sort_values(by=['통행시간'])"
      ],
      "execution_count": null,
      "outputs": [
        {
          "output_type": "execute_result",
          "data": {
            "text/html": [
              "<div>\n",
              "<style scoped>\n",
              "    .dataframe tbody tr th:only-of-type {\n",
              "        vertical-align: middle;\n",
              "    }\n",
              "\n",
              "    .dataframe tbody tr th {\n",
              "        vertical-align: top;\n",
              "    }\n",
              "\n",
              "    .dataframe thead th {\n",
              "        text-align: right;\n",
              "    }\n",
              "</style>\n",
              "<table border=\"1\" class=\"dataframe\">\n",
              "  <thead>\n",
              "    <tr style=\"text-align: right;\">\n",
              "      <th></th>\n",
              "      <th>집계일자</th>\n",
              "      <th>집계시</th>\n",
              "      <th>출발영업소코드</th>\n",
              "      <th>도착영업소코드</th>\n",
              "      <th>통행시간</th>\n",
              "      <th>요일</th>\n",
              "    </tr>\n",
              "  </thead>\n",
              "  <tbody>\n",
              "    <tr>\n",
              "      <th>10834703</th>\n",
              "      <td>20200316</td>\n",
              "      <td>0</td>\n",
              "      <td>101</td>\n",
              "      <td>105</td>\n",
              "      <td>561</td>\n",
              "      <td>0</td>\n",
              "    </tr>\n",
              "    <tr>\n",
              "      <th>10829704</th>\n",
              "      <td>20200316</td>\n",
              "      <td>2</td>\n",
              "      <td>101</td>\n",
              "      <td>105</td>\n",
              "      <td>562</td>\n",
              "      <td>0</td>\n",
              "    </tr>\n",
              "    <tr>\n",
              "      <th>10834708</th>\n",
              "      <td>20200316</td>\n",
              "      <td>1</td>\n",
              "      <td>101</td>\n",
              "      <td>105</td>\n",
              "      <td>563</td>\n",
              "      <td>0</td>\n",
              "    </tr>\n",
              "    <tr>\n",
              "      <th>13149579</th>\n",
              "      <td>20200319</td>\n",
              "      <td>0</td>\n",
              "      <td>101</td>\n",
              "      <td>105</td>\n",
              "      <td>564</td>\n",
              "      <td>3</td>\n",
              "    </tr>\n",
              "    <tr>\n",
              "      <th>13150503</th>\n",
              "      <td>20200319</td>\n",
              "      <td>1</td>\n",
              "      <td>101</td>\n",
              "      <td>105</td>\n",
              "      <td>568</td>\n",
              "      <td>3</td>\n",
              "    </tr>\n",
              "    <tr>\n",
              "      <th>...</th>\n",
              "      <td>...</td>\n",
              "      <td>...</td>\n",
              "      <td>...</td>\n",
              "      <td>...</td>\n",
              "      <td>...</td>\n",
              "      <td>...</td>\n",
              "    </tr>\n",
              "    <tr>\n",
              "      <th>15229601</th>\n",
              "      <td>20200320</td>\n",
              "      <td>5</td>\n",
              "      <td>101</td>\n",
              "      <td>140</td>\n",
              "      <td>33317</td>\n",
              "      <td>4</td>\n",
              "    </tr>\n",
              "    <tr>\n",
              "      <th>11183911</th>\n",
              "      <td>20200305</td>\n",
              "      <td>6</td>\n",
              "      <td>101</td>\n",
              "      <td>135</td>\n",
              "      <td>33939</td>\n",
              "      <td>3</td>\n",
              "    </tr>\n",
              "    <tr>\n",
              "      <th>14178791</th>\n",
              "      <td>20200320</td>\n",
              "      <td>4</td>\n",
              "      <td>101</td>\n",
              "      <td>140</td>\n",
              "      <td>34689</td>\n",
              "      <td>4</td>\n",
              "    </tr>\n",
              "    <tr>\n",
              "      <th>2652834</th>\n",
              "      <td>20200305</td>\n",
              "      <td>5</td>\n",
              "      <td>101</td>\n",
              "      <td>135</td>\n",
              "      <td>35389</td>\n",
              "      <td>3</td>\n",
              "    </tr>\n",
              "    <tr>\n",
              "      <th>14178624</th>\n",
              "      <td>20200320</td>\n",
              "      <td>3</td>\n",
              "      <td>101</td>\n",
              "      <td>140</td>\n",
              "      <td>40466</td>\n",
              "      <td>4</td>\n",
              "    </tr>\n",
              "  </tbody>\n",
              "</table>\n",
              "<p>12711 rows × 6 columns</p>\n",
              "</div>"
            ],
            "text/plain": [
              "              집계일자  집계시  출발영업소코드  도착영업소코드   통행시간  요일\n",
              "10834703  20200316    0      101      105    561   0\n",
              "10829704  20200316    2      101      105    562   0\n",
              "10834708  20200316    1      101      105    563   0\n",
              "13149579  20200319    0      101      105    564   3\n",
              "13150503  20200319    1      101      105    568   3\n",
              "...            ...  ...      ...      ...    ...  ..\n",
              "15229601  20200320    5      101      140  33317   4\n",
              "11183911  20200305    6      101      135  33939   3\n",
              "14178791  20200320    4      101      140  34689   4\n",
              "2652834   20200305    5      101      135  35389   3\n",
              "14178624  20200320    3      101      140  40466   4\n",
              "\n",
              "[12711 rows x 6 columns]"
            ]
          },
          "metadata": {
            "tags": []
          },
          "execution_count": 50
        }
      ]
    },
    {
      "cell_type": "code",
      "metadata": {
        "colab": {
          "base_uri": "https://localhost:8080/",
          "height": 419
        },
        "id": "6rkJqvpTHjuE",
        "outputId": "2dd330eb-35e3-491d-a591-730ef806d436"
      },
      "source": [
        "start_from_101_to_140.sort_values(by=['통행시간'], ascending=True)"
      ],
      "execution_count": null,
      "outputs": [
        {
          "output_type": "execute_result",
          "data": {
            "text/html": [
              "<div>\n",
              "<style scoped>\n",
              "    .dataframe tbody tr th:only-of-type {\n",
              "        vertical-align: middle;\n",
              "    }\n",
              "\n",
              "    .dataframe tbody tr th {\n",
              "        vertical-align: top;\n",
              "    }\n",
              "\n",
              "    .dataframe thead th {\n",
              "        text-align: right;\n",
              "    }\n",
              "</style>\n",
              "<table border=\"1\" class=\"dataframe\">\n",
              "  <thead>\n",
              "    <tr style=\"text-align: right;\">\n",
              "      <th></th>\n",
              "      <th>집계일자</th>\n",
              "      <th>집계시</th>\n",
              "      <th>출발영업소코드</th>\n",
              "      <th>도착영업소코드</th>\n",
              "      <th>통행시간</th>\n",
              "      <th>요일</th>\n",
              "    </tr>\n",
              "  </thead>\n",
              "  <tbody>\n",
              "    <tr>\n",
              "      <th>11369088</th>\n",
              "      <td>20200115</td>\n",
              "      <td>1</td>\n",
              "      <td>101</td>\n",
              "      <td>105</td>\n",
              "      <td>582</td>\n",
              "      <td>2</td>\n",
              "    </tr>\n",
              "    <tr>\n",
              "      <th>11380549</th>\n",
              "      <td>20200115</td>\n",
              "      <td>0</td>\n",
              "      <td>101</td>\n",
              "      <td>105</td>\n",
              "      <td>585</td>\n",
              "      <td>2</td>\n",
              "    </tr>\n",
              "    <tr>\n",
              "      <th>21183117</th>\n",
              "      <td>20200127</td>\n",
              "      <td>4</td>\n",
              "      <td>101</td>\n",
              "      <td>105</td>\n",
              "      <td>588</td>\n",
              "      <td>0</td>\n",
              "    </tr>\n",
              "    <tr>\n",
              "      <th>11369401</th>\n",
              "      <td>20200115</td>\n",
              "      <td>2</td>\n",
              "      <td>101</td>\n",
              "      <td>105</td>\n",
              "      <td>588</td>\n",
              "      <td>2</td>\n",
              "    </tr>\n",
              "    <tr>\n",
              "      <th>1101582</th>\n",
              "      <td>20200103</td>\n",
              "      <td>2</td>\n",
              "      <td>101</td>\n",
              "      <td>105</td>\n",
              "      <td>589</td>\n",
              "      <td>4</td>\n",
              "    </tr>\n",
              "    <tr>\n",
              "      <th>...</th>\n",
              "      <td>...</td>\n",
              "      <td>...</td>\n",
              "      <td>...</td>\n",
              "      <td>...</td>\n",
              "      <td>...</td>\n",
              "      <td>...</td>\n",
              "    </tr>\n",
              "    <tr>\n",
              "      <th>21899512</th>\n",
              "      <td>20200128</td>\n",
              "      <td>0</td>\n",
              "      <td>101</td>\n",
              "      <td>135</td>\n",
              "      <td>41632</td>\n",
              "      <td>1</td>\n",
              "    </tr>\n",
              "    <tr>\n",
              "      <th>13006907</th>\n",
              "      <td>20200117</td>\n",
              "      <td>8</td>\n",
              "      <td>101</td>\n",
              "      <td>130</td>\n",
              "      <td>41696</td>\n",
              "      <td>4</td>\n",
              "    </tr>\n",
              "    <tr>\n",
              "      <th>17933952</th>\n",
              "      <td>20200124</td>\n",
              "      <td>7</td>\n",
              "      <td>101</td>\n",
              "      <td>140</td>\n",
              "      <td>41960</td>\n",
              "      <td>4</td>\n",
              "    </tr>\n",
              "    <tr>\n",
              "      <th>12959275</th>\n",
              "      <td>20200117</td>\n",
              "      <td>7</td>\n",
              "      <td>101</td>\n",
              "      <td>130</td>\n",
              "      <td>46925</td>\n",
              "      <td>4</td>\n",
              "    </tr>\n",
              "    <tr>\n",
              "      <th>11851093</th>\n",
              "      <td>20200117</td>\n",
              "      <td>6</td>\n",
              "      <td>101</td>\n",
              "      <td>130</td>\n",
              "      <td>50001</td>\n",
              "      <td>4</td>\n",
              "    </tr>\n",
              "  </tbody>\n",
              "</table>\n",
              "<p>12749 rows × 6 columns</p>\n",
              "</div>"
            ],
            "text/plain": [
              "              집계일자  집계시  출발영업소코드  도착영업소코드   통행시간  요일\n",
              "11369088  20200115    1      101      105    582   2\n",
              "11380549  20200115    0      101      105    585   2\n",
              "21183117  20200127    4      101      105    588   0\n",
              "11369401  20200115    2      101      105    588   2\n",
              "1101582   20200103    2      101      105    589   4\n",
              "...            ...  ...      ...      ...    ...  ..\n",
              "21899512  20200128    0      101      135  41632   1\n",
              "13006907  20200117    8      101      130  41696   4\n",
              "17933952  20200124    7      101      140  41960   4\n",
              "12959275  20200117    7      101      130  46925   4\n",
              "11851093  20200117    6      101      130  50001   4\n",
              "\n",
              "[12749 rows x 6 columns]"
            ]
          },
          "metadata": {
            "tags": []
          },
          "execution_count": 83
        }
      ]
    },
    {
      "cell_type": "code",
      "metadata": {
        "colab": {
          "base_uri": "https://localhost:8080/",
          "height": 419
        },
        "id": "NYc53rOFHp_1",
        "outputId": "f37c3401-add1-4197-d1cf-6323915551f6"
      },
      "source": [
        "start_from_101_to_140.sort_values(by=['통행시간'], ascending=False)"
      ],
      "execution_count": null,
      "outputs": [
        {
          "output_type": "execute_result",
          "data": {
            "text/html": [
              "<div>\n",
              "<style scoped>\n",
              "    .dataframe tbody tr th:only-of-type {\n",
              "        vertical-align: middle;\n",
              "    }\n",
              "\n",
              "    .dataframe tbody tr th {\n",
              "        vertical-align: top;\n",
              "    }\n",
              "\n",
              "    .dataframe thead th {\n",
              "        text-align: right;\n",
              "    }\n",
              "</style>\n",
              "<table border=\"1\" class=\"dataframe\">\n",
              "  <thead>\n",
              "    <tr style=\"text-align: right;\">\n",
              "      <th></th>\n",
              "      <th>집계일자</th>\n",
              "      <th>집계시</th>\n",
              "      <th>출발영업소코드</th>\n",
              "      <th>도착영업소코드</th>\n",
              "      <th>통행시간</th>\n",
              "      <th>요일</th>\n",
              "    </tr>\n",
              "  </thead>\n",
              "  <tbody>\n",
              "    <tr>\n",
              "      <th>11851093</th>\n",
              "      <td>20200117</td>\n",
              "      <td>6</td>\n",
              "      <td>101</td>\n",
              "      <td>130</td>\n",
              "      <td>50001</td>\n",
              "      <td>4</td>\n",
              "    </tr>\n",
              "    <tr>\n",
              "      <th>12959275</th>\n",
              "      <td>20200117</td>\n",
              "      <td>7</td>\n",
              "      <td>101</td>\n",
              "      <td>130</td>\n",
              "      <td>46925</td>\n",
              "      <td>4</td>\n",
              "    </tr>\n",
              "    <tr>\n",
              "      <th>17933952</th>\n",
              "      <td>20200124</td>\n",
              "      <td>7</td>\n",
              "      <td>101</td>\n",
              "      <td>140</td>\n",
              "      <td>41960</td>\n",
              "      <td>4</td>\n",
              "    </tr>\n",
              "    <tr>\n",
              "      <th>13006907</th>\n",
              "      <td>20200117</td>\n",
              "      <td>8</td>\n",
              "      <td>101</td>\n",
              "      <td>130</td>\n",
              "      <td>41696</td>\n",
              "      <td>4</td>\n",
              "    </tr>\n",
              "    <tr>\n",
              "      <th>21899512</th>\n",
              "      <td>20200128</td>\n",
              "      <td>0</td>\n",
              "      <td>101</td>\n",
              "      <td>135</td>\n",
              "      <td>41632</td>\n",
              "      <td>1</td>\n",
              "    </tr>\n",
              "    <tr>\n",
              "      <th>...</th>\n",
              "      <td>...</td>\n",
              "      <td>...</td>\n",
              "      <td>...</td>\n",
              "      <td>...</td>\n",
              "      <td>...</td>\n",
              "      <td>...</td>\n",
              "    </tr>\n",
              "    <tr>\n",
              "      <th>17024590</th>\n",
              "      <td>20200123</td>\n",
              "      <td>3</td>\n",
              "      <td>101</td>\n",
              "      <td>105</td>\n",
              "      <td>589</td>\n",
              "      <td>3</td>\n",
              "    </tr>\n",
              "    <tr>\n",
              "      <th>11369401</th>\n",
              "      <td>20200115</td>\n",
              "      <td>2</td>\n",
              "      <td>101</td>\n",
              "      <td>105</td>\n",
              "      <td>588</td>\n",
              "      <td>2</td>\n",
              "    </tr>\n",
              "    <tr>\n",
              "      <th>21183117</th>\n",
              "      <td>20200127</td>\n",
              "      <td>4</td>\n",
              "      <td>101</td>\n",
              "      <td>105</td>\n",
              "      <td>588</td>\n",
              "      <td>0</td>\n",
              "    </tr>\n",
              "    <tr>\n",
              "      <th>11380549</th>\n",
              "      <td>20200115</td>\n",
              "      <td>0</td>\n",
              "      <td>101</td>\n",
              "      <td>105</td>\n",
              "      <td>585</td>\n",
              "      <td>2</td>\n",
              "    </tr>\n",
              "    <tr>\n",
              "      <th>11369088</th>\n",
              "      <td>20200115</td>\n",
              "      <td>1</td>\n",
              "      <td>101</td>\n",
              "      <td>105</td>\n",
              "      <td>582</td>\n",
              "      <td>2</td>\n",
              "    </tr>\n",
              "  </tbody>\n",
              "</table>\n",
              "<p>12749 rows × 6 columns</p>\n",
              "</div>"
            ],
            "text/plain": [
              "              집계일자  집계시  출발영업소코드  도착영업소코드   통행시간  요일\n",
              "11851093  20200117    6      101      130  50001   4\n",
              "12959275  20200117    7      101      130  46925   4\n",
              "17933952  20200124    7      101      140  41960   4\n",
              "13006907  20200117    8      101      130  41696   4\n",
              "21899512  20200128    0      101      135  41632   1\n",
              "...            ...  ...      ...      ...    ...  ..\n",
              "17024590  20200123    3      101      105    589   3\n",
              "11369401  20200115    2      101      105    588   2\n",
              "21183117  20200127    4      101      105    588   0\n",
              "11380549  20200115    0      101      105    585   2\n",
              "11369088  20200115    1      101      105    582   2\n",
              "\n",
              "[12749 rows x 6 columns]"
            ]
          },
          "metadata": {
            "tags": []
          },
          "execution_count": 84
        }
      ]
    },
    {
      "cell_type": "code",
      "metadata": {
        "colab": {
          "base_uri": "https://localhost:8080/",
          "height": 419
        },
        "id": "RWF-qLIcHwt6",
        "outputId": "7cf15030-b038-4d27-c7a9-d05531476d7c"
      },
      "source": [
        "start_from_101_to_140.sort_values(by=['집계일자', '집계시'])"
      ],
      "execution_count": null,
      "outputs": [
        {
          "output_type": "execute_result",
          "data": {
            "text/html": [
              "<div>\n",
              "<style scoped>\n",
              "    .dataframe tbody tr th:only-of-type {\n",
              "        vertical-align: middle;\n",
              "    }\n",
              "\n",
              "    .dataframe tbody tr th {\n",
              "        vertical-align: top;\n",
              "    }\n",
              "\n",
              "    .dataframe thead th {\n",
              "        text-align: right;\n",
              "    }\n",
              "</style>\n",
              "<table border=\"1\" class=\"dataframe\">\n",
              "  <thead>\n",
              "    <tr style=\"text-align: right;\">\n",
              "      <th></th>\n",
              "      <th>집계일자</th>\n",
              "      <th>집계시</th>\n",
              "      <th>출발영업소코드</th>\n",
              "      <th>도착영업소코드</th>\n",
              "      <th>통행시간</th>\n",
              "      <th>요일</th>\n",
              "    </tr>\n",
              "  </thead>\n",
              "  <tbody>\n",
              "    <tr>\n",
              "      <th>6107</th>\n",
              "      <td>20200101</td>\n",
              "      <td>0</td>\n",
              "      <td>101</td>\n",
              "      <td>105</td>\n",
              "      <td>652</td>\n",
              "      <td>2</td>\n",
              "    </tr>\n",
              "    <tr>\n",
              "      <th>6108</th>\n",
              "      <td>20200101</td>\n",
              "      <td>0</td>\n",
              "      <td>101</td>\n",
              "      <td>105</td>\n",
              "      <td>811</td>\n",
              "      <td>2</td>\n",
              "    </tr>\n",
              "    <tr>\n",
              "      <th>6109</th>\n",
              "      <td>20200101</td>\n",
              "      <td>0</td>\n",
              "      <td>101</td>\n",
              "      <td>105</td>\n",
              "      <td>680</td>\n",
              "      <td>2</td>\n",
              "    </tr>\n",
              "    <tr>\n",
              "      <th>6110</th>\n",
              "      <td>20200101</td>\n",
              "      <td>0</td>\n",
              "      <td>101</td>\n",
              "      <td>105</td>\n",
              "      <td>616</td>\n",
              "      <td>2</td>\n",
              "    </tr>\n",
              "    <tr>\n",
              "      <th>6599</th>\n",
              "      <td>20200101</td>\n",
              "      <td>0</td>\n",
              "      <td>101</td>\n",
              "      <td>110</td>\n",
              "      <td>3319</td>\n",
              "      <td>2</td>\n",
              "    </tr>\n",
              "    <tr>\n",
              "      <th>...</th>\n",
              "      <td>...</td>\n",
              "      <td>...</td>\n",
              "      <td>...</td>\n",
              "      <td>...</td>\n",
              "      <td>...</td>\n",
              "      <td>...</td>\n",
              "    </tr>\n",
              "    <tr>\n",
              "      <th>24692096</th>\n",
              "      <td>20200131</td>\n",
              "      <td>23</td>\n",
              "      <td>101</td>\n",
              "      <td>125</td>\n",
              "      <td>8478</td>\n",
              "      <td>4</td>\n",
              "    </tr>\n",
              "    <tr>\n",
              "      <th>24692317</th>\n",
              "      <td>20200131</td>\n",
              "      <td>23</td>\n",
              "      <td>101</td>\n",
              "      <td>130</td>\n",
              "      <td>9627</td>\n",
              "      <td>4</td>\n",
              "    </tr>\n",
              "    <tr>\n",
              "      <th>24692372</th>\n",
              "      <td>20200131</td>\n",
              "      <td>23</td>\n",
              "      <td>101</td>\n",
              "      <td>135</td>\n",
              "      <td>12911</td>\n",
              "      <td>4</td>\n",
              "    </tr>\n",
              "    <tr>\n",
              "      <th>24692425</th>\n",
              "      <td>20200131</td>\n",
              "      <td>23</td>\n",
              "      <td>101</td>\n",
              "      <td>140</td>\n",
              "      <td>14339</td>\n",
              "      <td>4</td>\n",
              "    </tr>\n",
              "    <tr>\n",
              "      <th>24692426</th>\n",
              "      <td>20200131</td>\n",
              "      <td>23</td>\n",
              "      <td>101</td>\n",
              "      <td>140</td>\n",
              "      <td>13830</td>\n",
              "      <td>4</td>\n",
              "    </tr>\n",
              "  </tbody>\n",
              "</table>\n",
              "<p>12749 rows × 6 columns</p>\n",
              "</div>"
            ],
            "text/plain": [
              "              집계일자  집계시  출발영업소코드  도착영업소코드   통행시간  요일\n",
              "6107      20200101    0      101      105    652   2\n",
              "6108      20200101    0      101      105    811   2\n",
              "6109      20200101    0      101      105    680   2\n",
              "6110      20200101    0      101      105    616   2\n",
              "6599      20200101    0      101      110   3319   2\n",
              "...            ...  ...      ...      ...    ...  ..\n",
              "24692096  20200131   23      101      125   8478   4\n",
              "24692317  20200131   23      101      130   9627   4\n",
              "24692372  20200131   23      101      135  12911   4\n",
              "24692425  20200131   23      101      140  14339   4\n",
              "24692426  20200131   23      101      140  13830   4\n",
              "\n",
              "[12749 rows x 6 columns]"
            ]
          },
          "metadata": {
            "tags": []
          },
          "execution_count": 85
        }
      ]
    },
    {
      "cell_type": "code",
      "metadata": {
        "colab": {
          "base_uri": "https://localhost:8080/",
          "height": 419
        },
        "id": "EJQUiUu4IFh9",
        "outputId": "db791ed8-9590-472c-ff49-c130d6c1f144"
      },
      "source": [
        "start_from_101_to_140.sort_values(by=['집계일자', '집계시'], ascending=False)"
      ],
      "execution_count": null,
      "outputs": [
        {
          "output_type": "execute_result",
          "data": {
            "text/html": [
              "<div>\n",
              "<style scoped>\n",
              "    .dataframe tbody tr th:only-of-type {\n",
              "        vertical-align: middle;\n",
              "    }\n",
              "\n",
              "    .dataframe tbody tr th {\n",
              "        vertical-align: top;\n",
              "    }\n",
              "\n",
              "    .dataframe thead th {\n",
              "        text-align: right;\n",
              "    }\n",
              "</style>\n",
              "<table border=\"1\" class=\"dataframe\">\n",
              "  <thead>\n",
              "    <tr style=\"text-align: right;\">\n",
              "      <th></th>\n",
              "      <th>집계일자</th>\n",
              "      <th>집계시</th>\n",
              "      <th>출발영업소코드</th>\n",
              "      <th>도착영업소코드</th>\n",
              "      <th>통행시간</th>\n",
              "      <th>요일</th>\n",
              "    </tr>\n",
              "  </thead>\n",
              "  <tbody>\n",
              "    <tr>\n",
              "      <th>24690951</th>\n",
              "      <td>20200131</td>\n",
              "      <td>23</td>\n",
              "      <td>101</td>\n",
              "      <td>105</td>\n",
              "      <td>871</td>\n",
              "      <td>4</td>\n",
              "    </tr>\n",
              "    <tr>\n",
              "      <th>24690952</th>\n",
              "      <td>20200131</td>\n",
              "      <td>23</td>\n",
              "      <td>101</td>\n",
              "      <td>105</td>\n",
              "      <td>857</td>\n",
              "      <td>4</td>\n",
              "    </tr>\n",
              "    <tr>\n",
              "      <th>24690953</th>\n",
              "      <td>20200131</td>\n",
              "      <td>23</td>\n",
              "      <td>101</td>\n",
              "      <td>105</td>\n",
              "      <td>736</td>\n",
              "      <td>4</td>\n",
              "    </tr>\n",
              "    <tr>\n",
              "      <th>24690954</th>\n",
              "      <td>20200131</td>\n",
              "      <td>23</td>\n",
              "      <td>101</td>\n",
              "      <td>105</td>\n",
              "      <td>768</td>\n",
              "      <td>4</td>\n",
              "    </tr>\n",
              "    <tr>\n",
              "      <th>24690955</th>\n",
              "      <td>20200131</td>\n",
              "      <td>23</td>\n",
              "      <td>101</td>\n",
              "      <td>105</td>\n",
              "      <td>916</td>\n",
              "      <td>4</td>\n",
              "    </tr>\n",
              "    <tr>\n",
              "      <th>...</th>\n",
              "      <td>...</td>\n",
              "      <td>...</td>\n",
              "      <td>...</td>\n",
              "      <td>...</td>\n",
              "      <td>...</td>\n",
              "      <td>...</td>\n",
              "    </tr>\n",
              "    <tr>\n",
              "      <th>6599</th>\n",
              "      <td>20200101</td>\n",
              "      <td>0</td>\n",
              "      <td>101</td>\n",
              "      <td>110</td>\n",
              "      <td>3319</td>\n",
              "      <td>2</td>\n",
              "    </tr>\n",
              "    <tr>\n",
              "      <th>6600</th>\n",
              "      <td>20200101</td>\n",
              "      <td>0</td>\n",
              "      <td>101</td>\n",
              "      <td>110</td>\n",
              "      <td>3263</td>\n",
              "      <td>2</td>\n",
              "    </tr>\n",
              "    <tr>\n",
              "      <th>6825</th>\n",
              "      <td>20200101</td>\n",
              "      <td>0</td>\n",
              "      <td>101</td>\n",
              "      <td>115</td>\n",
              "      <td>5718</td>\n",
              "      <td>2</td>\n",
              "    </tr>\n",
              "    <tr>\n",
              "      <th>6826</th>\n",
              "      <td>20200101</td>\n",
              "      <td>0</td>\n",
              "      <td>101</td>\n",
              "      <td>115</td>\n",
              "      <td>9284</td>\n",
              "      <td>2</td>\n",
              "    </tr>\n",
              "    <tr>\n",
              "      <th>7271</th>\n",
              "      <td>20200101</td>\n",
              "      <td>0</td>\n",
              "      <td>101</td>\n",
              "      <td>135</td>\n",
              "      <td>13637</td>\n",
              "      <td>2</td>\n",
              "    </tr>\n",
              "  </tbody>\n",
              "</table>\n",
              "<p>12749 rows × 6 columns</p>\n",
              "</div>"
            ],
            "text/plain": [
              "              집계일자  집계시  출발영업소코드  도착영업소코드   통행시간  요일\n",
              "24690951  20200131   23      101      105    871   4\n",
              "24690952  20200131   23      101      105    857   4\n",
              "24690953  20200131   23      101      105    736   4\n",
              "24690954  20200131   23      101      105    768   4\n",
              "24690955  20200131   23      101      105    916   4\n",
              "...            ...  ...      ...      ...    ...  ..\n",
              "6599      20200101    0      101      110   3319   2\n",
              "6600      20200101    0      101      110   3263   2\n",
              "6825      20200101    0      101      115   5718   2\n",
              "6826      20200101    0      101      115   9284   2\n",
              "7271      20200101    0      101      135  13637   2\n",
              "\n",
              "[12749 rows x 6 columns]"
            ]
          },
          "metadata": {
            "tags": []
          },
          "execution_count": 86
        }
      ]
    },
    {
      "cell_type": "code",
      "metadata": {
        "colab": {
          "base_uri": "https://localhost:8080/",
          "height": 328
        },
        "id": "blnChfsSIUeI",
        "outputId": "51fd7b23-2921-4e44-a37a-2092cece4bc4"
      },
      "source": [
        "start_from_101_to_140.groupby(start_from_101_to_140['도착영업소코드']).mean()"
      ],
      "execution_count": null,
      "outputs": [
        {
          "output_type": "execute_result",
          "data": {
            "text/html": [
              "<div>\n",
              "<style scoped>\n",
              "    .dataframe tbody tr th:only-of-type {\n",
              "        vertical-align: middle;\n",
              "    }\n",
              "\n",
              "    .dataframe tbody tr th {\n",
              "        vertical-align: top;\n",
              "    }\n",
              "\n",
              "    .dataframe thead th {\n",
              "        text-align: right;\n",
              "    }\n",
              "</style>\n",
              "<table border=\"1\" class=\"dataframe\">\n",
              "  <thead>\n",
              "    <tr style=\"text-align: right;\">\n",
              "      <th></th>\n",
              "      <th>집계일자</th>\n",
              "      <th>집계시</th>\n",
              "      <th>출발영업소코드</th>\n",
              "      <th>통행시간</th>\n",
              "      <th>요일</th>\n",
              "    </tr>\n",
              "    <tr>\n",
              "      <th>도착영업소코드</th>\n",
              "      <th></th>\n",
              "      <th></th>\n",
              "      <th></th>\n",
              "      <th></th>\n",
              "      <th></th>\n",
              "    </tr>\n",
              "  </thead>\n",
              "  <tbody>\n",
              "    <tr>\n",
              "      <th>105</th>\n",
              "      <td>2.020012e+07</td>\n",
              "      <td>11.392094</td>\n",
              "      <td>101.0</td>\n",
              "      <td>872.217530</td>\n",
              "      <td>2.911613</td>\n",
              "    </tr>\n",
              "    <tr>\n",
              "      <th>110</th>\n",
              "      <td>2.020012e+07</td>\n",
              "      <td>11.509942</td>\n",
              "      <td>101.0</td>\n",
              "      <td>3605.229955</td>\n",
              "      <td>2.837075</td>\n",
              "    </tr>\n",
              "    <tr>\n",
              "      <th>115</th>\n",
              "      <td>2.020012e+07</td>\n",
              "      <td>11.802409</td>\n",
              "      <td>101.0</td>\n",
              "      <td>5826.651204</td>\n",
              "      <td>2.982159</td>\n",
              "    </tr>\n",
              "    <tr>\n",
              "      <th>120</th>\n",
              "      <td>2.020012e+07</td>\n",
              "      <td>12.654275</td>\n",
              "      <td>101.0</td>\n",
              "      <td>8498.178439</td>\n",
              "      <td>3.243494</td>\n",
              "    </tr>\n",
              "    <tr>\n",
              "      <th>125</th>\n",
              "      <td>2.020012e+07</td>\n",
              "      <td>12.976471</td>\n",
              "      <td>101.0</td>\n",
              "      <td>9688.117647</td>\n",
              "      <td>2.934454</td>\n",
              "    </tr>\n",
              "    <tr>\n",
              "      <th>130</th>\n",
              "      <td>2.020012e+07</td>\n",
              "      <td>12.795115</td>\n",
              "      <td>101.0</td>\n",
              "      <td>9661.925373</td>\n",
              "      <td>2.989145</td>\n",
              "    </tr>\n",
              "    <tr>\n",
              "      <th>135</th>\n",
              "      <td>2.020012e+07</td>\n",
              "      <td>12.317391</td>\n",
              "      <td>101.0</td>\n",
              "      <td>13859.042029</td>\n",
              "      <td>3.113043</td>\n",
              "    </tr>\n",
              "    <tr>\n",
              "      <th>140</th>\n",
              "      <td>2.020012e+07</td>\n",
              "      <td>12.136243</td>\n",
              "      <td>101.0</td>\n",
              "      <td>16407.931217</td>\n",
              "      <td>3.010582</td>\n",
              "    </tr>\n",
              "  </tbody>\n",
              "</table>\n",
              "</div>"
            ],
            "text/plain": [
              "                 집계일자        집계시  출발영업소코드          통행시간        요일\n",
              "도착영업소코드                                                          \n",
              "105      2.020012e+07  11.392094    101.0    872.217530  2.911613\n",
              "110      2.020012e+07  11.509942    101.0   3605.229955  2.837075\n",
              "115      2.020012e+07  11.802409    101.0   5826.651204  2.982159\n",
              "120      2.020012e+07  12.654275    101.0   8498.178439  3.243494\n",
              "125      2.020012e+07  12.976471    101.0   9688.117647  2.934454\n",
              "130      2.020012e+07  12.795115    101.0   9661.925373  2.989145\n",
              "135      2.020012e+07  12.317391    101.0  13859.042029  3.113043\n",
              "140      2.020012e+07  12.136243    101.0  16407.931217  3.010582"
            ]
          },
          "metadata": {
            "tags": []
          },
          "execution_count": 88
        }
      ]
    },
    {
      "cell_type": "code",
      "metadata": {
        "colab": {
          "base_uri": "https://localhost:8080/"
        },
        "id": "faQAAhf0IuA9",
        "outputId": "3a073b5a-70ad-45bf-b33a-c1c7954805a5"
      },
      "source": [
        "start_from_101_to_140['통행시간'].groupby(start_from_101_to_140['도착영업소코드']).mean()"
      ],
      "execution_count": null,
      "outputs": [
        {
          "output_type": "execute_result",
          "data": {
            "text/plain": [
              "도착영업소코드\n",
              "105      872.217530\n",
              "110     3605.229955\n",
              "115     5826.651204\n",
              "120     8498.178439\n",
              "125     9688.117647\n",
              "130     9661.925373\n",
              "135    13859.042029\n",
              "140    16407.931217\n",
              "Name: 통행시간, dtype: float64"
            ]
          },
          "metadata": {
            "tags": []
          },
          "execution_count": 89
        }
      ]
    },
    {
      "cell_type": "code",
      "metadata": {
        "id": "XmAeq359JM1q"
      },
      "source": [
        "groupby_destination = start_from_101_to_140['통행시간'].groupby(start_from_101_to_140['도착영업소코드'])"
      ],
      "execution_count": null,
      "outputs": []
    },
    {
      "cell_type": "code",
      "metadata": {
        "colab": {
          "base_uri": "https://localhost:8080/"
        },
        "id": "F7qllhf6JbxB",
        "outputId": "0151d623-c21a-4501-a0fc-005ca90ff7d2"
      },
      "source": [
        "groupby_destination.size()"
      ],
      "execution_count": null,
      "outputs": [
        {
          "output_type": "execute_result",
          "data": {
            "text/plain": [
              "도착영업소코드\n",
              "105    4073\n",
              "110    3118\n",
              "115    2242\n",
              "120     538\n",
              "125     595\n",
              "130     737\n",
              "135     690\n",
              "140     756\n",
              "Name: 통행시간, dtype: int64"
            ]
          },
          "metadata": {
            "tags": []
          },
          "execution_count": 91
        }
      ]
    },
    {
      "cell_type": "code",
      "metadata": {
        "colab": {
          "base_uri": "https://localhost:8080/"
        },
        "id": "l4USGDLPJiA3",
        "outputId": "e5e08ba4-61f8-4631-ff44-dbb83e656572"
      },
      "source": [
        "groupby_destination.sum()"
      ],
      "execution_count": null,
      "outputs": [
        {
          "output_type": "execute_result",
          "data": {
            "text/plain": [
              "도착영업소코드\n",
              "105     3552542\n",
              "110    11241107\n",
              "115    13063352\n",
              "120     4572020\n",
              "125     5764430\n",
              "130     7120839\n",
              "135     9562739\n",
              "140    12404396\n",
              "Name: 통행시간, dtype: int64"
            ]
          },
          "metadata": {
            "tags": []
          },
          "execution_count": 92
        }
      ]
    },
    {
      "cell_type": "code",
      "metadata": {
        "colab": {
          "base_uri": "https://localhost:8080/"
        },
        "id": "svyUqArRJmOK",
        "outputId": "9b61b3b4-b445-43fc-9d61-00a3d223b3d6"
      },
      "source": [
        "groupby_destination.mean()"
      ],
      "execution_count": null,
      "outputs": [
        {
          "output_type": "execute_result",
          "data": {
            "text/plain": [
              "도착영업소코드\n",
              "105      872.217530\n",
              "110     3605.229955\n",
              "115     5826.651204\n",
              "120     8498.178439\n",
              "125     9688.117647\n",
              "130     9661.925373\n",
              "135    13859.042029\n",
              "140    16407.931217\n",
              "Name: 통행시간, dtype: float64"
            ]
          },
          "metadata": {
            "tags": []
          },
          "execution_count": 93
        }
      ]
    },
    {
      "cell_type": "code",
      "metadata": {
        "colab": {
          "base_uri": "https://localhost:8080/"
        },
        "id": "WE5lQVjGJqUU",
        "outputId": "e1b9e88e-03e6-4569-c7ec-eb1ac55c3eda"
      },
      "source": [
        "groupby_destination.max()"
      ],
      "execution_count": null,
      "outputs": [
        {
          "output_type": "execute_result",
          "data": {
            "text/plain": [
              "도착영업소코드\n",
              "105     2609\n",
              "110     9940\n",
              "115    14695\n",
              "120    28954\n",
              "125    21484\n",
              "130    50001\n",
              "135    41632\n",
              "140    41960\n",
              "Name: 통행시간, dtype: int64"
            ]
          },
          "metadata": {
            "tags": []
          },
          "execution_count": 94
        }
      ]
    },
    {
      "cell_type": "code",
      "metadata": {
        "colab": {
          "base_uri": "https://localhost:8080/"
        },
        "id": "HkjtYPJ3JzaJ",
        "outputId": "9a567b95-5b29-4fb5-b172-fd9c22adc49d"
      },
      "source": [
        "groupby_destination.min()"
      ],
      "execution_count": null,
      "outputs": [
        {
          "output_type": "execute_result",
          "data": {
            "text/plain": [
              "도착영업소코드\n",
              "105      582\n",
              "110     2082\n",
              "115     4123\n",
              "120     5619\n",
              "125     6904\n",
              "130     6645\n",
              "135     9492\n",
              "140    12340\n",
              "Name: 통행시간, dtype: int64"
            ]
          },
          "metadata": {
            "tags": []
          },
          "execution_count": 95
        }
      ]
    },
    {
      "cell_type": "markdown",
      "metadata": {
        "id": "jbCzVvgnRLhC"
      },
      "source": [
        "#7. Save Data"
      ]
    },
    {
      "cell_type": "code",
      "metadata": {
        "id": "hn-HQDrhQ1gE"
      },
      "source": [
        "output = \"/gdrive/My Drive/data/data_202002.csv\"\n",
        "start_from_101_to_140.to_csv(output, index=None, header=True)"
      ],
      "execution_count": 58,
      "outputs": []
    },
    {
      "cell_type": "code",
      "metadata": {
        "colab": {
          "base_uri": "https://localhost:8080/"
        },
        "id": "SW6NIDbORaZN",
        "outputId": "746d7bb4-29c1-475f-c1bf-61e3d27d7d3c"
      },
      "source": [
        "!ls -al \"/gdrive/My Drive/data/data_202002.csv\""
      ],
      "execution_count": 59,
      "outputs": [
        {
          "output_type": "stream",
          "text": [
            "-rw------- 1 root root 314682 May 14 08:34 '/gdrive/My Drive/data/data_202002.csv'\n"
          ],
          "name": "stdout"
        }
      ]
    },
    {
      "cell_type": "markdown",
      "metadata": {
        "id": "VfzeWSDjUSVD"
      },
      "source": [
        "#8. Merge Data"
      ]
    },
    {
      "cell_type": "code",
      "metadata": {
        "id": "vnuTKklGUVk7",
        "colab": {
          "base_uri": "https://localhost:8080/",
          "height": 430
        },
        "outputId": "6192894f-970a-4c8a-8486-38783a32f01a"
      },
      "source": [
        "data_202001 = pd.read_csv(\"/gdrive/My Drive/data/data_202001.csv\")\n",
        "data_202002 = pd.read_csv(\"/gdrive/My Drive/data/data_202002.csv\")\n",
        "data_202003 = pd.read_csv(\"/gdrive/My Drive/data/data_202003.csv\")"
      ],
      "execution_count": 60,
      "outputs": [
        {
          "output_type": "error",
          "ename": "FileNotFoundError",
          "evalue": "ignored",
          "traceback": [
            "\u001b[0;31m---------------------------------------------------------------------------\u001b[0m",
            "\u001b[0;31mFileNotFoundError\u001b[0m                         Traceback (most recent call last)",
            "\u001b[0;32m<ipython-input-60-bbd9e5fd0807>\u001b[0m in \u001b[0;36m<module>\u001b[0;34m()\u001b[0m\n\u001b[1;32m      1\u001b[0m \u001b[0mdata_202001\u001b[0m \u001b[0;34m=\u001b[0m \u001b[0mpd\u001b[0m\u001b[0;34m.\u001b[0m\u001b[0mread_csv\u001b[0m\u001b[0;34m(\u001b[0m\u001b[0;34m\"/gdrive/My Drive/data/data_202001.csv\"\u001b[0m\u001b[0;34m)\u001b[0m\u001b[0;34m\u001b[0m\u001b[0;34m\u001b[0m\u001b[0m\n\u001b[1;32m      2\u001b[0m \u001b[0mdata_202002\u001b[0m \u001b[0;34m=\u001b[0m \u001b[0mpd\u001b[0m\u001b[0;34m.\u001b[0m\u001b[0mread_csv\u001b[0m\u001b[0;34m(\u001b[0m\u001b[0;34m\"/gdrive/My Drive/data/data_202002.csv\"\u001b[0m\u001b[0;34m)\u001b[0m\u001b[0;34m\u001b[0m\u001b[0;34m\u001b[0m\u001b[0m\n\u001b[0;32m----> 3\u001b[0;31m \u001b[0mdata_202003\u001b[0m \u001b[0;34m=\u001b[0m \u001b[0mpd\u001b[0m\u001b[0;34m.\u001b[0m\u001b[0mread_csv\u001b[0m\u001b[0;34m(\u001b[0m\u001b[0;34m\"/gdrive/My Drive/data/data_202003.csv\"\u001b[0m\u001b[0;34m)\u001b[0m\u001b[0;34m\u001b[0m\u001b[0;34m\u001b[0m\u001b[0m\n\u001b[0m",
            "\u001b[0;32m/usr/local/lib/python3.7/dist-packages/pandas/io/parsers.py\u001b[0m in \u001b[0;36mread_csv\u001b[0;34m(filepath_or_buffer, sep, delimiter, header, names, index_col, usecols, squeeze, prefix, mangle_dupe_cols, dtype, engine, converters, true_values, false_values, skipinitialspace, skiprows, skipfooter, nrows, na_values, keep_default_na, na_filter, verbose, skip_blank_lines, parse_dates, infer_datetime_format, keep_date_col, date_parser, dayfirst, cache_dates, iterator, chunksize, compression, thousands, decimal, lineterminator, quotechar, quoting, doublequote, escapechar, comment, encoding, dialect, error_bad_lines, warn_bad_lines, delim_whitespace, low_memory, memory_map, float_precision)\u001b[0m\n\u001b[1;32m    686\u001b[0m     )\n\u001b[1;32m    687\u001b[0m \u001b[0;34m\u001b[0m\u001b[0m\n\u001b[0;32m--> 688\u001b[0;31m     \u001b[0;32mreturn\u001b[0m \u001b[0m_read\u001b[0m\u001b[0;34m(\u001b[0m\u001b[0mfilepath_or_buffer\u001b[0m\u001b[0;34m,\u001b[0m \u001b[0mkwds\u001b[0m\u001b[0;34m)\u001b[0m\u001b[0;34m\u001b[0m\u001b[0;34m\u001b[0m\u001b[0m\n\u001b[0m\u001b[1;32m    689\u001b[0m \u001b[0;34m\u001b[0m\u001b[0m\n\u001b[1;32m    690\u001b[0m \u001b[0;34m\u001b[0m\u001b[0m\n",
            "\u001b[0;32m/usr/local/lib/python3.7/dist-packages/pandas/io/parsers.py\u001b[0m in \u001b[0;36m_read\u001b[0;34m(filepath_or_buffer, kwds)\u001b[0m\n\u001b[1;32m    452\u001b[0m \u001b[0;34m\u001b[0m\u001b[0m\n\u001b[1;32m    453\u001b[0m     \u001b[0;31m# Create the parser.\u001b[0m\u001b[0;34m\u001b[0m\u001b[0;34m\u001b[0m\u001b[0;34m\u001b[0m\u001b[0m\n\u001b[0;32m--> 454\u001b[0;31m     \u001b[0mparser\u001b[0m \u001b[0;34m=\u001b[0m \u001b[0mTextFileReader\u001b[0m\u001b[0;34m(\u001b[0m\u001b[0mfp_or_buf\u001b[0m\u001b[0;34m,\u001b[0m \u001b[0;34m**\u001b[0m\u001b[0mkwds\u001b[0m\u001b[0;34m)\u001b[0m\u001b[0;34m\u001b[0m\u001b[0;34m\u001b[0m\u001b[0m\n\u001b[0m\u001b[1;32m    455\u001b[0m \u001b[0;34m\u001b[0m\u001b[0m\n\u001b[1;32m    456\u001b[0m     \u001b[0;32mif\u001b[0m \u001b[0mchunksize\u001b[0m \u001b[0;32mor\u001b[0m \u001b[0miterator\u001b[0m\u001b[0;34m:\u001b[0m\u001b[0;34m\u001b[0m\u001b[0;34m\u001b[0m\u001b[0m\n",
            "\u001b[0;32m/usr/local/lib/python3.7/dist-packages/pandas/io/parsers.py\u001b[0m in \u001b[0;36m__init__\u001b[0;34m(self, f, engine, **kwds)\u001b[0m\n\u001b[1;32m    946\u001b[0m             \u001b[0mself\u001b[0m\u001b[0;34m.\u001b[0m\u001b[0moptions\u001b[0m\u001b[0;34m[\u001b[0m\u001b[0;34m\"has_index_names\"\u001b[0m\u001b[0;34m]\u001b[0m \u001b[0;34m=\u001b[0m \u001b[0mkwds\u001b[0m\u001b[0;34m[\u001b[0m\u001b[0;34m\"has_index_names\"\u001b[0m\u001b[0;34m]\u001b[0m\u001b[0;34m\u001b[0m\u001b[0;34m\u001b[0m\u001b[0m\n\u001b[1;32m    947\u001b[0m \u001b[0;34m\u001b[0m\u001b[0m\n\u001b[0;32m--> 948\u001b[0;31m         \u001b[0mself\u001b[0m\u001b[0;34m.\u001b[0m\u001b[0m_make_engine\u001b[0m\u001b[0;34m(\u001b[0m\u001b[0mself\u001b[0m\u001b[0;34m.\u001b[0m\u001b[0mengine\u001b[0m\u001b[0;34m)\u001b[0m\u001b[0;34m\u001b[0m\u001b[0;34m\u001b[0m\u001b[0m\n\u001b[0m\u001b[1;32m    949\u001b[0m \u001b[0;34m\u001b[0m\u001b[0m\n\u001b[1;32m    950\u001b[0m     \u001b[0;32mdef\u001b[0m \u001b[0mclose\u001b[0m\u001b[0;34m(\u001b[0m\u001b[0mself\u001b[0m\u001b[0;34m)\u001b[0m\u001b[0;34m:\u001b[0m\u001b[0;34m\u001b[0m\u001b[0;34m\u001b[0m\u001b[0m\n",
            "\u001b[0;32m/usr/local/lib/python3.7/dist-packages/pandas/io/parsers.py\u001b[0m in \u001b[0;36m_make_engine\u001b[0;34m(self, engine)\u001b[0m\n\u001b[1;32m   1178\u001b[0m     \u001b[0;32mdef\u001b[0m \u001b[0m_make_engine\u001b[0m\u001b[0;34m(\u001b[0m\u001b[0mself\u001b[0m\u001b[0;34m,\u001b[0m \u001b[0mengine\u001b[0m\u001b[0;34m=\u001b[0m\u001b[0;34m\"c\"\u001b[0m\u001b[0;34m)\u001b[0m\u001b[0;34m:\u001b[0m\u001b[0;34m\u001b[0m\u001b[0;34m\u001b[0m\u001b[0m\n\u001b[1;32m   1179\u001b[0m         \u001b[0;32mif\u001b[0m \u001b[0mengine\u001b[0m \u001b[0;34m==\u001b[0m \u001b[0;34m\"c\"\u001b[0m\u001b[0;34m:\u001b[0m\u001b[0;34m\u001b[0m\u001b[0;34m\u001b[0m\u001b[0m\n\u001b[0;32m-> 1180\u001b[0;31m             \u001b[0mself\u001b[0m\u001b[0;34m.\u001b[0m\u001b[0m_engine\u001b[0m \u001b[0;34m=\u001b[0m \u001b[0mCParserWrapper\u001b[0m\u001b[0;34m(\u001b[0m\u001b[0mself\u001b[0m\u001b[0;34m.\u001b[0m\u001b[0mf\u001b[0m\u001b[0;34m,\u001b[0m \u001b[0;34m**\u001b[0m\u001b[0mself\u001b[0m\u001b[0;34m.\u001b[0m\u001b[0moptions\u001b[0m\u001b[0;34m)\u001b[0m\u001b[0;34m\u001b[0m\u001b[0;34m\u001b[0m\u001b[0m\n\u001b[0m\u001b[1;32m   1181\u001b[0m         \u001b[0;32melse\u001b[0m\u001b[0;34m:\u001b[0m\u001b[0;34m\u001b[0m\u001b[0;34m\u001b[0m\u001b[0m\n\u001b[1;32m   1182\u001b[0m             \u001b[0;32mif\u001b[0m \u001b[0mengine\u001b[0m \u001b[0;34m==\u001b[0m \u001b[0;34m\"python\"\u001b[0m\u001b[0;34m:\u001b[0m\u001b[0;34m\u001b[0m\u001b[0;34m\u001b[0m\u001b[0m\n",
            "\u001b[0;32m/usr/local/lib/python3.7/dist-packages/pandas/io/parsers.py\u001b[0m in \u001b[0;36m__init__\u001b[0;34m(self, src, **kwds)\u001b[0m\n\u001b[1;32m   2008\u001b[0m         \u001b[0mkwds\u001b[0m\u001b[0;34m[\u001b[0m\u001b[0;34m\"usecols\"\u001b[0m\u001b[0;34m]\u001b[0m \u001b[0;34m=\u001b[0m \u001b[0mself\u001b[0m\u001b[0;34m.\u001b[0m\u001b[0musecols\u001b[0m\u001b[0;34m\u001b[0m\u001b[0;34m\u001b[0m\u001b[0m\n\u001b[1;32m   2009\u001b[0m \u001b[0;34m\u001b[0m\u001b[0m\n\u001b[0;32m-> 2010\u001b[0;31m         \u001b[0mself\u001b[0m\u001b[0;34m.\u001b[0m\u001b[0m_reader\u001b[0m \u001b[0;34m=\u001b[0m \u001b[0mparsers\u001b[0m\u001b[0;34m.\u001b[0m\u001b[0mTextReader\u001b[0m\u001b[0;34m(\u001b[0m\u001b[0msrc\u001b[0m\u001b[0;34m,\u001b[0m \u001b[0;34m**\u001b[0m\u001b[0mkwds\u001b[0m\u001b[0;34m)\u001b[0m\u001b[0;34m\u001b[0m\u001b[0;34m\u001b[0m\u001b[0m\n\u001b[0m\u001b[1;32m   2011\u001b[0m         \u001b[0mself\u001b[0m\u001b[0;34m.\u001b[0m\u001b[0munnamed_cols\u001b[0m \u001b[0;34m=\u001b[0m \u001b[0mself\u001b[0m\u001b[0;34m.\u001b[0m\u001b[0m_reader\u001b[0m\u001b[0;34m.\u001b[0m\u001b[0munnamed_cols\u001b[0m\u001b[0;34m\u001b[0m\u001b[0;34m\u001b[0m\u001b[0m\n\u001b[1;32m   2012\u001b[0m \u001b[0;34m\u001b[0m\u001b[0m\n",
            "\u001b[0;32mpandas/_libs/parsers.pyx\u001b[0m in \u001b[0;36mpandas._libs.parsers.TextReader.__cinit__\u001b[0;34m()\u001b[0m\n",
            "\u001b[0;32mpandas/_libs/parsers.pyx\u001b[0m in \u001b[0;36mpandas._libs.parsers.TextReader._setup_parser_source\u001b[0;34m()\u001b[0m\n",
            "\u001b[0;31mFileNotFoundError\u001b[0m: [Errno 2] No such file or directory: '/gdrive/My Drive/data/data_202003.csv'"
          ]
        }
      ]
    },
    {
      "cell_type": "code",
      "metadata": {
        "id": "qkDT8v32U0yb"
      },
      "source": [
        "data_2020 = pd.concat([data_202001, data_202002, data_202003], ignore_index=True, sort=False)"
      ],
      "execution_count": null,
      "outputs": []
    },
    {
      "cell_type": "code",
      "metadata": {
        "colab": {
          "base_uri": "https://localhost:8080/",
          "height": 204
        },
        "id": "Q6Cv1NsgVElo",
        "outputId": "774a6a8b-80e3-4225-ab07-972cca1f4472"
      },
      "source": [
        "data_2020.head()"
      ],
      "execution_count": null,
      "outputs": [
        {
          "output_type": "execute_result",
          "data": {
            "text/html": [
              "<div>\n",
              "<style scoped>\n",
              "    .dataframe tbody tr th:only-of-type {\n",
              "        vertical-align: middle;\n",
              "    }\n",
              "\n",
              "    .dataframe tbody tr th {\n",
              "        vertical-align: top;\n",
              "    }\n",
              "\n",
              "    .dataframe thead th {\n",
              "        text-align: right;\n",
              "    }\n",
              "</style>\n",
              "<table border=\"1\" class=\"dataframe\">\n",
              "  <thead>\n",
              "    <tr style=\"text-align: right;\">\n",
              "      <th></th>\n",
              "      <th>집계일자</th>\n",
              "      <th>집계시</th>\n",
              "      <th>출발영업소코드</th>\n",
              "      <th>도착영업소코드</th>\n",
              "      <th>통행시간</th>\n",
              "      <th>요일</th>\n",
              "    </tr>\n",
              "  </thead>\n",
              "  <tbody>\n",
              "    <tr>\n",
              "      <th>0</th>\n",
              "      <td>20200101</td>\n",
              "      <td>4</td>\n",
              "      <td>101</td>\n",
              "      <td>105</td>\n",
              "      <td>637</td>\n",
              "      <td>2</td>\n",
              "    </tr>\n",
              "    <tr>\n",
              "      <th>1</th>\n",
              "      <td>20200101</td>\n",
              "      <td>4</td>\n",
              "      <td>101</td>\n",
              "      <td>105</td>\n",
              "      <td>773</td>\n",
              "      <td>2</td>\n",
              "    </tr>\n",
              "    <tr>\n",
              "      <th>2</th>\n",
              "      <td>20200101</td>\n",
              "      <td>4</td>\n",
              "      <td>101</td>\n",
              "      <td>105</td>\n",
              "      <td>762</td>\n",
              "      <td>2</td>\n",
              "    </tr>\n",
              "    <tr>\n",
              "      <th>3</th>\n",
              "      <td>20200101</td>\n",
              "      <td>4</td>\n",
              "      <td>101</td>\n",
              "      <td>105</td>\n",
              "      <td>746</td>\n",
              "      <td>2</td>\n",
              "    </tr>\n",
              "    <tr>\n",
              "      <th>4</th>\n",
              "      <td>20200101</td>\n",
              "      <td>4</td>\n",
              "      <td>101</td>\n",
              "      <td>105</td>\n",
              "      <td>875</td>\n",
              "      <td>2</td>\n",
              "    </tr>\n",
              "  </tbody>\n",
              "</table>\n",
              "</div>"
            ],
            "text/plain": [
              "       집계일자  집계시  출발영업소코드  도착영업소코드  통행시간  요일\n",
              "0  20200101    4      101      105   637   2\n",
              "1  20200101    4      101      105   773   2\n",
              "2  20200101    4      101      105   762   2\n",
              "3  20200101    4      101      105   746   2\n",
              "4  20200101    4      101      105   875   2"
            ]
          },
          "metadata": {
            "tags": []
          },
          "execution_count": 57
        }
      ]
    },
    {
      "cell_type": "code",
      "metadata": {
        "id": "WAsHIdPsVKGU"
      },
      "source": [
        "data_2020_by_time = pd.concat([data_202001, data_202002, data_202003], ignore_index=True, sort=False).set_index('통행시간')"
      ],
      "execution_count": null,
      "outputs": []
    },
    {
      "cell_type": "code",
      "metadata": {
        "colab": {
          "base_uri": "https://localhost:8080/",
          "height": 235
        },
        "id": "2K6nNOusVUNd",
        "outputId": "90290211-59f3-4f7e-8861-a072b3299cc2"
      },
      "source": [
        "data_2020_by_time.head()"
      ],
      "execution_count": null,
      "outputs": [
        {
          "output_type": "execute_result",
          "data": {
            "text/html": [
              "<div>\n",
              "<style scoped>\n",
              "    .dataframe tbody tr th:only-of-type {\n",
              "        vertical-align: middle;\n",
              "    }\n",
              "\n",
              "    .dataframe tbody tr th {\n",
              "        vertical-align: top;\n",
              "    }\n",
              "\n",
              "    .dataframe thead th {\n",
              "        text-align: right;\n",
              "    }\n",
              "</style>\n",
              "<table border=\"1\" class=\"dataframe\">\n",
              "  <thead>\n",
              "    <tr style=\"text-align: right;\">\n",
              "      <th></th>\n",
              "      <th>집계일자</th>\n",
              "      <th>집계시</th>\n",
              "      <th>출발영업소코드</th>\n",
              "      <th>도착영업소코드</th>\n",
              "      <th>요일</th>\n",
              "    </tr>\n",
              "    <tr>\n",
              "      <th>통행시간</th>\n",
              "      <th></th>\n",
              "      <th></th>\n",
              "      <th></th>\n",
              "      <th></th>\n",
              "      <th></th>\n",
              "    </tr>\n",
              "  </thead>\n",
              "  <tbody>\n",
              "    <tr>\n",
              "      <th>637</th>\n",
              "      <td>20200101</td>\n",
              "      <td>4</td>\n",
              "      <td>101</td>\n",
              "      <td>105</td>\n",
              "      <td>2</td>\n",
              "    </tr>\n",
              "    <tr>\n",
              "      <th>773</th>\n",
              "      <td>20200101</td>\n",
              "      <td>4</td>\n",
              "      <td>101</td>\n",
              "      <td>105</td>\n",
              "      <td>2</td>\n",
              "    </tr>\n",
              "    <tr>\n",
              "      <th>762</th>\n",
              "      <td>20200101</td>\n",
              "      <td>4</td>\n",
              "      <td>101</td>\n",
              "      <td>105</td>\n",
              "      <td>2</td>\n",
              "    </tr>\n",
              "    <tr>\n",
              "      <th>746</th>\n",
              "      <td>20200101</td>\n",
              "      <td>4</td>\n",
              "      <td>101</td>\n",
              "      <td>105</td>\n",
              "      <td>2</td>\n",
              "    </tr>\n",
              "    <tr>\n",
              "      <th>875</th>\n",
              "      <td>20200101</td>\n",
              "      <td>4</td>\n",
              "      <td>101</td>\n",
              "      <td>105</td>\n",
              "      <td>2</td>\n",
              "    </tr>\n",
              "  </tbody>\n",
              "</table>\n",
              "</div>"
            ],
            "text/plain": [
              "          집계일자  집계시  출발영업소코드  도착영업소코드  요일\n",
              "통행시간                                     \n",
              "637   20200101    4      101      105   2\n",
              "773   20200101    4      101      105   2\n",
              "762   20200101    4      101      105   2\n",
              "746   20200101    4      101      105   2\n",
              "875   20200101    4      101      105   2"
            ]
          },
          "metadata": {
            "tags": []
          },
          "execution_count": 59
        }
      ]
    },
    {
      "cell_type": "code",
      "metadata": {
        "id": "jmUFM9DgVd4b"
      },
      "source": [
        "final = \"/gdrive/My Drive/data/data_2020.csv\" \n",
        "data_2020.to_csv(final, index=None, header=True)"
      ],
      "execution_count": null,
      "outputs": []
    },
    {
      "cell_type": "code",
      "metadata": {
        "colab": {
          "base_uri": "https://localhost:8080/"
        },
        "id": "g2PaSbszVrVO",
        "outputId": "88ceb590-7b8b-4f48-acd3-ee4acc1e8a87"
      },
      "source": [
        "!ls -al \"/gdrive/My Drive/data/data_2020.csv\""
      ],
      "execution_count": null,
      "outputs": [
        {
          "output_type": "stream",
          "text": [
            "-rw------- 1 root root 988308 Feb  2 10:42 '/gdrive/My Drive/data/data_2020.csv'\n"
          ],
          "name": "stdout"
        }
      ]
    }
  ]
}