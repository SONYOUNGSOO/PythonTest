{
  "nbformat": 4,
  "nbformat_minor": 0,
  "metadata": {
    "colab": {
      "name": "pandas.ipynb",
      "provenance": [],
      "collapsed_sections": [],
      "authorship_tag": "ABX9TyNNc7tQTCkeXrtjzekzmuSJ",
      "include_colab_link": true
    },
    "kernelspec": {
      "name": "python3",
      "display_name": "Python 3"
    },
    "language_info": {
      "name": "python"
    }
  },
  "cells": [
    {
      "cell_type": "markdown",
      "metadata": {
        "id": "view-in-github",
        "colab_type": "text"
      },
      "source": [
        "<a href=\"https://colab.research.google.com/github/SONYOUNGSOO/PythonTest/blob/main/pandas.ipynb\" target=\"_parent\"><img src=\"https://colab.research.google.com/assets/colab-badge.svg\" alt=\"Open In Colab\"/></a>"
      ]
    },
    {
      "cell_type": "markdown",
      "metadata": {
        "id": "gcKebXR5skg7"
      },
      "source": [
        "#1. Mount Drive"
      ]
    },
    {
      "cell_type": "code",
      "metadata": {
        "colab": {
          "base_uri": "https://localhost:8080/"
        },
        "id": "AMjm9oyesiXy",
        "outputId": "5ae902ec-3e5b-4139-91bc-a0282b30b52c"
      },
      "source": [
        "from google.colab import drive\n",
        "drive.mount('/gdrive')"
      ],
      "execution_count": 1,
      "outputs": [
        {
          "output_type": "stream",
          "text": [
            "Drive already mounted at /gdrive; to attempt to forcibly remount, call drive.mount(\"/gdrive\", force_remount=True).\n"
          ],
          "name": "stdout"
        }
      ]
    },
    {
      "cell_type": "code",
      "metadata": {
        "colab": {
          "base_uri": "https://localhost:8080/"
        },
        "id": "LGEBJ0oKtfa0",
        "outputId": "b4fd29cb-adc5-4080-e562-0279cd4fd2b7"
      },
      "source": [
        "!ls -al '/gdrive/My Drive/data'"
      ],
      "execution_count": 2,
      "outputs": [
        {
          "output_type": "stream",
          "text": [
            "total 2169852\n",
            "-rw------- 1 root root     52512 Feb  1 01:51 ETC_75_04_01_580736.csv\n",
            "-rw------- 1 root root 738556069 Apr  1  2020 TCS_11_03_02_377727.csv\n",
            "-rw------- 1 root root 699429059 Mar  1  2020 TCS_11_03_02_447126.csv\n",
            "-rw------- 1 root root 783889122 Feb  1  2020 TCS_11_03_02_598345.csv\n"
          ],
          "name": "stdout"
        }
      ]
    },
    {
      "cell_type": "markdown",
      "metadata": {
        "id": "Ag6AgQNUt3gs"
      },
      "source": [
        "#2. Load Data"
      ]
    },
    {
      "cell_type": "code",
      "metadata": {
        "id": "VKF2SV2ft5Ki"
      },
      "source": [
        "import pandas as pd"
      ],
      "execution_count": 3,
      "outputs": []
    },
    {
      "cell_type": "code",
      "metadata": {
        "id": "fGAytU_At-gt"
      },
      "source": [
        "#Load a file under \"data\" folder\n",
        "file = \"/gdrive/My Drive/data/TCS_11_03_02_598345.csv\"\n",
        "data = pd.read_csv(file, sep=\",\",encoding=\"euc-kr\") "
      ],
      "execution_count": 4,
      "outputs": []
    },
    {
      "cell_type": "code",
      "metadata": {
        "colab": {
          "base_uri": "https://localhost:8080/",
          "height": 204
        },
        "id": "JGTPp_vpu7q-",
        "outputId": "1738d376-6e60-405f-e3ab-c30184814ba1"
      },
      "source": [
        "data.head()"
      ],
      "execution_count": 5,
      "outputs": [
        {
          "output_type": "execute_result",
          "data": {
            "text/html": [
              "<div>\n",
              "<style scoped>\n",
              "    .dataframe tbody tr th:only-of-type {\n",
              "        vertical-align: middle;\n",
              "    }\n",
              "\n",
              "    .dataframe tbody tr th {\n",
              "        vertical-align: top;\n",
              "    }\n",
              "\n",
              "    .dataframe thead th {\n",
              "        text-align: right;\n",
              "    }\n",
              "</style>\n",
              "<table border=\"1\" class=\"dataframe\">\n",
              "  <thead>\n",
              "    <tr style=\"text-align: right;\">\n",
              "      <th></th>\n",
              "      <th>집계일자</th>\n",
              "      <th>집계시</th>\n",
              "      <th>출발영업소코드</th>\n",
              "      <th>도착영업소코드</th>\n",
              "      <th>TCS차종구분코드</th>\n",
              "      <th>통행시간</th>\n",
              "      <th>Unnamed: 6</th>\n",
              "    </tr>\n",
              "  </thead>\n",
              "  <tbody>\n",
              "    <tr>\n",
              "      <th>0</th>\n",
              "      <td>20200101</td>\n",
              "      <td>17</td>\n",
              "      <td>0</td>\n",
              "      <td>101</td>\n",
              "      <td>3</td>\n",
              "      <td>-1</td>\n",
              "      <td>NaN</td>\n",
              "    </tr>\n",
              "    <tr>\n",
              "      <th>1</th>\n",
              "      <td>20200101</td>\n",
              "      <td>17</td>\n",
              "      <td>0</td>\n",
              "      <td>101</td>\n",
              "      <td>1</td>\n",
              "      <td>-1</td>\n",
              "      <td>NaN</td>\n",
              "    </tr>\n",
              "    <tr>\n",
              "      <th>2</th>\n",
              "      <td>20200101</td>\n",
              "      <td>9</td>\n",
              "      <td>0</td>\n",
              "      <td>101</td>\n",
              "      <td>2</td>\n",
              "      <td>-1</td>\n",
              "      <td>NaN</td>\n",
              "    </tr>\n",
              "    <tr>\n",
              "      <th>3</th>\n",
              "      <td>20200101</td>\n",
              "      <td>9</td>\n",
              "      <td>0</td>\n",
              "      <td>101</td>\n",
              "      <td>1</td>\n",
              "      <td>-1</td>\n",
              "      <td>NaN</td>\n",
              "    </tr>\n",
              "    <tr>\n",
              "      <th>4</th>\n",
              "      <td>20200101</td>\n",
              "      <td>7</td>\n",
              "      <td>0</td>\n",
              "      <td>101</td>\n",
              "      <td>1</td>\n",
              "      <td>-1</td>\n",
              "      <td>NaN</td>\n",
              "    </tr>\n",
              "  </tbody>\n",
              "</table>\n",
              "</div>"
            ],
            "text/plain": [
              "       집계일자  집계시  출발영업소코드  도착영업소코드  TCS차종구분코드  통행시간  Unnamed: 6\n",
              "0  20200101   17        0      101          3    -1         NaN\n",
              "1  20200101   17        0      101          1    -1         NaN\n",
              "2  20200101    9        0      101          2    -1         NaN\n",
              "3  20200101    9        0      101          1    -1         NaN\n",
              "4  20200101    7        0      101          1    -1         NaN"
            ]
          },
          "metadata": {
            "tags": []
          },
          "execution_count": 5
        }
      ]
    },
    {
      "cell_type": "code",
      "metadata": {
        "colab": {
          "base_uri": "https://localhost:8080/",
          "height": 359
        },
        "id": "ivkJCXHfvMfb",
        "outputId": "1bcc5156-72fa-41cd-87f7-904637a92537"
      },
      "source": [
        "data.head(10)"
      ],
      "execution_count": 6,
      "outputs": [
        {
          "output_type": "execute_result",
          "data": {
            "text/html": [
              "<div>\n",
              "<style scoped>\n",
              "    .dataframe tbody tr th:only-of-type {\n",
              "        vertical-align: middle;\n",
              "    }\n",
              "\n",
              "    .dataframe tbody tr th {\n",
              "        vertical-align: top;\n",
              "    }\n",
              "\n",
              "    .dataframe thead th {\n",
              "        text-align: right;\n",
              "    }\n",
              "</style>\n",
              "<table border=\"1\" class=\"dataframe\">\n",
              "  <thead>\n",
              "    <tr style=\"text-align: right;\">\n",
              "      <th></th>\n",
              "      <th>집계일자</th>\n",
              "      <th>집계시</th>\n",
              "      <th>출발영업소코드</th>\n",
              "      <th>도착영업소코드</th>\n",
              "      <th>TCS차종구분코드</th>\n",
              "      <th>통행시간</th>\n",
              "      <th>Unnamed: 6</th>\n",
              "    </tr>\n",
              "  </thead>\n",
              "  <tbody>\n",
              "    <tr>\n",
              "      <th>0</th>\n",
              "      <td>20200101</td>\n",
              "      <td>17</td>\n",
              "      <td>0</td>\n",
              "      <td>101</td>\n",
              "      <td>3</td>\n",
              "      <td>-1</td>\n",
              "      <td>NaN</td>\n",
              "    </tr>\n",
              "    <tr>\n",
              "      <th>1</th>\n",
              "      <td>20200101</td>\n",
              "      <td>17</td>\n",
              "      <td>0</td>\n",
              "      <td>101</td>\n",
              "      <td>1</td>\n",
              "      <td>-1</td>\n",
              "      <td>NaN</td>\n",
              "    </tr>\n",
              "    <tr>\n",
              "      <th>2</th>\n",
              "      <td>20200101</td>\n",
              "      <td>9</td>\n",
              "      <td>0</td>\n",
              "      <td>101</td>\n",
              "      <td>2</td>\n",
              "      <td>-1</td>\n",
              "      <td>NaN</td>\n",
              "    </tr>\n",
              "    <tr>\n",
              "      <th>3</th>\n",
              "      <td>20200101</td>\n",
              "      <td>9</td>\n",
              "      <td>0</td>\n",
              "      <td>101</td>\n",
              "      <td>1</td>\n",
              "      <td>-1</td>\n",
              "      <td>NaN</td>\n",
              "    </tr>\n",
              "    <tr>\n",
              "      <th>4</th>\n",
              "      <td>20200101</td>\n",
              "      <td>7</td>\n",
              "      <td>0</td>\n",
              "      <td>101</td>\n",
              "      <td>1</td>\n",
              "      <td>-1</td>\n",
              "      <td>NaN</td>\n",
              "    </tr>\n",
              "    <tr>\n",
              "      <th>5</th>\n",
              "      <td>20200101</td>\n",
              "      <td>9</td>\n",
              "      <td>0</td>\n",
              "      <td>101</td>\n",
              "      <td>3</td>\n",
              "      <td>-1</td>\n",
              "      <td>NaN</td>\n",
              "    </tr>\n",
              "    <tr>\n",
              "      <th>6</th>\n",
              "      <td>20200101</td>\n",
              "      <td>6</td>\n",
              "      <td>0</td>\n",
              "      <td>101</td>\n",
              "      <td>1</td>\n",
              "      <td>-1</td>\n",
              "      <td>NaN</td>\n",
              "    </tr>\n",
              "    <tr>\n",
              "      <th>7</th>\n",
              "      <td>20200101</td>\n",
              "      <td>6</td>\n",
              "      <td>0</td>\n",
              "      <td>101</td>\n",
              "      <td>3</td>\n",
              "      <td>-1</td>\n",
              "      <td>NaN</td>\n",
              "    </tr>\n",
              "    <tr>\n",
              "      <th>8</th>\n",
              "      <td>20200101</td>\n",
              "      <td>7</td>\n",
              "      <td>0</td>\n",
              "      <td>101</td>\n",
              "      <td>3</td>\n",
              "      <td>-1</td>\n",
              "      <td>NaN</td>\n",
              "    </tr>\n",
              "    <tr>\n",
              "      <th>9</th>\n",
              "      <td>20200101</td>\n",
              "      <td>19</td>\n",
              "      <td>0</td>\n",
              "      <td>101</td>\n",
              "      <td>1</td>\n",
              "      <td>-1</td>\n",
              "      <td>NaN</td>\n",
              "    </tr>\n",
              "  </tbody>\n",
              "</table>\n",
              "</div>"
            ],
            "text/plain": [
              "       집계일자  집계시  출발영업소코드  도착영업소코드  TCS차종구분코드  통행시간  Unnamed: 6\n",
              "0  20200101   17        0      101          3    -1         NaN\n",
              "1  20200101   17        0      101          1    -1         NaN\n",
              "2  20200101    9        0      101          2    -1         NaN\n",
              "3  20200101    9        0      101          1    -1         NaN\n",
              "4  20200101    7        0      101          1    -1         NaN\n",
              "5  20200101    9        0      101          3    -1         NaN\n",
              "6  20200101    6        0      101          1    -1         NaN\n",
              "7  20200101    6        0      101          3    -1         NaN\n",
              "8  20200101    7        0      101          3    -1         NaN\n",
              "9  20200101   19        0      101          1    -1         NaN"
            ]
          },
          "metadata": {
            "tags": []
          },
          "execution_count": 6
        }
      ]
    },
    {
      "cell_type": "code",
      "metadata": {
        "colab": {
          "base_uri": "https://localhost:8080/",
          "height": 204
        },
        "id": "sIHzKFJovP1u",
        "outputId": "2d52fcf9-4620-4632-deb9-a8c96b6fd82a"
      },
      "source": [
        "data.tail()"
      ],
      "execution_count": 7,
      "outputs": [
        {
          "output_type": "execute_result",
          "data": {
            "text/html": [
              "<div>\n",
              "<style scoped>\n",
              "    .dataframe tbody tr th:only-of-type {\n",
              "        vertical-align: middle;\n",
              "    }\n",
              "\n",
              "    .dataframe tbody tr th {\n",
              "        vertical-align: top;\n",
              "    }\n",
              "\n",
              "    .dataframe thead th {\n",
              "        text-align: right;\n",
              "    }\n",
              "</style>\n",
              "<table border=\"1\" class=\"dataframe\">\n",
              "  <thead>\n",
              "    <tr style=\"text-align: right;\">\n",
              "      <th></th>\n",
              "      <th>집계일자</th>\n",
              "      <th>집계시</th>\n",
              "      <th>출발영업소코드</th>\n",
              "      <th>도착영업소코드</th>\n",
              "      <th>TCS차종구분코드</th>\n",
              "      <th>통행시간</th>\n",
              "      <th>Unnamed: 6</th>\n",
              "    </tr>\n",
              "  </thead>\n",
              "  <tbody>\n",
              "    <tr>\n",
              "      <th>25596211</th>\n",
              "      <td>20200131</td>\n",
              "      <td>9</td>\n",
              "      <td>272</td>\n",
              "      <td>641</td>\n",
              "      <td>1</td>\n",
              "      <td>8388</td>\n",
              "      <td>NaN</td>\n",
              "    </tr>\n",
              "    <tr>\n",
              "      <th>25596212</th>\n",
              "      <td>20200131</td>\n",
              "      <td>15</td>\n",
              "      <td>137</td>\n",
              "      <td>245</td>\n",
              "      <td>3</td>\n",
              "      <td>2341</td>\n",
              "      <td>NaN</td>\n",
              "    </tr>\n",
              "    <tr>\n",
              "      <th>25596213</th>\n",
              "      <td>20200131</td>\n",
              "      <td>6</td>\n",
              "      <td>127</td>\n",
              "      <td>612</td>\n",
              "      <td>5</td>\n",
              "      <td>42535</td>\n",
              "      <td>NaN</td>\n",
              "    </tr>\n",
              "    <tr>\n",
              "      <th>25596214</th>\n",
              "      <td>20200131</td>\n",
              "      <td>6</td>\n",
              "      <td>671</td>\n",
              "      <td>127</td>\n",
              "      <td>1</td>\n",
              "      <td>9494</td>\n",
              "      <td>NaN</td>\n",
              "    </tr>\n",
              "    <tr>\n",
              "      <th>25596215</th>\n",
              "      <td>20200131</td>\n",
              "      <td>17</td>\n",
              "      <td>212</td>\n",
              "      <td>253</td>\n",
              "      <td>3</td>\n",
              "      <td>833</td>\n",
              "      <td>NaN</td>\n",
              "    </tr>\n",
              "  </tbody>\n",
              "</table>\n",
              "</div>"
            ],
            "text/plain": [
              "              집계일자  집계시  출발영업소코드  도착영업소코드  TCS차종구분코드   통행시간  Unnamed: 6\n",
              "25596211  20200131    9      272      641          1   8388         NaN\n",
              "25596212  20200131   15      137      245          3   2341         NaN\n",
              "25596213  20200131    6      127      612          5  42535         NaN\n",
              "25596214  20200131    6      671      127          1   9494         NaN\n",
              "25596215  20200131   17      212      253          3    833         NaN"
            ]
          },
          "metadata": {
            "tags": []
          },
          "execution_count": 7
        }
      ]
    },
    {
      "cell_type": "code",
      "metadata": {
        "colab": {
          "base_uri": "https://localhost:8080/"
        },
        "id": "uyYIdQxkvRib",
        "outputId": "c49d4d6e-5a8e-4ffa-d68e-4438988c1cdb"
      },
      "source": [
        "data.info()"
      ],
      "execution_count": 8,
      "outputs": [
        {
          "output_type": "stream",
          "text": [
            "<class 'pandas.core.frame.DataFrame'>\n",
            "RangeIndex: 25596216 entries, 0 to 25596215\n",
            "Data columns (total 7 columns):\n",
            " #   Column      Dtype  \n",
            "---  ------      -----  \n",
            " 0   집계일자        int64  \n",
            " 1   집계시         int64  \n",
            " 2   출발영업소코드     int64  \n",
            " 3   도착영업소코드     int64  \n",
            " 4   TCS차종구분코드   int64  \n",
            " 5   통행시간        int64  \n",
            " 6   Unnamed: 6  float64\n",
            "dtypes: float64(1), int64(6)\n",
            "memory usage: 1.3 GB\n"
          ],
          "name": "stdout"
        }
      ]
    },
    {
      "cell_type": "markdown",
      "metadata": {
        "id": "V1DoCIm4vrgP"
      },
      "source": [
        "#3.Clean Data"
      ]
    },
    {
      "cell_type": "code",
      "metadata": {
        "colab": {
          "base_uri": "https://localhost:8080/"
        },
        "id": "S7rz88lovvzW",
        "outputId": "751badd0-b64f-4b75-ed63-4a6d19fad5ef"
      },
      "source": [
        "#Checking null value\n",
        "data.isnull().sum(axis=0)"
      ],
      "execution_count": 6,
      "outputs": [
        {
          "output_type": "execute_result",
          "data": {
            "text/plain": [
              "집계일자                 0\n",
              "집계시                  0\n",
              "출발영업소코드              0\n",
              "도착영업소코드              0\n",
              "TCS차종구분코드            0\n",
              "통행시간                 0\n",
              "Unnamed: 6    25596216\n",
              "dtype: int64"
            ]
          },
          "metadata": {
            "tags": []
          },
          "execution_count": 6
        }
      ]
    },
    {
      "cell_type": "code",
      "metadata": {
        "colab": {
          "base_uri": "https://localhost:8080/"
        },
        "id": "7Y9SqAhVwaN_",
        "outputId": "9eca6607-e020-41f2-c2c6-8a9f7b1634a7"
      },
      "source": [
        "#show columns of the dta frame\n",
        "data.columns "
      ],
      "execution_count": 7,
      "outputs": [
        {
          "output_type": "execute_result",
          "data": {
            "text/plain": [
              "Index(['집계일자', '집계시', '출발영업소코드', '도착영업소코드', 'TCS차종구분코드', '통행시간', 'Unnamed: 6'], dtype='object')"
            ]
          },
          "metadata": {
            "tags": []
          },
          "execution_count": 7
        }
      ]
    },
    {
      "cell_type": "code",
      "metadata": {
        "colab": {
          "base_uri": "https://localhost:8080/",
          "height": 35
        },
        "id": "tson85qYw5Ff",
        "outputId": "cd8d7243-eb68-4e08-ea59-096a2b3f8a7a"
      },
      "source": [
        "data.columns[1]"
      ],
      "execution_count": 8,
      "outputs": [
        {
          "output_type": "execute_result",
          "data": {
            "application/vnd.google.colaboratory.intrinsic+json": {
              "type": "string"
            },
            "text/plain": [
              "'집계시'"
            ]
          },
          "metadata": {
            "tags": []
          },
          "execution_count": 8
        }
      ]
    },
    {
      "cell_type": "code",
      "metadata": {
        "id": "zJHQIshZw6NG"
      },
      "source": [
        "#drop smoe columns with null values\n",
        "data_clean = data.drop(['Unnamed: 6'],axis ='columns')"
      ],
      "execution_count": 10,
      "outputs": []
    },
    {
      "cell_type": "code",
      "metadata": {
        "colab": {
          "base_uri": "https://localhost:8080/",
          "height": 204
        },
        "id": "2JKB3WvwxRGQ",
        "outputId": "b759351c-03a0-4a2f-edbf-3b37d7102b6b"
      },
      "source": [
        "data_clean.head()"
      ],
      "execution_count": 11,
      "outputs": [
        {
          "output_type": "execute_result",
          "data": {
            "text/html": [
              "<div>\n",
              "<style scoped>\n",
              "    .dataframe tbody tr th:only-of-type {\n",
              "        vertical-align: middle;\n",
              "    }\n",
              "\n",
              "    .dataframe tbody tr th {\n",
              "        vertical-align: top;\n",
              "    }\n",
              "\n",
              "    .dataframe thead th {\n",
              "        text-align: right;\n",
              "    }\n",
              "</style>\n",
              "<table border=\"1\" class=\"dataframe\">\n",
              "  <thead>\n",
              "    <tr style=\"text-align: right;\">\n",
              "      <th></th>\n",
              "      <th>집계일자</th>\n",
              "      <th>집계시</th>\n",
              "      <th>출발영업소코드</th>\n",
              "      <th>도착영업소코드</th>\n",
              "      <th>TCS차종구분코드</th>\n",
              "      <th>통행시간</th>\n",
              "    </tr>\n",
              "  </thead>\n",
              "  <tbody>\n",
              "    <tr>\n",
              "      <th>0</th>\n",
              "      <td>20200101</td>\n",
              "      <td>17</td>\n",
              "      <td>0</td>\n",
              "      <td>101</td>\n",
              "      <td>3</td>\n",
              "      <td>-1</td>\n",
              "    </tr>\n",
              "    <tr>\n",
              "      <th>1</th>\n",
              "      <td>20200101</td>\n",
              "      <td>17</td>\n",
              "      <td>0</td>\n",
              "      <td>101</td>\n",
              "      <td>1</td>\n",
              "      <td>-1</td>\n",
              "    </tr>\n",
              "    <tr>\n",
              "      <th>2</th>\n",
              "      <td>20200101</td>\n",
              "      <td>9</td>\n",
              "      <td>0</td>\n",
              "      <td>101</td>\n",
              "      <td>2</td>\n",
              "      <td>-1</td>\n",
              "    </tr>\n",
              "    <tr>\n",
              "      <th>3</th>\n",
              "      <td>20200101</td>\n",
              "      <td>9</td>\n",
              "      <td>0</td>\n",
              "      <td>101</td>\n",
              "      <td>1</td>\n",
              "      <td>-1</td>\n",
              "    </tr>\n",
              "    <tr>\n",
              "      <th>4</th>\n",
              "      <td>20200101</td>\n",
              "      <td>7</td>\n",
              "      <td>0</td>\n",
              "      <td>101</td>\n",
              "      <td>1</td>\n",
              "      <td>-1</td>\n",
              "    </tr>\n",
              "  </tbody>\n",
              "</table>\n",
              "</div>"
            ],
            "text/plain": [
              "       집계일자  집계시  출발영업소코드  도착영업소코드  TCS차종구분코드  통행시간\n",
              "0  20200101   17        0      101          3    -1\n",
              "1  20200101   17        0      101          1    -1\n",
              "2  20200101    9        0      101          2    -1\n",
              "3  20200101    9        0      101          1    -1\n",
              "4  20200101    7        0      101          1    -1"
            ]
          },
          "metadata": {
            "tags": []
          },
          "execution_count": 11
        }
      ]
    },
    {
      "cell_type": "code",
      "metadata": {
        "colab": {
          "base_uri": "https://localhost:8080/"
        },
        "id": "Gp-IAiSHxaJK",
        "outputId": "9b8c9d26-f47e-429f-c0ed-5206c42fd415"
      },
      "source": [
        "(data_clean.통행시간 > 0).unique()"
      ],
      "execution_count": 13,
      "outputs": [
        {
          "output_type": "execute_result",
          "data": {
            "text/plain": [
              "array([False,  True])"
            ]
          },
          "metadata": {
            "tags": []
          },
          "execution_count": 13
        }
      ]
    },
    {
      "cell_type": "code",
      "metadata": {
        "colab": {
          "base_uri": "https://localhost:8080/"
        },
        "id": "Pg-bU-mJyR1Q",
        "outputId": "3461f9c2-f9fb-4ddb-9957-328baefb2b16"
      },
      "source": [
        "data_clean.통행시간 > 0"
      ],
      "execution_count": 12,
      "outputs": [
        {
          "output_type": "execute_result",
          "data": {
            "text/plain": [
              "0           False\n",
              "1           False\n",
              "2           False\n",
              "3           False\n",
              "4           False\n",
              "            ...  \n",
              "25596211     True\n",
              "25596212     True\n",
              "25596213     True\n",
              "25596214     True\n",
              "25596215     True\n",
              "Name: 통행시간, Length: 25596216, dtype: bool"
            ]
          },
          "metadata": {
            "tags": []
          },
          "execution_count": 12
        }
      ]
    },
    {
      "cell_type": "code",
      "metadata": {
        "id": "Vz2CT-IgyA5f"
      },
      "source": [
        "data_clean = data_clean[data_clean.통행시간 > 0]"
      ],
      "execution_count": 14,
      "outputs": []
    },
    {
      "cell_type": "code",
      "metadata": {
        "colab": {
          "base_uri": "https://localhost:8080/",
          "height": 204
        },
        "id": "O0gMwRM1yIy7",
        "outputId": "ff7e02c6-a349-48e2-87a4-c2a1dc5b2c14"
      },
      "source": [
        "data_clean.head()"
      ],
      "execution_count": 15,
      "outputs": [
        {
          "output_type": "execute_result",
          "data": {
            "text/html": [
              "<div>\n",
              "<style scoped>\n",
              "    .dataframe tbody tr th:only-of-type {\n",
              "        vertical-align: middle;\n",
              "    }\n",
              "\n",
              "    .dataframe tbody tr th {\n",
              "        vertical-align: top;\n",
              "    }\n",
              "\n",
              "    .dataframe thead th {\n",
              "        text-align: right;\n",
              "    }\n",
              "</style>\n",
              "<table border=\"1\" class=\"dataframe\">\n",
              "  <thead>\n",
              "    <tr style=\"text-align: right;\">\n",
              "      <th></th>\n",
              "      <th>집계일자</th>\n",
              "      <th>집계시</th>\n",
              "      <th>출발영업소코드</th>\n",
              "      <th>도착영업소코드</th>\n",
              "      <th>TCS차종구분코드</th>\n",
              "      <th>통행시간</th>\n",
              "    </tr>\n",
              "  </thead>\n",
              "  <tbody>\n",
              "    <tr>\n",
              "      <th>5853</th>\n",
              "      <td>20200101</td>\n",
              "      <td>22</td>\n",
              "      <td>101</td>\n",
              "      <td>102</td>\n",
              "      <td>6</td>\n",
              "      <td>632</td>\n",
              "    </tr>\n",
              "    <tr>\n",
              "      <th>5854</th>\n",
              "      <td>20200101</td>\n",
              "      <td>22</td>\n",
              "      <td>101</td>\n",
              "      <td>102</td>\n",
              "      <td>3</td>\n",
              "      <td>633</td>\n",
              "    </tr>\n",
              "    <tr>\n",
              "      <th>5855</th>\n",
              "      <td>20200101</td>\n",
              "      <td>16</td>\n",
              "      <td>101</td>\n",
              "      <td>102</td>\n",
              "      <td>6</td>\n",
              "      <td>650</td>\n",
              "    </tr>\n",
              "    <tr>\n",
              "      <th>5856</th>\n",
              "      <td>20200101</td>\n",
              "      <td>16</td>\n",
              "      <td>101</td>\n",
              "      <td>102</td>\n",
              "      <td>1</td>\n",
              "      <td>623</td>\n",
              "    </tr>\n",
              "    <tr>\n",
              "      <th>5857</th>\n",
              "      <td>20200101</td>\n",
              "      <td>16</td>\n",
              "      <td>101</td>\n",
              "      <td>102</td>\n",
              "      <td>3</td>\n",
              "      <td>626</td>\n",
              "    </tr>\n",
              "  </tbody>\n",
              "</table>\n",
              "</div>"
            ],
            "text/plain": [
              "          집계일자  집계시  출발영업소코드  도착영업소코드  TCS차종구분코드  통행시간\n",
              "5853  20200101   22      101      102          6   632\n",
              "5854  20200101   22      101      102          3   633\n",
              "5855  20200101   16      101      102          6   650\n",
              "5856  20200101   16      101      102          1   623\n",
              "5857  20200101   16      101      102          3   626"
            ]
          },
          "metadata": {
            "tags": []
          },
          "execution_count": 15
        }
      ]
    },
    {
      "cell_type": "code",
      "metadata": {
        "id": "-WuAdQY3yLj0"
      },
      "source": [
        ""
      ],
      "execution_count": null,
      "outputs": []
    },
    {
      "cell_type": "code",
      "metadata": {
        "id": "O-lvekomx1av"
      },
      "source": [
        ""
      ],
      "execution_count": null,
      "outputs": []
    }
  ]
}